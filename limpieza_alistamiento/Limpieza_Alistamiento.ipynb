{
 "cells": [
  {
   "cell_type": "markdown",
   "metadata": {},
   "source": [
    "# Limpieza y Alistamiento de Datos\n",
    "### Datos ICFES Pacifico 2014-2016"
   ]
  },
  {
   "cell_type": "code",
   "execution_count": 1,
   "metadata": {},
   "outputs": [
    {
     "name": "stderr",
     "output_type": "stream",
     "text": [
      "/var/folders/rk/1txw87pj7sgdsrd0ny5897580000gn/T/ipykernel_61924/1492400551.py:1: DeprecationWarning: \n",
      "Pyarrow will become a required dependency of pandas in the next major release of pandas (pandas 3.0),\n",
      "(to allow more performant data types, such as the Arrow string type, and better interoperability with other libraries)\n",
      "but was not found to be installed on your system.\n",
      "If this would cause problems for you,\n",
      "please provide us feedback at https://github.com/pandas-dev/pandas/issues/54466\n",
      "        \n",
      "  import pandas as pd\n"
     ]
    }
   ],
   "source": [
    "import pandas as pd\n",
    "import matplotlib.pyplot as plt"
   ]
  },
  {
   "cell_type": "markdown",
   "metadata": {},
   "source": [
    "## 0. Importación de Datos e informacion del df"
   ]
  },
  {
   "cell_type": "code",
   "execution_count": 2,
   "metadata": {},
   "outputs": [],
   "source": [
    "df = pd.read_csv('Pacifico.csv')"
   ]
  },
  {
   "cell_type": "code",
   "execution_count": 3,
   "metadata": {},
   "outputs": [
    {
     "name": "stdout",
     "output_type": "stream",
     "text": [
      "El numero de observaciones es: 259096\n"
     ]
    }
   ],
   "source": [
    "# Contar el número de observaciones (filas)\n",
    "num_observations = len(df)\n",
    "\n",
    "# Mostrar el resultado\n",
    "print(f\"El numero de observaciones es: {num_observations}\")"
   ]
  },
  {
   "cell_type": "code",
   "execution_count": 4,
   "metadata": {},
   "outputs": [
    {
     "name": "stdout",
     "output_type": "stream",
     "text": [
      "<class 'pandas.core.frame.DataFrame'>\n",
      "RangeIndex: 259096 entries, 0 to 259095\n",
      "Data columns (total 51 columns):\n",
      " #   Column                         Non-Null Count   Dtype  \n",
      "---  ------                         --------------   -----  \n",
      " 0   periodo                        259096 non-null  int64  \n",
      " 1   estu_tipodocumento             259096 non-null  object \n",
      " 2   estu_consecutivo               259096 non-null  object \n",
      " 3   cole_area_ubicacion            259091 non-null  object \n",
      " 4   cole_bilingue                  231118 non-null  object \n",
      " 5   cole_calendario                259096 non-null  object \n",
      " 6   cole_caracter                  257199 non-null  object \n",
      " 7   cole_cod_dane_establecimiento  258934 non-null  float64\n",
      " 8   cole_cod_dane_sede             259096 non-null  int64  \n",
      " 9   cole_cod_depto_ubicacion       259096 non-null  int64  \n",
      " 10  cole_cod_mcpio_ubicacion       259096 non-null  int64  \n",
      " 11  cole_codigo_icfes              259096 non-null  int64  \n",
      " 12  cole_depto_ubicacion           259096 non-null  object \n",
      " 13  cole_genero                    259096 non-null  object \n",
      " 14  cole_jornada                   259096 non-null  object \n",
      " 15  cole_mcpio_ubicacion           259096 non-null  object \n",
      " 16  cole_naturaleza                259096 non-null  object \n",
      " 17  cole_nombre_establecimiento    259096 non-null  object \n",
      " 18  cole_nombre_sede               259096 non-null  object \n",
      " 19  cole_sede_principal            259096 non-null  object \n",
      " 20  estu_cod_depto_presentacion    258128 non-null  float64\n",
      " 21  estu_cod_mcpio_presentacion    259052 non-null  float64\n",
      " 22  estu_cod_reside_depto          259093 non-null  float64\n",
      " 23  estu_cod_reside_mcpio          259093 non-null  float64\n",
      " 24  estu_depto_presentacion        259052 non-null  object \n",
      " 25  estu_depto_reside              259093 non-null  object \n",
      " 26  estu_estadoinvestigacion       259096 non-null  object \n",
      " 27  estu_estudiante                259096 non-null  object \n",
      " 28  estu_fechanacimiento           259096 non-null  object \n",
      " 29  estu_genero                    258635 non-null  object \n",
      " 30  estu_mcpio_presentacion        259051 non-null  object \n",
      " 31  estu_mcpio_reside              259093 non-null  object \n",
      " 32  estu_nacionalidad              259096 non-null  object \n",
      " 33  estu_pais_reside               259096 non-null  object \n",
      " 34  estu_privado_libertad          259096 non-null  object \n",
      " 35  fami_cuartoshogar              258085 non-null  object \n",
      " 36  fami_educacionmadre            258084 non-null  object \n",
      " 37  fami_educacionpadre            258084 non-null  object \n",
      " 38  fami_estratovivienda           258378 non-null  object \n",
      " 39  fami_personashogar             258084 non-null  object \n",
      " 40  fami_tieneautomovil            258084 non-null  object \n",
      " 41  fami_tienecomputador           258084 non-null  object \n",
      " 42  fami_tieneinternet             258084 non-null  object \n",
      " 43  fami_tienelavadora             258084 non-null  object \n",
      " 44  desemp_ingles                  259095 non-null  object \n",
      " 45  punt_ingles                    258172 non-null  float64\n",
      " 46  punt_matematicas               259096 non-null  float64\n",
      " 47  punt_sociales_ciudadanas       248845 non-null  float64\n",
      " 48  punt_c_naturales               248787 non-null  float64\n",
      " 49  punt_lectura_critica           248787 non-null  float64\n",
      " 50  punt_global                    248787 non-null  float64\n",
      "dtypes: float64(11), int64(5), object(35)\n",
      "memory usage: 100.8+ MB\n",
      "None\n"
     ]
    }
   ],
   "source": [
    "print(df.info())"
   ]
  },
  {
   "cell_type": "markdown",
   "metadata": {},
   "source": [
    "## 1. Valores Faltantes"
   ]
  },
  {
   "cell_type": "code",
   "execution_count": 5,
   "metadata": {},
   "outputs": [
    {
     "name": "stdout",
     "output_type": "stream",
     "text": [
      "periodo                              0\n",
      "estu_tipodocumento                   0\n",
      "estu_consecutivo                     0\n",
      "cole_area_ubicacion                  5\n",
      "cole_bilingue                    27978\n",
      "cole_calendario                      0\n",
      "cole_caracter                     1897\n",
      "cole_cod_dane_establecimiento      162\n",
      "cole_cod_dane_sede                   0\n",
      "cole_cod_depto_ubicacion             0\n",
      "cole_cod_mcpio_ubicacion             0\n",
      "cole_codigo_icfes                    0\n",
      "cole_depto_ubicacion                 0\n",
      "cole_genero                          0\n",
      "cole_jornada                         0\n",
      "cole_mcpio_ubicacion                 0\n",
      "cole_naturaleza                      0\n",
      "cole_nombre_establecimiento          0\n",
      "cole_nombre_sede                     0\n",
      "cole_sede_principal                  0\n",
      "estu_cod_depto_presentacion        968\n",
      "estu_cod_mcpio_presentacion         44\n",
      "estu_cod_reside_depto                3\n",
      "estu_cod_reside_mcpio                3\n",
      "estu_depto_presentacion             44\n",
      "estu_depto_reside                    3\n",
      "estu_estadoinvestigacion             0\n",
      "estu_estudiante                      0\n",
      "estu_fechanacimiento                 0\n",
      "estu_genero                        461\n",
      "estu_mcpio_presentacion             45\n",
      "estu_mcpio_reside                    3\n",
      "estu_nacionalidad                    0\n",
      "estu_pais_reside                     0\n",
      "estu_privado_libertad                0\n",
      "fami_cuartoshogar                 1011\n",
      "fami_educacionmadre               1012\n",
      "fami_educacionpadre               1012\n",
      "fami_estratovivienda               718\n",
      "fami_personashogar                1012\n",
      "fami_tieneautomovil               1012\n",
      "fami_tienecomputador              1012\n",
      "fami_tieneinternet                1012\n",
      "fami_tienelavadora                1012\n",
      "desemp_ingles                        1\n",
      "punt_ingles                        924\n",
      "punt_matematicas                     0\n",
      "punt_sociales_ciudadanas         10251\n",
      "punt_c_naturales                 10309\n",
      "punt_lectura_critica             10309\n",
      "punt_global                      10309\n",
      "dtype: int64\n"
     ]
    }
   ],
   "source": [
    "\n",
    "print(df.isnull().sum())"
   ]
  },
  {
   "cell_type": "markdown",
   "metadata": {},
   "source": [
    "Se eliminan las filas donde no esta el valor global, dado que esta es la base de las preguntas que se busca responder."
   ]
  },
  {
   "cell_type": "code",
   "execution_count": 6,
   "metadata": {},
   "outputs": [
    {
     "name": "stdout",
     "output_type": "stream",
     "text": [
      "Numero de columnas antes de la limpieza: 259096\n",
      "Numero de columnas despues de la limpieza: 248787\n"
     ]
    }
   ],
   "source": [
    "# Eliminar filas donde 'PUNT_GLOBAL' tiene valores faltantes\n",
    "df_cleaned = df.dropna(subset=['punt_global'])\n",
    "\n",
    "# Mostrar el número de filas antes y después de eliminar valores faltantes\n",
    "print(f\"Numero de columnas antes de la limpieza: {len(df)}\")\n",
    "print(f\"Numero de columnas despues de la limpieza: {len(df_cleaned)}\")\n"
   ]
  },
  {
   "cell_type": "markdown",
   "metadata": {},
   "source": [
    "Si se eliminan las filas faltantes de $fami tienelavadora$ se logra eliminar las filas faltantes de las demas variables socieconomicas."
   ]
  },
  {
   "cell_type": "code",
   "execution_count": 7,
   "metadata": {},
   "outputs": [],
   "source": [
    "# Eliminar filas donde 'fami_tienelavadora' tiene valores faltantes\n",
    "df_cleaned = df_cleaned.dropna(subset=['fami_tienelavadora'])"
   ]
  },
  {
   "cell_type": "markdown",
   "metadata": {},
   "source": [
    "Se elimina los valores con muchas filas faltantes. En esta parte sale la variable de $cole bilingue$"
   ]
  },
  {
   "cell_type": "code",
   "execution_count": 8,
   "metadata": {},
   "outputs": [
    {
     "name": "stdout",
     "output_type": "stream",
     "text": [
      "Columns to be dropped due to too many missing values (more than 90% missing):\n",
      "Index([], dtype='object')\n"
     ]
    }
   ],
   "source": [
    "# 1. Eliminar columnas con demasiados valores faltantes (por ejemplo, más del 90% de valores faltantes)\n",
    "threshold = len(df) * 0.90\n",
    "df_cleaned = df_cleaned.dropna(axis=1, thresh=threshold)\n",
    "\n",
    "# Identificar columnas que serán eliminadas\n",
    "columns_to_drop = df_cleaned.columns[df_cleaned.isnull().sum() > threshold]\n",
    "\n",
    "# Mostrar columnas que serán eliminadas\n",
    "print(\"Columns to be dropped due to too many missing values (more than 90% missing):\")\n",
    "print(columns_to_drop)"
   ]
  },
  {
   "cell_type": "markdown",
   "metadata": {},
   "source": [
    "Se elimina los otros datos nulos de las demas columnas"
   ]
  },
  {
   "cell_type": "code",
   "execution_count": 9,
   "metadata": {},
   "outputs": [],
   "source": [
    "# Elimino los datos nulos de las columnas de presentacion\n",
    "df_cleaned = df_cleaned.dropna(subset=['estu_cod_depto_presentacion'])\n",
    "df_cleaned = df_cleaned.dropna(subset=['estu_cod_mcpio_presentacion'])\n",
    "df_cleaned = df_cleaned.dropna(subset=['estu_mcpio_reside'])\n",
    "df_cleaned = df_cleaned.dropna(subset=['cole_caracter'])\n",
    "df_cleaned = df_cleaned.dropna(subset=['estu_genero'])"
   ]
  },
  {
   "cell_type": "markdown",
   "metadata": {},
   "source": [
    "Verificamos si logro limpiar la base por completo."
   ]
  },
  {
   "cell_type": "code",
   "execution_count": 10,
   "metadata": {},
   "outputs": [
    {
     "name": "stdout",
     "output_type": "stream",
     "text": [
      "periodo                          0\n",
      "estu_tipodocumento               0\n",
      "estu_consecutivo                 0\n",
      "cole_area_ubicacion              0\n",
      "cole_calendario                  0\n",
      "cole_caracter                    0\n",
      "cole_cod_dane_establecimiento    0\n",
      "cole_cod_dane_sede               0\n",
      "cole_cod_depto_ubicacion         0\n",
      "cole_cod_mcpio_ubicacion         0\n",
      "cole_codigo_icfes                0\n",
      "cole_depto_ubicacion             0\n",
      "cole_genero                      0\n",
      "cole_jornada                     0\n",
      "cole_mcpio_ubicacion             0\n",
      "cole_naturaleza                  0\n",
      "cole_nombre_establecimiento      0\n",
      "cole_nombre_sede                 0\n",
      "cole_sede_principal              0\n",
      "estu_cod_depto_presentacion      0\n",
      "estu_cod_mcpio_presentacion      0\n",
      "estu_cod_reside_depto            0\n",
      "estu_cod_reside_mcpio            0\n",
      "estu_depto_presentacion          0\n",
      "estu_depto_reside                0\n",
      "estu_estadoinvestigacion         0\n",
      "estu_estudiante                  0\n",
      "estu_fechanacimiento             0\n",
      "estu_genero                      0\n",
      "estu_mcpio_presentacion          0\n",
      "estu_mcpio_reside                0\n",
      "estu_nacionalidad                0\n",
      "estu_pais_reside                 0\n",
      "estu_privado_libertad            0\n",
      "fami_cuartoshogar                0\n",
      "fami_educacionmadre              0\n",
      "fami_educacionpadre              0\n",
      "fami_estratovivienda             0\n",
      "fami_personashogar               0\n",
      "fami_tieneautomovil              0\n",
      "fami_tienecomputador             0\n",
      "fami_tieneinternet               0\n",
      "fami_tienelavadora               0\n",
      "desemp_ingles                    0\n",
      "punt_ingles                      0\n",
      "punt_matematicas                 0\n",
      "punt_sociales_ciudadanas         0\n",
      "punt_c_naturales                 0\n",
      "punt_lectura_critica             0\n",
      "punt_global                      0\n",
      "dtype: int64\n"
     ]
    }
   ],
   "source": [
    "# Check for missing values\n",
    "print(df_cleaned.isnull().sum())"
   ]
  },
  {
   "cell_type": "markdown",
   "metadata": {},
   "source": [
    "## 2. Criterios de Selección"
   ]
  },
  {
   "cell_type": "markdown",
   "metadata": {},
   "source": [
    "#### Residencia y presentación de la prueba"
   ]
  },
  {
   "cell_type": "markdown",
   "metadata": {},
   "source": [
    "Quitamos los estudiantes que no residen o que no lo presentaron en el pacifico"
   ]
  },
  {
   "cell_type": "code",
   "execution_count": 11,
   "metadata": {},
   "outputs": [
    {
     "name": "stderr",
     "output_type": "stream",
     "text": [
      "/var/folders/rk/1txw87pj7sgdsrd0ny5897580000gn/T/ipykernel_61924/1896747157.py:3: UserWarning: Boolean Series key will be reindexed to match DataFrame index.\n",
      "  df_cleaned = df_cleaned[df_cleaned['estu_depto_presentacion'].isin(deptos_validos) & df['estu_depto_reside'].isin(deptos_validos)]\n"
     ]
    },
    {
     "name": "stdout",
     "output_type": "stream",
     "text": [
      "estu_depto_presentacion\n",
      "VALLE     137872\n",
      "NARIÑO     51430\n",
      "CAUCA      42399\n",
      "CHOCO      11935\n",
      "Name: count, dtype: int64\n",
      "estu_depto_reside\n",
      "VALLE     137539\n",
      "NARIÑO     51238\n",
      "CAUCA      42795\n",
      "CHOCO      12064\n",
      "Name: count, dtype: int64\n"
     ]
    }
   ],
   "source": [
    "#estu_depto_presentacion, estu_depto_reside\n",
    "deptos_validos = ['CHOCO', 'VALLE', 'CAUCA', 'NARIÑO']\n",
    "df_cleaned = df_cleaned[df_cleaned['estu_depto_presentacion'].isin(deptos_validos) & df['estu_depto_reside'].isin(deptos_validos)]\n",
    "\n",
    "print(df_cleaned['estu_depto_presentacion'].value_counts(dropna=False))\n",
    "print(df_cleaned['estu_depto_reside'].value_counts(dropna=False))"
   ]
  },
  {
   "cell_type": "markdown",
   "metadata": {},
   "source": [
    "Miramos cuantos estudiantes presentan el examen en el mismo municipio que viven. Solo para ver si es necesario definir otro criterio."
   ]
  },
  {
   "cell_type": "code",
   "execution_count": 12,
   "metadata": {},
   "outputs": [
    {
     "name": "stdout",
     "output_type": "stream",
     "text": [
      "Cantidad de filas donde se presenta en el mismo municipio en el que estudia es: 211143\n"
     ]
    }
   ],
   "source": [
    "# Suponiendo que tienes un DataFrame llamado df con las columnas 'cole_mcpio_ubicacion' y 'estu_mcpio_presentacion'\n",
    "conteo_igualdad = (df_cleaned['estu_cod_reside_mcpio'] == df_cleaned['estu_cod_mcpio_presentacion']).sum()\n",
    "print(\"Cantidad de filas donde se presenta en el mismo municipio en el que estudia es:\", conteo_igualdad)"
   ]
  },
  {
   "cell_type": "markdown",
   "metadata": {},
   "source": [
    "#### Investigación"
   ]
  },
  {
   "cell_type": "code",
   "execution_count": 13,
   "metadata": {},
   "outputs": [
    {
     "name": "stdout",
     "output_type": "stream",
     "text": [
      "estu_estadoinvestigacion\n",
      "PUBLICAR                       243447\n",
      "VALIDEZ OFICINA JURÍDICA          180\n",
      "PRESENTE CON LECTURA TARDIA         9\n",
      "Name: count, dtype: int64\n"
     ]
    }
   ],
   "source": [
    "# Solo si se permite usar sus datos para investigacion\n",
    "#estu_estadoinvestigacion\n",
    "print(df_cleaned['estu_estadoinvestigacion'].value_counts(dropna=False))\n",
    "\n",
    "# Suponiendo que tienes un DataFrame llamado df\n",
    "df_cleaned = df_cleaned[df_cleaned['estu_estadoinvestigacion'] == 'PUBLICAR']\n"
   ]
  },
  {
   "cell_type": "markdown",
   "metadata": {},
   "source": [
    "#### Es estudiante?"
   ]
  },
  {
   "cell_type": "code",
   "execution_count": 14,
   "metadata": {},
   "outputs": [
    {
     "name": "stdout",
     "output_type": "stream",
     "text": [
      "estu_estudiante\n",
      "ESTUDIANTE    243447\n",
      "Name: count, dtype: int64\n"
     ]
    }
   ],
   "source": [
    "print(df_cleaned['estu_estudiante'].value_counts(dropna=False))"
   ]
  },
  {
   "cell_type": "markdown",
   "metadata": {},
   "source": [
    "#### Edad"
   ]
  },
  {
   "cell_type": "code",
   "execution_count": 15,
   "metadata": {},
   "outputs": [
    {
     "name": "stdout",
     "output_type": "stream",
     "text": [
      "estu_fechanacimiento\n",
      "10/10/1997    235\n",
      "15/09/1998    232\n",
      "01/01/1999    223\n",
      "17/09/1997    215\n",
      "27/09/1997    214\n",
      "             ... \n",
      "01/06/1958      1\n",
      "06/06/1954      1\n",
      "19/02/1978      1\n",
      "12/03/1988      1\n",
      "01/10/1973      1\n",
      "Name: count, Length: 10108, dtype: int64\n"
     ]
    }
   ],
   "source": [
    "#estu_fechanacimiento\n",
    "print(df_cleaned['estu_fechanacimiento'].value_counts(dropna=False))"
   ]
  },
  {
   "cell_type": "code",
   "execution_count": 16,
   "metadata": {},
   "outputs": [
    {
     "name": "stdout",
     "output_type": "stream",
     "text": [
      "periodo\n",
      "20142    76475\n",
      "20162    74743\n",
      "20152    74584\n",
      "20151    10074\n",
      "20161     7571\n",
      "Name: count, dtype: int64\n"
     ]
    }
   ],
   "source": [
    "print(df_cleaned['periodo'].value_counts(dropna=False))"
   ]
  },
  {
   "cell_type": "code",
   "execution_count": 17,
   "metadata": {},
   "outputs": [
    {
     "name": "stdout",
     "output_type": "stream",
     "text": [
      "edad\n",
      " 17.0     95222\n",
      " 18.0     53589\n",
      " 16.0     36349\n",
      " 19.0     25795\n",
      " 20.0     10452\n",
      "          ...  \n",
      " 114.0        1\n",
      " 72.0         1\n",
      " 97.0         1\n",
      "-82.0         1\n",
      " 85.0         1\n",
      "Name: count, Length: 84, dtype: int64\n"
     ]
    }
   ],
   "source": [
    "# 1. Convertir la columna 'estu_fechanacimiento' al formato de fecha\n",
    "# Filtrar el DataFrame para eliminar las filas con fechas incorrectas\n",
    "df_cleaned = df_cleaned[df_cleaned['estu_fechanacimiento'].str.len() == 10]\n",
    "\n",
    "df_cleaned['estu_fechanacimiento'] = pd.to_datetime(df_cleaned['estu_fechanacimiento'], format='%d/%m/%Y', errors='coerce')\n",
    "\n",
    "\n",
    "# 2. Extraer el año de la fecha de nacimiento\n",
    "df_cleaned['anio_nacimiento'] = df_cleaned['estu_fechanacimiento'].dt.year\n",
    "\n",
    "# 3. Extraer el año del periodo\n",
    "df_cleaned['anio_periodo'] = df_cleaned['periodo'].astype(str).str[:4].astype(int)\n",
    "\n",
    "# 4. Calcular la edad\n",
    "df_cleaned['edad'] = df_cleaned['anio_periodo'] - df_cleaned['anio_nacimiento']\n",
    "\n",
    "# Eliminar columnas auxiliares si es necesario\n",
    "df_cleaned.drop(['anio_nacimiento', 'anio_periodo'], axis=1, inplace=True)\n",
    "\n",
    "# Mostrar el DataFrame con la nueva columna de edad\n",
    "print(df_cleaned['edad'].value_counts(dropna=False))"
   ]
  },
  {
   "cell_type": "markdown",
   "metadata": {},
   "source": [
    "Se eliminan datos de edad atipicos como datos negativos por mala tipografia de los años y personas mayores a 70\n",
    "Al final se dejan personas entre 14 y 70 años"
   ]
  },
  {
   "cell_type": "code",
   "execution_count": 18,
   "metadata": {},
   "outputs": [
    {
     "name": "stdout",
     "output_type": "stream",
     "text": [
      "edad\n",
      "17.0    95222\n",
      "18.0    53589\n",
      "16.0    36349\n",
      "19.0    25795\n",
      "20.0    10452\n",
      "21.0     4438\n",
      "15.0     3002\n",
      "22.0     2313\n",
      "23.0     1332\n",
      "24.0      948\n",
      "25.0      802\n",
      "26.0      641\n",
      "27.0      624\n",
      "28.0      543\n",
      "29.0      537\n",
      "30.0      481\n",
      "31.0      466\n",
      "32.0      440\n",
      "33.0      409\n",
      "35.0      366\n",
      "34.0      361\n",
      "36.0      335\n",
      "37.0      319\n",
      "38.0      283\n",
      "39.0      258\n",
      "40.0      238\n",
      "41.0      213\n",
      "42.0      202\n",
      "43.0      200\n",
      "45.0      195\n",
      "46.0      178\n",
      "44.0      171\n",
      "47.0      129\n",
      "48.0      120\n",
      "50.0      116\n",
      "14.0      113\n",
      "52.0      103\n",
      "49.0      101\n",
      "51.0       96\n",
      "54.0       73\n",
      "55.0       69\n",
      "53.0       64\n",
      "56.0       53\n",
      "57.0       50\n",
      "58.0       42\n",
      "59.0       32\n",
      "60.0       25\n",
      "61.0       25\n",
      "63.0       14\n",
      "62.0       13\n",
      "64.0       10\n",
      "66.0        7\n",
      "67.0        7\n",
      "65.0        6\n",
      "68.0        5\n",
      "70.0        4\n",
      "69.0        2\n",
      "Name: count, dtype: int64\n"
     ]
    }
   ],
   "source": [
    "# Filtrar el DataFrame para seleccionar solo las filas con edades válidas (entre 14 y 70)\n",
    "df_cleaned = df_cleaned[df_cleaned['edad'].between(14, 70)]\n",
    "\n",
    "# Mostrar el DataFrame resultante\n",
    "print(df_cleaned['edad'].value_counts(dropna=False))"
   ]
  },
  {
   "cell_type": "markdown",
   "metadata": {},
   "source": [
    "#### Nacionalidad solo colombianos y que residan en Colombia"
   ]
  },
  {
   "cell_type": "markdown",
   "metadata": {},
   "source": [
    "Esto ya se habia verificado con los departamentos, pero se realiza de nuevo para verificar y mejorar la limpieza"
   ]
  },
  {
   "cell_type": "code",
   "execution_count": 19,
   "metadata": {},
   "outputs": [
    {
     "name": "stdout",
     "output_type": "stream",
     "text": [
      "estu_nacionalidad\n",
      "COLOMBIA    242874\n",
      "Name: count, dtype: int64\n"
     ]
    }
   ],
   "source": [
    "# estu_nacionalidad\n",
    "\n",
    "# Filtrar el DataFrame para seleccionar solo las filas donde la nacionalidad sea \"COLOMBIA\"\n",
    "df_cleaned = df_cleaned[df_cleaned['estu_nacionalidad'] == \"COLOMBIA\"]\n",
    "\n",
    "print(df_cleaned['estu_nacionalidad'].value_counts(dropna=False))\n"
   ]
  },
  {
   "cell_type": "code",
   "execution_count": 20,
   "metadata": {},
   "outputs": [
    {
     "name": "stdout",
     "output_type": "stream",
     "text": [
      "estu_pais_reside\n",
      "COLOMBIA    242874\n",
      "Name: count, dtype: int64\n"
     ]
    }
   ],
   "source": [
    "#estu_pais_reside\n",
    "print(df_cleaned['estu_pais_reside'].value_counts(dropna=False))"
   ]
  },
  {
   "cell_type": "markdown",
   "metadata": {},
   "source": [
    "#### Que esten libres, no en privacion de la libertad"
   ]
  },
  {
   "cell_type": "code",
   "execution_count": 21,
   "metadata": {},
   "outputs": [
    {
     "name": "stdout",
     "output_type": "stream",
     "text": [
      "estu_privado_libertad\n",
      "N    242866\n",
      "Name: count, dtype: int64\n"
     ]
    }
   ],
   "source": [
    "#estu_privado_libertad\n",
    "\n",
    "# Filtrar el DataFrame para seleccionar solo las filas donde estu_privado_libertad sea \"N\"\n",
    "df_cleaned = df_cleaned[df_cleaned['estu_privado_libertad'] == \"N\"]\n",
    "\n",
    "print(df_cleaned['estu_privado_libertad'].value_counts(dropna=False))\n"
   ]
  },
  {
   "cell_type": "markdown",
   "metadata": {},
   "source": [
    "#### Que se haya presentado en el segundo periodo del año, es decir 20XX-2"
   ]
  },
  {
   "cell_type": "code",
   "execution_count": 22,
   "metadata": {},
   "outputs": [],
   "source": [
    "# Eliminar las filas con periodo igual a 20151 o 20161\n",
    "df_cleaned = df_cleaned[(df_cleaned['periodo'] != 20151) & (df_cleaned['periodo'] != 20161)]"
   ]
  },
  {
   "cell_type": "code",
   "execution_count": 66,
   "metadata": {},
   "outputs": [
    {
     "name": "stdout",
     "output_type": "stream",
     "text": [
      "periodo\n",
      "20142    76166\n",
      "20162    74614\n",
      "20152    74496\n",
      "Name: count, dtype: int64\n"
     ]
    }
   ],
   "source": [
    "print(df_cleaned['periodo'].value_counts(dropna=False))"
   ]
  },
  {
   "cell_type": "markdown",
   "metadata": {},
   "source": [
    "#### Eliminar"
   ]
  },
  {
   "cell_type": "markdown",
   "metadata": {},
   "source": [
    "Se eliminan las variables de donde se realizo la seleccion de criterios."
   ]
  },
  {
   "cell_type": "code",
   "execution_count": 23,
   "metadata": {},
   "outputs": [],
   "source": [
    "'''\n",
    "estu_cod_depto_presentacion    0\n",
    "estu_cod_mcpio_presentacion    0\n",
    "estu_cod_reside_depto          0\n",
    "estu_cod_reside_mcpio          0\n",
    "estu_depto_presentacion        0\n",
    "estu_depto_reside              0\n",
    "estu_mcpio_presentacion        0\n",
    "estu_mcpio_reside      \n",
    "estu_estadoinvestigacion\n",
    "estu_estudiante\n",
    "estu_fechanacimiento\n",
    "estu_nacionalidad\n",
    "estu_pais_reside\n",
    "estu_privado_libertad\n",
    "'''\n",
    "\n",
    "# Quita las variables de residencia y presentacion pues se asumen que todos los estudiantes viven y lo presentan \n",
    "# en el pacifico\n",
    "eliminar_col = ['estu_cod_depto_presentacion',\n",
    "                'estu_cod_mcpio_presentacion',\n",
    "                'estu_cod_reside_depto',\n",
    "                'estu_cod_reside_mcpio',\n",
    "                'estu_depto_presentacion',\n",
    "                'estu_depto_reside',\n",
    "                'estu_mcpio_presentacion',\n",
    "                'estu_mcpio_reside',\n",
    "                'estu_estadoinvestigacion',\n",
    "                'estu_estudiante',\n",
    "                'estu_fechanacimiento',\n",
    "                'estu_nacionalidad',\n",
    "                'estu_pais_reside',\n",
    "                'estu_privado_libertad']\n",
    "\n",
    "df_cleaned = df_cleaned.drop(columns=eliminar_col, axis=1)"
   ]
  },
  {
   "cell_type": "markdown",
   "metadata": {},
   "source": [
    "## 3. Variables Dummies"
   ]
  },
  {
   "cell_type": "code",
   "execution_count": 24,
   "metadata": {},
   "outputs": [],
   "source": [
    "df_encoded = df_cleaned.copy()"
   ]
  },
  {
   "cell_type": "markdown",
   "metadata": {},
   "source": [
    "#### El tipo de documento no lo consideramos relevante pues estas caracteristicas se pueden representar por la edad, la residencia o extranjeria"
   ]
  },
  {
   "cell_type": "code",
   "execution_count": 25,
   "metadata": {},
   "outputs": [
    {
     "name": "stdout",
     "output_type": "stream",
     "text": [
      "estu_tipodocumento\n",
      "TI    170612\n",
      "CC     49392\n",
      "CR      5180\n",
      "CE        87\n",
      "V          2\n",
      "PC         1\n",
      "RC         1\n",
      "PE         1\n",
      "Name: count, dtype: int64\n"
     ]
    }
   ],
   "source": [
    "print(df_encoded['estu_tipodocumento'].value_counts(dropna=False))"
   ]
  },
  {
   "cell_type": "code",
   "execution_count": 26,
   "metadata": {},
   "outputs": [],
   "source": [
    "\n",
    "df_encoded = df_encoded.drop(columns=\"estu_tipodocumento\", axis=1)"
   ]
  },
  {
   "cell_type": "markdown",
   "metadata": {},
   "source": [
    "#### Codigo del Estudiante"
   ]
  },
  {
   "cell_type": "code",
   "execution_count": 27,
   "metadata": {},
   "outputs": [
    {
     "name": "stdout",
     "output_type": "stream",
     "text": [
      "estu_consecutivo\n",
      "SB11201520066158    2\n",
      "SB11201420247360    2\n",
      "SB11201620304443    2\n",
      "SB11201620330684    2\n",
      "SB11201520200485    2\n",
      "                   ..\n",
      "SB11201620583756    1\n",
      "SB11201520378785    1\n",
      "SB11201420084703    1\n",
      "SB11201520163539    1\n",
      "SB11201520558650    1\n",
      "Name: count, Length: 221237, dtype: int64\n"
     ]
    }
   ],
   "source": [
    "#Es el codigo de presentacion de la persona o estudiante\n",
    "print(df_encoded['estu_consecutivo'].value_counts(dropna=False))"
   ]
  },
  {
   "cell_type": "markdown",
   "metadata": {},
   "source": [
    "#### Ubicación del Colegio"
   ]
  },
  {
   "cell_type": "code",
   "execution_count": 28,
   "metadata": {},
   "outputs": [
    {
     "name": "stdout",
     "output_type": "stream",
     "text": [
      "cole_area_ubicacion\n",
      "URBANO    181710\n",
      "RURAL      43566\n",
      "Name: count, dtype: int64\n"
     ]
    }
   ],
   "source": [
    "print(df_encoded['cole_area_ubicacion'].value_counts(dropna=False))"
   ]
  },
  {
   "cell_type": "code",
   "execution_count": 29,
   "metadata": {},
   "outputs": [
    {
     "name": "stdout",
     "output_type": "stream",
     "text": [
      "Valores únicos en la columna 'cole_area_ubicacion' después de la codificación:\n",
      "cole_area_ubicacion\n",
      "1    181710\n",
      "0     43566\n",
      "Name: count, dtype: int64\n"
     ]
    },
    {
     "name": "stderr",
     "output_type": "stream",
     "text": [
      "/var/folders/rk/1txw87pj7sgdsrd0ny5897580000gn/T/ipykernel_61924/1368952551.py:5: FutureWarning: Downcasting behavior in `replace` is deprecated and will be removed in a future version. To retain the old behavior, explicitly call `result.infer_objects(copy=False)`. To opt-in to the future behavior, set `pd.set_option('future.no_silent_downcasting', True)`\n",
      "  df_encoded['cole_area_ubicacion'] = df_encoded['cole_area_ubicacion'].replace(mapeo_area_ubicacion)\n"
     ]
    }
   ],
   "source": [
    "# Definir el mapeo de valores\n",
    "mapeo_area_ubicacion = {'URBANO': 1, 'RURAL': 0}\n",
    "\n",
    "# Aplicar el mapeo a la variable cole_area_ubicacion en df_encoded\n",
    "df_encoded['cole_area_ubicacion'] = df_encoded['cole_area_ubicacion'].replace(mapeo_area_ubicacion)\n",
    "\n",
    "# Mostrar los valores únicos después de la codificación\n",
    "print(\"Valores únicos en la columna 'cole_area_ubicacion' después de la codificación:\")\n",
    "print(df_encoded['cole_area_ubicacion'].value_counts())"
   ]
  },
  {
   "cell_type": "markdown",
   "metadata": {},
   "source": [
    "#### Calendario del Colegio"
   ]
  },
  {
   "cell_type": "markdown",
   "metadata": {},
   "source": [
    "Si no son calendario A o B no se tendran en cuenta"
   ]
  },
  {
   "cell_type": "code",
   "execution_count": 30,
   "metadata": {},
   "outputs": [
    {
     "name": "stdout",
     "output_type": "stream",
     "text": [
      "cole_calendario\n",
      "A       221878\n",
      "B         2496\n",
      "OTRO       902\n",
      "Name: count, dtype: int64\n"
     ]
    }
   ],
   "source": [
    "# Voy a eliminar los datos si no son calendario A o B \n",
    "print(df_encoded['cole_calendario'].value_counts(dropna=False))"
   ]
  },
  {
   "cell_type": "code",
   "execution_count": 31,
   "metadata": {},
   "outputs": [
    {
     "name": "stdout",
     "output_type": "stream",
     "text": [
      "cole_calendario\n",
      "1    221878\n",
      "0      2496\n",
      "Name: count, dtype: int64\n"
     ]
    },
    {
     "name": "stderr",
     "output_type": "stream",
     "text": [
      "/var/folders/rk/1txw87pj7sgdsrd0ny5897580000gn/T/ipykernel_61924/3256018782.py:5: FutureWarning: Downcasting behavior in `replace` is deprecated and will be removed in a future version. To retain the old behavior, explicitly call `result.infer_objects(copy=False)`. To opt-in to the future behavior, set `pd.set_option('future.no_silent_downcasting', True)`\n",
      "  df_encoded['cole_calendario'] = df_encoded['cole_calendario'].replace({'A': 1, 'B': 0})\n"
     ]
    }
   ],
   "source": [
    "# Eliminar las filas con \"OTRO\" en la columna cole_calendario\n",
    "df_encoded = df_encoded[df_encoded['cole_calendario'] != 'OTRO']\n",
    "\n",
    "# Convertir \"A\" en 1 y \"B\" en 0 en la columna cole_calendario\n",
    "df_encoded['cole_calendario'] = df_encoded['cole_calendario'].replace({'A': 1, 'B': 0})\n",
    "\n",
    "\n",
    "print(df_encoded['cole_calendario'].value_counts())"
   ]
  },
  {
   "cell_type": "markdown",
   "metadata": {},
   "source": [
    "#### Caracter del Colegio"
   ]
  },
  {
   "cell_type": "markdown",
   "metadata": {},
   "source": [
    "Se busca que sean colegios tecnicos, academicos o ambos."
   ]
  },
  {
   "cell_type": "code",
   "execution_count": 32,
   "metadata": {},
   "outputs": [
    {
     "name": "stdout",
     "output_type": "stream",
     "text": [
      "cole_caracter\n",
      "TÉCNICO/ACADÉMICO    94793\n",
      "ACADÉMICO            77653\n",
      "TÉCNICO              51118\n",
      "NO APLICA              810\n",
      "Name: count, dtype: int64\n"
     ]
    }
   ],
   "source": [
    "print(df_encoded['cole_caracter'].value_counts(dropna=False))"
   ]
  },
  {
   "cell_type": "code",
   "execution_count": 33,
   "metadata": {},
   "outputs": [
    {
     "name": "stderr",
     "output_type": "stream",
     "text": [
      "/var/folders/rk/1txw87pj7sgdsrd0ny5897580000gn/T/ipykernel_61924/4001860570.py:2: UserWarning: Boolean Series key will be reindexed to match DataFrame index.\n",
      "  df_encoded = df_encoded[df_cleaned['cole_caracter'] != 'NO APLICA']\n"
     ]
    },
    {
     "name": "stdout",
     "output_type": "stream",
     "text": [
      "\n",
      "Nuevas columnas creadas por la codificación one-hot:\n",
      "   caracter_ACADÉMICO  caracter_TÉCNICO  caracter_TÉCNICO/ACADÉMICO\n",
      "0               False              True                       False\n",
      "1               False             False                        True\n",
      "3                True             False                       False\n",
      "4               False              True                       False\n",
      "5                True             False                       False\n"
     ]
    }
   ],
   "source": [
    "# Eliminar la categoría \"NO APLICA\" del DataFrame original df\n",
    "df_encoded = df_encoded[df_cleaned['cole_caracter'] != 'NO APLICA']\n",
    "\n",
    "# Aplicar la codificación one-hot a la columna 'cole_caracter'\n",
    "df_encoded = pd.get_dummies(df_encoded, columns=['cole_caracter'], prefix='caracter', drop_first=False)\n",
    "\n",
    "# Mostrar las nuevas columnas creadas por la codificación one-hot\n",
    "print(\"\\nNuevas columnas creadas por la codificación one-hot:\")\n",
    "print(df_encoded.filter(like='caracter_').head())\n"
   ]
  },
  {
   "cell_type": "markdown",
   "metadata": {},
   "source": [
    "#### Colegios y Sedes"
   ]
  },
  {
   "cell_type": "markdown",
   "metadata": {},
   "source": [
    "Al realizar un analisis por region consideramos que los colegios y las sedes donde estudian o se presentan no son relevantes para nuestras preguntas."
   ]
  },
  {
   "cell_type": "code",
   "execution_count": 34,
   "metadata": {},
   "outputs": [
    {
     "name": "stdout",
     "output_type": "stream",
     "text": [
      "cole_nombre_sede\n",
      "07/01 INSTITUCION EDUCATIVA JORGE ISAACS INEM                  1834\n",
      "73/01 INSTITUCION EDUCATIVA EUSTAQUIO PALACIOS                 1318\n",
      "76/01 INSTITUCION EDUCATIVA TECNICA CIUDADELA DESEPAZ          1174\n",
      "06/01 IE NORMAL SUPERIOR FARALLONES DE CALI                    1144\n",
      "24/01 INSTITUCION EDUCATIVA LAS AMERICAS                       1132\n",
      "                                                               ... \n",
      "COLEGIO MAYOR ALFEREZ REAL                                        1\n",
      "COL JEFFERSON                                                     1\n",
      "COLEGIO GUIAS - SEDE PRINCIPAL                                    1\n",
      "I.E.T. AGROAMBIENTAL GRANA ESCUELA AMALAKA - SEDE PRINCIPAL       1\n",
      "COLEGIO SAN ANTONIO MARIA CLARET                                  1\n",
      "Name: count, Length: 1617, dtype: int64\n"
     ]
    }
   ],
   "source": [
    "#Borro lo perteneciente a la informacion de la sede y el nombre del colegio\n",
    "''''\n",
    "cole_nombre_establecimiento\n",
    "cole_nombre_sede\n",
    "cole_sede_principal\n",
    "cole_cod_dane_establecimiento\n",
    "cole_cod_dane_sede\n",
    "cole_codigo_icfes\n",
    "'''\n",
    "print(df_encoded['cole_nombre_sede'].value_counts(dropna=False))\n",
    "\n",
    "\n",
    "df_encoded = df_encoded.drop(columns=['cole_cod_dane_establecimiento','cole_cod_dane_sede','cole_nombre_establecimiento','cole_nombre_sede','cole_sede_principal','cole_codigo_icfes'], axis=1)"
   ]
  },
  {
   "cell_type": "markdown",
   "metadata": {},
   "source": [
    "#### Departamentos"
   ]
  },
  {
   "cell_type": "code",
   "execution_count": 35,
   "metadata": {},
   "outputs": [
    {
     "name": "stdout",
     "output_type": "stream",
     "text": [
      "cole_depto_ubicacion\n",
      "VALLE     121443\n",
      "NARIÑO     49982\n",
      "CAUCA      40131\n",
      "CHOCO      12008\n",
      "Name: count, dtype: int64\n",
      "cole_cod_depto_ubicacion\n",
      "76    121443\n",
      "52     49982\n",
      "19     40131\n",
      "27     12008\n",
      "Name: count, dtype: int64\n"
     ]
    }
   ],
   "source": [
    "print(df_encoded['cole_depto_ubicacion'].value_counts(dropna=False))\n",
    "print(df_encoded['cole_cod_depto_ubicacion'].value_counts(dropna=False))"
   ]
  },
  {
   "cell_type": "code",
   "execution_count": 36,
   "metadata": {},
   "outputs": [
    {
     "name": "stdout",
     "output_type": "stream",
     "text": [
      "\n",
      "Nuevas columnas creadas por la codificación one-hot:\n",
      "   cole_depto_ubi_CAUCA  cole_depto_ubi_CHOCO  cole_depto_ubi_NARIÑO  \\\n",
      "0                 False                 False                  False   \n",
      "1                 False                 False                  False   \n",
      "3                 False                 False                  False   \n",
      "4                  True                 False                  False   \n",
      "5                 False                 False                   True   \n",
      "\n",
      "   cole_depto_ubi_VALLE  \n",
      "0                  True  \n",
      "1                  True  \n",
      "3                  True  \n",
      "4                 False  \n",
      "5                 False  \n"
     ]
    }
   ],
   "source": [
    "df_encoded = df_encoded.drop('cole_cod_depto_ubicacion', axis=1)\n",
    "\n",
    "df_encoded = pd.get_dummies(df_encoded, columns=['cole_depto_ubicacion'], prefix='cole_depto_ubi', drop_first=False)\n",
    "\n",
    "# Mostrar las nuevas columnas creadas por la codificación one-hot\n",
    "print(\"\\nNuevas columnas creadas por la codificación one-hot:\")\n",
    "print(df_encoded.filter(like='cole_depto_ubi_').head())"
   ]
  },
  {
   "cell_type": "markdown",
   "metadata": {},
   "source": [
    "#### Municipios\n",
    "\n",
    "No los consideramos porque al tener una pregunta enfocada en la region, mirar pos municipios resulta dificil con cuatro departamentos."
   ]
  },
  {
   "cell_type": "code",
   "execution_count": 37,
   "metadata": {},
   "outputs": [
    {
     "name": "stdout",
     "output_type": "stream",
     "text": [
      "cole_mcpio_ubicacion\n",
      "CALI               56653\n",
      "PASTO              14558\n",
      "BUENAVENTURA       10280\n",
      "POPAYAN             9691\n",
      "PALMIRA             8497\n",
      "                   ...  \n",
      "JURADO                65\n",
      "BELEN DE BAJIRA       62\n",
      "SANTA ROSA            56\n",
      "MEDIO ATRATO          18\n",
      "SIPI                   6\n",
      "Name: count, Length: 174, dtype: int64\n"
     ]
    }
   ],
   "source": [
    "\n",
    "#cole_cod_mcpio_ubicacion\n",
    "#cole_mcpio_ubicacion\n",
    "print(df_encoded['cole_mcpio_ubicacion'].value_counts(dropna=False))\n",
    "\n",
    "df_encoded = df_encoded.drop(columns=['cole_cod_mcpio_ubicacion','cole_mcpio_ubicacion'], axis=1)"
   ]
  },
  {
   "cell_type": "markdown",
   "metadata": {},
   "source": [
    "#### Genero del Colegio"
   ]
  },
  {
   "cell_type": "code",
   "execution_count": 38,
   "metadata": {},
   "outputs": [
    {
     "name": "stdout",
     "output_type": "stream",
     "text": [
      "cole_genero\n",
      "MIXTO        218387\n",
      "FEMENINO       4607\n",
      "MASCULINO       570\n",
      "Name: count, dtype: int64\n"
     ]
    }
   ],
   "source": [
    "print(df_encoded['cole_genero'].value_counts(dropna=False))"
   ]
  },
  {
   "cell_type": "code",
   "execution_count": 39,
   "metadata": {},
   "outputs": [
    {
     "name": "stdout",
     "output_type": "stream",
     "text": [
      "\n",
      "Nuevas columnas creadas por la codificación one-hot:\n",
      "   generoCole_FEMENINO  generoCole_MASCULINO  generoCole_MIXTO\n",
      "0                False                 False              True\n",
      "1                False                 False              True\n",
      "3                False                 False              True\n",
      "4                False                 False              True\n",
      "5                False                 False              True\n"
     ]
    }
   ],
   "source": [
    "df_encoded = pd.get_dummies(df_encoded, columns=['cole_genero'], prefix='generoCole', drop_first=False)\n",
    "\n",
    "# Mostrar las nuevas columnas creadas por la codificación one-hot\n",
    "print(\"\\nNuevas columnas creadas por la codificación one-hot:\")\n",
    "print(df_encoded.filter(like='generoCole_').head())"
   ]
  },
  {
   "cell_type": "markdown",
   "metadata": {},
   "source": [
    "#### Jornada"
   ]
  },
  {
   "cell_type": "code",
   "execution_count": 40,
   "metadata": {},
   "outputs": [
    {
     "name": "stdout",
     "output_type": "stream",
     "text": [
      "cole_jornada\n",
      "MAÑANA      156499\n",
      "TARDE        29930\n",
      "NOCHE        14884\n",
      "COMPLETA     11567\n",
      "SABATINA     10442\n",
      "UNICA          242\n",
      "Name: count, dtype: int64\n"
     ]
    }
   ],
   "source": [
    "#cole_jornada\n",
    "print(df_encoded['cole_jornada'].value_counts(dropna=False))"
   ]
  },
  {
   "cell_type": "code",
   "execution_count": 41,
   "metadata": {},
   "outputs": [
    {
     "name": "stdout",
     "output_type": "stream",
     "text": [
      "\n",
      "Nuevas columnas creadas por la codificación one-hot:\n",
      "   jornada_COMPLETA  jornada_MAÑANA  jornada_NOCHE  jornada_SABATINA  \\\n",
      "0             False            True          False             False   \n",
      "1             False            True          False             False   \n",
      "3             False            True          False             False   \n",
      "4             False            True          False             False   \n",
      "5             False            True          False             False   \n",
      "\n",
      "   jornada_TARDE  jornada_UNICA  \n",
      "0          False          False  \n",
      "1          False          False  \n",
      "3          False          False  \n",
      "4          False          False  \n",
      "5          False          False  \n"
     ]
    }
   ],
   "source": [
    "df_encoded = pd.get_dummies(df_encoded, columns=['cole_jornada'], prefix='jornada', drop_first=False)\n",
    "\n",
    "# Mostrar las nuevas columnas creadas por la codificación one-hot\n",
    "print(\"\\nNuevas columnas creadas por la codificación one-hot:\")\n",
    "print(df_encoded.filter(like='jornada_').head())"
   ]
  },
  {
   "cell_type": "markdown",
   "metadata": {},
   "source": [
    "#### Naturaleza"
   ]
  },
  {
   "cell_type": "code",
   "execution_count": 42,
   "metadata": {},
   "outputs": [
    {
     "name": "stdout",
     "output_type": "stream",
     "text": [
      "cole_naturaleza\n",
      "OFICIAL       186246\n",
      "NO OFICIAL     37318\n",
      "Name: count, dtype: int64\n"
     ]
    }
   ],
   "source": [
    "#cole_naturaleza\n",
    "print(df_encoded['cole_naturaleza'].value_counts(dropna=False))"
   ]
  },
  {
   "cell_type": "code",
   "execution_count": 43,
   "metadata": {},
   "outputs": [
    {
     "name": "stdout",
     "output_type": "stream",
     "text": [
      "Valores únicos en la columna 'cole_area_ubicacion' después de la codificación:\n",
      "cole_naturaleza\n",
      "1    186246\n",
      "0     37318\n",
      "Name: count, dtype: int64\n"
     ]
    },
    {
     "name": "stderr",
     "output_type": "stream",
     "text": [
      "/var/folders/rk/1txw87pj7sgdsrd0ny5897580000gn/T/ipykernel_61924/2337231742.py:5: FutureWarning: Downcasting behavior in `replace` is deprecated and will be removed in a future version. To retain the old behavior, explicitly call `result.infer_objects(copy=False)`. To opt-in to the future behavior, set `pd.set_option('future.no_silent_downcasting', True)`\n",
      "  df_encoded['cole_naturaleza'] = df_encoded['cole_naturaleza'].replace({'OFICIAL': 1, 'NO OFICIAL': 0})\n"
     ]
    }
   ],
   "source": [
    "# 1 si es Oficial \n",
    "# 0 si no es Oficial\n",
    "\n",
    "# Reemplazar \"OFICIAL\" con 1 y \"NO OFICIAL\" con 0 en la columna cole_naturaleza\n",
    "df_encoded['cole_naturaleza'] = df_encoded['cole_naturaleza'].replace({'OFICIAL': 1, 'NO OFICIAL': 0})\n",
    "\n",
    "print(\"Valores únicos en la columna 'cole_area_ubicacion' después de la codificación:\")\n",
    "print(df_encoded['cole_naturaleza'].value_counts())"
   ]
  },
  {
   "cell_type": "markdown",
   "metadata": {},
   "source": [
    "#### Genero Estudiante"
   ]
  },
  {
   "cell_type": "code",
   "execution_count": 44,
   "metadata": {},
   "outputs": [
    {
     "name": "stdout",
     "output_type": "stream",
     "text": [
      "estu_genero\n",
      "F    126297\n",
      "M     97267\n",
      "Name: count, dtype: int64\n"
     ]
    }
   ],
   "source": [
    "#estu_genero\n",
    "print(df_encoded['estu_genero'].value_counts(dropna=False))"
   ]
  },
  {
   "cell_type": "code",
   "execution_count": 45,
   "metadata": {},
   "outputs": [
    {
     "name": "stdout",
     "output_type": "stream",
     "text": [
      "estu_genero\n",
      "0    126297\n",
      "1     97267\n",
      "Name: count, dtype: int64\n"
     ]
    },
    {
     "name": "stderr",
     "output_type": "stream",
     "text": [
      "/var/folders/rk/1txw87pj7sgdsrd0ny5897580000gn/T/ipykernel_61924/2932506775.py:5: FutureWarning: Downcasting behavior in `replace` is deprecated and will be removed in a future version. To retain the old behavior, explicitly call `result.infer_objects(copy=False)`. To opt-in to the future behavior, set `pd.set_option('future.no_silent_downcasting', True)`\n",
      "  df_encoded['estu_genero'] = df_encoded['estu_genero'].replace({'M': 1, 'F': 0})\n"
     ]
    }
   ],
   "source": [
    "# 1 si es M \n",
    "# 0 si es F\n",
    "\n",
    "# Reemplazar \"M\" con 1 y \"F\" con 0 en la columna estu_genero\n",
    "df_encoded['estu_genero'] = df_encoded['estu_genero'].replace({'M': 1, 'F': 0})\n",
    "\n",
    "# Mostrar los valores únicos después de la codificación\n",
    "print(df_encoded['estu_genero'].value_counts())"
   ]
  },
  {
   "cell_type": "markdown",
   "metadata": {},
   "source": [
    "## 4. Encuesta socioecnomica"
   ]
  },
  {
   "cell_type": "markdown",
   "metadata": {},
   "source": [
    "#### Cuartos de la casa"
   ]
  },
  {
   "cell_type": "code",
   "execution_count": 46,
   "metadata": {},
   "outputs": [
    {
     "name": "stdout",
     "output_type": "stream",
     "text": [
      "fami_cuartoshogar\n",
      "Tres          90755\n",
      "Dos           75375\n",
      "Cuatro        33908\n",
      "Cinco          9804\n",
      "Uno            7973\n",
      "Seis           3474\n",
      "Siete          1140\n",
      "Ocho            630\n",
      "Diez o más      277\n",
      "Nueve           228\n",
      "Name: count, dtype: int64\n"
     ]
    }
   ],
   "source": [
    "#fami_cuartoshogar\n",
    "print(df_encoded['fami_cuartoshogar'].value_counts(dropna=False))"
   ]
  },
  {
   "cell_type": "code",
   "execution_count": 47,
   "metadata": {},
   "outputs": [],
   "source": [
    "# Definir el diccionario de mapeo\n",
    "mapeo = {'Uno': 1, 'Dos': 2, 'Tres': 3, 'Cuatro': 4, 'Cinco': 5, 'Seis': 6, 'Siete': 7, 'Ocho': 8, 'Nueve': 9, 'Diez o más': 10}\n",
    "\n",
    "# Aplicar el mapeo a la columna 'fami_cuartoshogar'\n",
    "df_encoded['fami_cuartoshogar'] = df_encoded['fami_cuartoshogar'].map(mapeo)"
   ]
  },
  {
   "cell_type": "markdown",
   "metadata": {},
   "source": [
    "#### Educación de los padres"
   ]
  },
  {
   "cell_type": "code",
   "execution_count": 48,
   "metadata": {},
   "outputs": [
    {
     "name": "stdout",
     "output_type": "stream",
     "text": [
      "fami_educacionmadre\n",
      "Secundaria (Bachillerato) completa      63724\n",
      "Primaria incompleta                     45439\n",
      "Primaria completa                       40043\n",
      "Secundaria (Bachillerato) incompleta    34824\n",
      "Técnica o tecnológica completa          12152\n",
      "Educación profesional completa          11380\n",
      "Ninguno                                  5272\n",
      "Técnica o tecnológica incompleta         3501\n",
      "No sabe                                  3445\n",
      "Educación profesional incompleta         2020\n",
      "Postgrado                                1764\n",
      "Name: count, dtype: int64\n"
     ]
    }
   ],
   "source": [
    "#fami_educacionmadre\n",
    "#fami_educacionpadre\n",
    "\n",
    "print(df_encoded['fami_educacionmadre'].value_counts(dropna=False))\n"
   ]
  },
  {
   "cell_type": "code",
   "execution_count": 49,
   "metadata": {},
   "outputs": [
    {
     "name": "stdout",
     "output_type": "stream",
     "text": [
      "\n",
      "Nuevas columnas creadas por la codificación one-hot:\n",
      "   madre_Educación profesional completa  \\\n",
      "0                                 False   \n",
      "1                                 False   \n",
      "3                                 False   \n",
      "4                                 False   \n",
      "5                                 False   \n",
      "\n",
      "   madre_Educación profesional incompleta  madre_Ninguno  madre_No sabe  \\\n",
      "0                                   False          False          False   \n",
      "1                                   False          False          False   \n",
      "3                                   False          False          False   \n",
      "4                                   False          False          False   \n",
      "5                                   False          False          False   \n",
      "\n",
      "   madre_Postgrado  madre_Primaria completa  madre_Primaria incompleta  \\\n",
      "0            False                    False                      False   \n",
      "1            False                    False                       True   \n",
      "3            False                    False                      False   \n",
      "4            False                    False                      False   \n",
      "5            False                    False                       True   \n",
      "\n",
      "   madre_Secundaria (Bachillerato) completa  \\\n",
      "0                                     False   \n",
      "1                                     False   \n",
      "3                                     False   \n",
      "4                                     False   \n",
      "5                                     False   \n",
      "\n",
      "   madre_Secundaria (Bachillerato) incompleta  \\\n",
      "0                                        True   \n",
      "1                                       False   \n",
      "3                                        True   \n",
      "4                                        True   \n",
      "5                                       False   \n",
      "\n",
      "   madre_Técnica o tecnológica completa  \\\n",
      "0                                 False   \n",
      "1                                 False   \n",
      "3                                 False   \n",
      "4                                 False   \n",
      "5                                 False   \n",
      "\n",
      "   madre_Técnica o tecnológica incompleta  \n",
      "0                                   False  \n",
      "1                                   False  \n",
      "3                                   False  \n",
      "4                                   False  \n",
      "5                                   False  \n"
     ]
    }
   ],
   "source": [
    "df_encoded = pd.get_dummies(df_encoded, columns=['fami_educacionmadre'], prefix='madre', drop_first=False)\n",
    "\n",
    "# Mostrar las nuevas columnas creadas por la codificación one-hot\n",
    "print(\"\\nNuevas columnas creadas por la codificación one-hot:\")\n",
    "print(df_encoded.filter(like='madre_').head())"
   ]
  },
  {
   "cell_type": "code",
   "execution_count": 50,
   "metadata": {},
   "outputs": [
    {
     "name": "stdout",
     "output_type": "stream",
     "text": [
      "\n",
      "Nuevas columnas creadas por la codificación one-hot:\n",
      "   padre_Educación profesional completa  \\\n",
      "0                                 False   \n",
      "1                                 False   \n",
      "3                                 False   \n",
      "4                                 False   \n",
      "5                                 False   \n",
      "\n",
      "   padre_Educación profesional incompleta  padre_Ninguno  padre_No sabe  \\\n",
      "0                                   False          False           True   \n",
      "1                                   False          False          False   \n",
      "3                                   False          False          False   \n",
      "4                                   False          False          False   \n",
      "5                                   False          False          False   \n",
      "\n",
      "   padre_Postgrado  padre_Primaria completa  padre_Primaria incompleta  \\\n",
      "0            False                    False                      False   \n",
      "1            False                    False                      False   \n",
      "3            False                    False                      False   \n",
      "4            False                    False                      False   \n",
      "5            False                    False                       True   \n",
      "\n",
      "   padre_Secundaria (Bachillerato) completa  \\\n",
      "0                                     False   \n",
      "1                                     False   \n",
      "3                                     False   \n",
      "4                                     False   \n",
      "5                                     False   \n",
      "\n",
      "   padre_Secundaria (Bachillerato) incompleta  \\\n",
      "0                                       False   \n",
      "1                                        True   \n",
      "3                                        True   \n",
      "4                                        True   \n",
      "5                                       False   \n",
      "\n",
      "   padre_Técnica o tecnológica completa  \\\n",
      "0                                 False   \n",
      "1                                 False   \n",
      "3                                 False   \n",
      "4                                 False   \n",
      "5                                 False   \n",
      "\n",
      "   padre_Técnica o tecnológica incompleta  \n",
      "0                                   False  \n",
      "1                                   False  \n",
      "3                                   False  \n",
      "4                                   False  \n",
      "5                                   False  \n"
     ]
    }
   ],
   "source": [
    "df_encoded = pd.get_dummies(df_encoded, columns=['fami_educacionpadre'], prefix='padre', drop_first=False)\n",
    "\n",
    "# Mostrar las nuevas columnas creadas por la codificación one-hot\n",
    "print(\"\\nNuevas columnas creadas por la codificación one-hot:\")\n",
    "print(df_encoded.filter(like='padre_').head())"
   ]
  },
  {
   "cell_type": "markdown",
   "metadata": {},
   "source": [
    "#### Estrato"
   ]
  },
  {
   "cell_type": "code",
   "execution_count": 51,
   "metadata": {},
   "outputs": [
    {
     "name": "stdout",
     "output_type": "stream",
     "text": [
      "fami_estratovivienda\n",
      "Estrato 1    131838\n",
      "Estrato 2     63909\n",
      "Estrato 3     24444\n",
      "Estrato 4      2635\n",
      "Estrato 5       643\n",
      "Estrato 6        95\n",
      "Name: count, dtype: int64\n"
     ]
    }
   ],
   "source": [
    "#fami_estratovivienda\n",
    "print(df_encoded['fami_estratovivienda'].value_counts(dropna=False))\n"
   ]
  },
  {
   "cell_type": "code",
   "execution_count": 52,
   "metadata": {},
   "outputs": [
    {
     "name": "stdout",
     "output_type": "stream",
     "text": [
      "fami_estratovivienda\n",
      "1    131838\n",
      "2     63909\n",
      "3     24444\n",
      "4      2635\n",
      "5       643\n",
      "6        95\n",
      "Name: count, dtype: int64\n"
     ]
    }
   ],
   "source": [
    "# Mapear las categorías de estrato a valores numéricos\n",
    "mapeo_estrato = {\n",
    "    'Estrato 1': 1,\n",
    "    'Estrato 2': 2,\n",
    "    'Estrato 3': 3,\n",
    "    'Estrato 4': 4,\n",
    "    'Estrato 5': 5,\n",
    "    'Estrato 6': 6\n",
    "}\n",
    "\n",
    "# Aplicar el mapeo a la columna 'fami_estratovivienda'\n",
    "df_encoded['fami_estratovivienda'] = df_encoded['fami_estratovivienda'].map(mapeo_estrato)\n",
    "\n",
    "# Mostrar las primeras filas para verificar los cambios\n",
    "print(df_encoded['fami_estratovivienda'].value_counts(dropna=False))\n"
   ]
  },
  {
   "cell_type": "markdown",
   "metadata": {},
   "source": [
    "#### Personas en la casa"
   ]
  },
  {
   "cell_type": "code",
   "execution_count": 53,
   "metadata": {},
   "outputs": [
    {
     "name": "stdout",
     "output_type": "stream",
     "text": [
      "fami_personashogar\n",
      "Cuatro        67510\n",
      "Cinco         49780\n",
      "Tres          39970\n",
      "Seis          25536\n",
      "Siete         12772\n",
      "Dos           11190\n",
      "Ocho           7315\n",
      "Nueve          3224\n",
      "Diez           2296\n",
      "Doce o más     1580\n",
      "Una            1429\n",
      "Once            962\n",
      "Name: count, dtype: int64\n"
     ]
    }
   ],
   "source": [
    "#fami_personashogar\n",
    "print(df_encoded['fami_personashogar'].value_counts(dropna=False))"
   ]
  },
  {
   "cell_type": "code",
   "execution_count": 54,
   "metadata": {},
   "outputs": [
    {
     "name": "stdout",
     "output_type": "stream",
     "text": [
      "   fami_personashogar\n",
      "0                   3\n",
      "1                   4\n",
      "3                   5\n",
      "4                   5\n",
      "5                   5\n"
     ]
    }
   ],
   "source": [
    "# Mapear las categorías de número de personas en el hogar a valores numéricos\n",
    "mapeo_personas_hogar = {\n",
    "    'Una': 1,\n",
    "    'Dos': 2,\n",
    "    'Tres': 3,\n",
    "    'Cuatro': 4,\n",
    "    'Cinco': 5,\n",
    "    'Seis': 6,\n",
    "    'Siete': 7,\n",
    "    'Ocho': 8,\n",
    "    'Nueve': 9,\n",
    "    'Diez': 10,\n",
    "    'Once': 11,\n",
    "    'Doce o más': 12\n",
    "}\n",
    "\n",
    "# Aplicar el mapeo a la columna 'fami_personashogar'\n",
    "df_encoded['fami_personashogar'] = df_encoded['fami_personashogar'].map(mapeo_personas_hogar)\n",
    "\n",
    "# Mostrar las primeras filas para verificar los cambios\n",
    "print(df_encoded[['fami_personashogar']].head())\n"
   ]
  },
  {
   "cell_type": "markdown",
   "metadata": {},
   "source": [
    "#### Tenencia de objetos"
   ]
  },
  {
   "cell_type": "code",
   "execution_count": 55,
   "metadata": {},
   "outputs": [
    {
     "name": "stdout",
     "output_type": "stream",
     "text": [
      "fami_tienelavadora\n",
      "No    117644\n",
      "Si    105920\n",
      "Name: count, dtype: int64\n"
     ]
    }
   ],
   "source": [
    "#fami_tieneautomovil\n",
    "#fami_tienecomputador\n",
    "#fami_tieneinternet\n",
    "#fami_tienelavadora\n",
    "print(df_encoded['fami_tienelavadora'].value_counts(dropna=False))"
   ]
  },
  {
   "cell_type": "code",
   "execution_count": 56,
   "metadata": {},
   "outputs": [
    {
     "name": "stdout",
     "output_type": "stream",
     "text": [
      "   fami_tieneautomovil  fami_tienecomputador  fami_tieneinternet  \\\n",
      "0                    0                     1                   1   \n",
      "1                    0                     0                   0   \n",
      "3                    0                     0                   0   \n",
      "4                    0                     0                   0   \n",
      "5                    1                     1                   0   \n",
      "\n",
      "   fami_tienelavadora  \n",
      "0                   0  \n",
      "1                   1  \n",
      "3                   0  \n",
      "4                   0  \n",
      "5                   0  \n"
     ]
    },
    {
     "name": "stderr",
     "output_type": "stream",
     "text": [
      "/var/folders/rk/1txw87pj7sgdsrd0ny5897580000gn/T/ipykernel_61924/3498705873.py:6: FutureWarning: Downcasting behavior in `replace` is deprecated and will be removed in a future version. To retain the old behavior, explicitly call `result.infer_objects(copy=False)`. To opt-in to the future behavior, set `pd.set_option('future.no_silent_downcasting', True)`\n",
      "  df_encoded[variables_a_convertir] = df_encoded[variables_a_convertir].replace(mapeo_si_no)\n"
     ]
    }
   ],
   "source": [
    "# Definir el mapeo de valores\n",
    "mapeo_si_no = {'Si': 1, 'No': 0}\n",
    "\n",
    "# Aplicar el mapeo a las variables especificadas\n",
    "variables_a_convertir = ['fami_tieneautomovil', 'fami_tienecomputador', 'fami_tieneinternet', 'fami_tienelavadora']\n",
    "df_encoded[variables_a_convertir] = df_encoded[variables_a_convertir].replace(mapeo_si_no)\n",
    "\n",
    "# Mostrar las primeras filas para verificar los cambios\n",
    "print(df_encoded[variables_a_convertir].head())\n"
   ]
  },
  {
   "cell_type": "markdown",
   "metadata": {},
   "source": [
    "## 5. Notas y Outliers"
   ]
  },
  {
   "cell_type": "markdown",
   "metadata": {},
   "source": [
    "#### Desempeño ingles"
   ]
  },
  {
   "cell_type": "code",
   "execution_count": 57,
   "metadata": {},
   "outputs": [
    {
     "name": "stdout",
     "output_type": "stream",
     "text": [
      "desemp_ingles\n",
      "A-    113946\n",
      "A1     78645\n",
      "A2     21311\n",
      "B1      8329\n",
      "B+      1333\n",
      "Name: count, dtype: int64\n"
     ]
    }
   ],
   "source": [
    "#desemp_ingles\n",
    "print(df_encoded['desemp_ingles'].value_counts(dropna=False))"
   ]
  },
  {
   "cell_type": "code",
   "execution_count": 58,
   "metadata": {},
   "outputs": [
    {
     "name": "stdout",
     "output_type": "stream",
     "text": [
      "\n",
      "Nuevas columnas creadas por la codificación one-hot:\n",
      "   nivel_ing_A-  nivel_ing_A1  nivel_ing_A2  nivel_ing_B+  nivel_ing_B1\n",
      "0         False          True         False         False         False\n",
      "1         False          True         False         False         False\n",
      "3          True         False         False         False         False\n",
      "4          True         False         False         False         False\n",
      "5         False         False          True         False         False\n"
     ]
    }
   ],
   "source": [
    "df_encoded = pd.get_dummies(df_encoded, columns=['desemp_ingles'], prefix='nivel_ing', drop_first=False)\n",
    "\n",
    "# Mostrar las nuevas columnas creadas por la codificación one-hot\n",
    "print(\"\\nNuevas columnas creadas por la codificación one-hot:\")\n",
    "print(df_encoded.filter(like='nivel_ing_').head())"
   ]
  },
  {
   "cell_type": "markdown",
   "metadata": {},
   "source": [
    "#### Outliers en la variable de puntaje global"
   ]
  },
  {
   "cell_type": "code",
   "execution_count": 59,
   "metadata": {},
   "outputs": [
    {
     "name": "stdout",
     "output_type": "stream",
     "text": [
      "Datos Eliminados: 2228\n"
     ]
    }
   ],
   "source": [
    "# Calcula el primer y tercer cuartil\n",
    "Q1 = df_encoded['punt_global'].quantile(0.25)\n",
    "Q3 = df_encoded['punt_global'].quantile(0.75)\n",
    "\n",
    "# Calcula el rango intercuartílico (IQR)\n",
    "IQR = Q3 - Q1\n",
    "\n",
    "# Define los límites inferior y superior para identificar outliers\n",
    "lower_bound = Q1 - 1.5 * IQR\n",
    "upper_bound = Q3 + 1.5 * IQR\n",
    "\n",
    "# Cuenta el número de datos eliminados\n",
    "num_outliers_removed = len(df_encoded) - len(df_encoded[(df_encoded['punt_global'] > lower_bound) & (df_encoded['punt_global'] < upper_bound)])\n",
    "\n",
    "# Filtra el DataFrame para eliminar outliers\n",
    "df_final = df_encoded[(df_encoded['punt_global'] > lower_bound) & (df_encoded['punt_global'] < upper_bound)]\n",
    "\n",
    "# Muestra el DataFrame filtrado\n",
    "print(\"Datos Eliminados:\",num_outliers_removed)"
   ]
  },
  {
   "cell_type": "code",
   "execution_count": 60,
   "metadata": {},
   "outputs": [
    {
     "data": {
      "image/png": "[encoded data removed]",
      "text/plain": [
       "<Figure size 1200x600 with 2 Axes>"
      ]
     },
     "metadata": {},
     "output_type": "display_data"
    }
   ],
   "source": [
    "# Crea una figura y ejes para subplots\n",
    "fig, axs = plt.subplots(1, 2, figsize=(12, 6))\n",
    "\n",
    "# Histograma con outliers\n",
    "axs[0].hist(df_encoded['punt_global'], bins=30, color='skyblue', edgecolor='black')\n",
    "axs[0].set_title('Con Outliers')\n",
    "axs[0].set_xlabel('Puntaje Global')\n",
    "axs[0].set_ylabel('Frecuencia')\n",
    "\n",
    "# Histograma sin outliers\n",
    "axs[1].hist(df_final['punt_global'], bins=30, color='salmon', edgecolor='black')\n",
    "axs[1].set_title('Sin Outliers')\n",
    "axs[1].set_xlabel('Puntaje Global')\n",
    "axs[1].set_ylabel('Frecuencia')\n",
    "\n",
    "# Ajusta el espaciado entre subplots\n",
    "plt.tight_layout()\n",
    "\n",
    "# Muestra el plot\n",
    "plt.show()\n"
   ]
  },
  {
   "cell_type": "markdown",
   "metadata": {},
   "source": [
    "#### Por materias"
   ]
  },
  {
   "cell_type": "code",
   "execution_count": 61,
   "metadata": {},
   "outputs": [
    {
     "data": {
      "image/png": "[encoded data removed]",
      "text/plain": [
       "<Figure size 1500x2000 with 10 Axes>"
      ]
     },
     "metadata": {},
     "output_type": "display_data"
    }
   ],
   "source": [
    "# Variables y configuración\n",
    "variables = ['punt_ingles','punt_matematicas','punt_sociales_ciudadanas','punt_c_naturales','punt_lectura_critica']\n",
    "fig, axs = plt.subplots(5, 2, figsize=(15, 20))\n",
    "\n",
    "# Histogramas con y sin outliers\n",
    "for i, var in enumerate(variables):\n",
    "    # Histograma con outliers\n",
    "    axs[i, 0].hist(df_encoded[var], bins=30, color='skyblue', edgecolor='black')\n",
    "    axs[i, 0].set_title(f'Con Outliers - {var}')\n",
    "    axs[i, 0].set_xlabel('Puntaje')\n",
    "    axs[i, 0].set_ylabel('Frecuencia')\n",
    "    \n",
    "    # Histograma sin outliers\n",
    "    axs[i, 1].hist(df_final[var], bins=30, color='salmon', edgecolor='black')\n",
    "    axs[i, 1].set_title(f'Sin Outliers - {var}')\n",
    "    axs[i, 1].set_xlabel('Puntaje')\n",
    "    axs[i, 1].set_ylabel('Frecuencia')\n",
    "\n",
    "# Ajuste de espaciado entre subplots\n",
    "plt.tight_layout()\n",
    "\n",
    "# Mostrar el plot\n",
    "plt.show()\n"
   ]
  },
  {
   "cell_type": "markdown",
   "metadata": {},
   "source": [
    "## 6. Organización final del df"
   ]
  },
  {
   "cell_type": "markdown",
   "metadata": {},
   "source": [
    "#### Valores numericos y no Booleanos"
   ]
  },
  {
   "cell_type": "code",
   "execution_count": 62,
   "metadata": {},
   "outputs": [
    {
     "name": "stderr",
     "output_type": "stream",
     "text": [
      "/var/folders/rk/1txw87pj7sgdsrd0ny5897580000gn/T/ipykernel_61924/3227755663.py:1: FutureWarning: Downcasting behavior in `replace` is deprecated and will be removed in a future version. To retain the old behavior, explicitly call `result.infer_objects(copy=False)`. To opt-in to the future behavior, set `pd.set_option('future.no_silent_downcasting', True)`\n",
      "  df_final.replace({True: 1, False: 0}, inplace=True)\n",
      "/var/folders/rk/1txw87pj7sgdsrd0ny5897580000gn/T/ipykernel_61924/3227755663.py:1: SettingWithCopyWarning: \n",
      "A value is trying to be set on a copy of a slice from a DataFrame\n",
      "\n",
      "See the caveats in the documentation: https://pandas.pydata.org/pandas-docs/stable/user_guide/indexing.html#returning-a-view-versus-a-copy\n",
      "  df_final.replace({True: 1, False: 0}, inplace=True)\n"
     ]
    }
   ],
   "source": [
    "df_final.replace({True: 1, False: 0}, inplace=True)"
   ]
  },
  {
   "cell_type": "markdown",
   "metadata": {},
   "source": [
    "#### Datos en el nuevo df"
   ]
  },
  {
   "cell_type": "code",
   "execution_count": 63,
   "metadata": {},
   "outputs": [
    {
     "name": "stdout",
     "output_type": "stream",
     "text": [
      "Number of rows before cleaning: 221336\n"
     ]
    }
   ],
   "source": [
    "print(f\"Number of rows before cleaning: {len(df_final)}\")"
   ]
  },
  {
   "cell_type": "markdown",
   "metadata": {},
   "source": [
    "#### Verfiacion final de MV"
   ]
  },
  {
   "cell_type": "code",
   "execution_count": 64,
   "metadata": {},
   "outputs": [
    {
     "name": "stdout",
     "output_type": "stream",
     "text": [
      "periodo                0\n",
      "estu_consecutivo       0\n",
      "cole_area_ubicacion    0\n",
      "cole_calendario        0\n",
      "cole_naturaleza        0\n",
      "                      ..\n",
      "nivel_ing_A-           0\n",
      "nivel_ing_A1           0\n",
      "nivel_ing_A2           0\n",
      "nivel_ing_B+           0\n",
      "nivel_ing_B1           0\n",
      "Length: 63, dtype: int64\n"
     ]
    }
   ],
   "source": [
    "# Check for missing values\n",
    "print(df_final.isnull().sum())"
   ]
  },
  {
   "cell_type": "markdown",
   "metadata": {},
   "source": [
    "## 7. Creación del Archivo Pacifico_Cleaned.csv"
   ]
  },
  {
   "cell_type": "code",
   "execution_count": 65,
   "metadata": {},
   "outputs": [],
   "source": [
    "df_final.to_csv('Pacifico_cleaned.csv', index=False)"
   ]
  }
 ],
 "metadata": {
  "kernelspec": {
   "display_name": "Python 3",
   "language": "python",
   "name": "python3"
  },
  "language_info": {
   "codemirror_mode": {
    "name": "ipython",
    "version": 3
   },
   "file_extension": ".py",
   "mimetype": "text/x-python",
   "name": "python",
   "nbconvert_exporter": "python",
   "pygments_lexer": "ipython3",
   "version": "3.11.0"
  }
 },
 "nbformat": 4,
 "nbformat_minor": 2
}
