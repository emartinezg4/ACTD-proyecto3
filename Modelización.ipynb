{
 "cells": [
  {
   "cell_type": "markdown",
   "metadata": {},
   "source": [
    "# Modelamiento"
   ]
  },
  {
   "cell_type": "markdown",
   "metadata": {},
   "source": [
    "Se importan las librerías necesarias"
   ]
  },
  {
   "cell_type": "code",
   "execution_count": 25,
   "metadata": {},
   "outputs": [],
   "source": [
    "import os\n",
    "import pandas as pd\n",
    "import re\n",
    "import numpy as np\n",
    "from sklearn.model_selection import train_test_split\n",
    "from sklearn.ensemble import RandomForestRegressor\n",
    "from sklearn.metrics import mean_squared_error"
   ]
  },
  {
   "cell_type": "markdown",
   "metadata": {},
   "source": [
    "Se establece la ruta del directorio de la aplicación."
   ]
  },
  {
   "cell_type": "code",
   "execution_count": 26,
   "metadata": {},
   "outputs": [],
   "source": [
    "APP_HOME=\"C:/Users/arcem/Downloads/Proyecto analítica\""
   ]
  },
  {
   "cell_type": "markdown",
   "metadata": {},
   "source": [
    "Se intenta importar la librería mlflow y si no está instalada, se instala."
   ]
  },
  {
   "cell_type": "code",
   "execution_count": 27,
   "metadata": {},
   "outputs": [],
   "source": [
    "try: \n",
    "    import mlflow\n",
    "except:\n",
    "    os.system(\"pip install mlflow\")\n",
    "    import mlflow\n",
    "import mlflow.sklearn"
   ]
  },
  {
   "cell_type": "markdown",
   "metadata": {},
   "source": [
    "Se cambia el directorio de trabajo al directorio de la aplicación.\n"
   ]
  },
  {
   "cell_type": "code",
   "execution_count": 28,
   "metadata": {},
   "outputs": [],
   "source": [
    "os.chdir(APP_HOME)"
   ]
  },
  {
   "cell_type": "markdown",
   "metadata": {},
   "source": [
    "Se listan los archivos del directorio y se lee el archivo CSV llamado 'Pacifico_cleaned.csv' y se muestra una muestra aleatoria de 15 filas del DataFrame."
   ]
  },
  {
   "cell_type": "code",
   "execution_count": 29,
   "metadata": {},
   "outputs": [
    {
     "data": {
      "text/html": [
       "<div>\n",
       "<style scoped>\n",
       "    .dataframe tbody tr th:only-of-type {\n",
       "        vertical-align: middle;\n",
       "    }\n",
       "\n",
       "    .dataframe tbody tr th {\n",
       "        vertical-align: top;\n",
       "    }\n",
       "\n",
       "    .dataframe thead th {\n",
       "        text-align: right;\n",
       "    }\n",
       "</style>\n",
       "<table border=\"1\" class=\"dataframe\">\n",
       "  <thead>\n",
       "    <tr style=\"text-align: right;\">\n",
       "      <th></th>\n",
       "      <th>periodo</th>\n",
       "      <th>estu_consecutivo</th>\n",
       "      <th>cole_area_ubicacion</th>\n",
       "      <th>cole_calendario</th>\n",
       "      <th>cole_naturaleza</th>\n",
       "      <th>estu_genero</th>\n",
       "      <th>fami_cuartoshogar</th>\n",
       "      <th>fami_estratovivienda</th>\n",
       "      <th>fami_personashogar</th>\n",
       "      <th>fami_tieneautomovil</th>\n",
       "      <th>...</th>\n",
       "      <th>padre_Primaria incompleta</th>\n",
       "      <th>padre_Secundaria (Bachillerato) completa</th>\n",
       "      <th>padre_Secundaria (Bachillerato) incompleta</th>\n",
       "      <th>padre_Técnica o tecnológica completa</th>\n",
       "      <th>padre_Técnica o tecnológica incompleta</th>\n",
       "      <th>nivel_ing_A-</th>\n",
       "      <th>nivel_ing_A1</th>\n",
       "      <th>nivel_ing_A2</th>\n",
       "      <th>nivel_ing_B+</th>\n",
       "      <th>nivel_ing_B1</th>\n",
       "    </tr>\n",
       "  </thead>\n",
       "  <tbody>\n",
       "    <tr>\n",
       "      <th>141257</th>\n",
       "      <td>20152</td>\n",
       "      <td>SB11201520363704</td>\n",
       "      <td>1</td>\n",
       "      <td>1</td>\n",
       "      <td>1</td>\n",
       "      <td>1</td>\n",
       "      <td>4</td>\n",
       "      <td>2</td>\n",
       "      <td>4</td>\n",
       "      <td>1</td>\n",
       "      <td>...</td>\n",
       "      <td>0</td>\n",
       "      <td>1</td>\n",
       "      <td>0</td>\n",
       "      <td>0</td>\n",
       "      <td>0</td>\n",
       "      <td>0</td>\n",
       "      <td>1</td>\n",
       "      <td>0</td>\n",
       "      <td>0</td>\n",
       "      <td>0</td>\n",
       "    </tr>\n",
       "    <tr>\n",
       "      <th>136501</th>\n",
       "      <td>20142</td>\n",
       "      <td>SB11201420424458</td>\n",
       "      <td>1</td>\n",
       "      <td>1</td>\n",
       "      <td>1</td>\n",
       "      <td>0</td>\n",
       "      <td>3</td>\n",
       "      <td>1</td>\n",
       "      <td>6</td>\n",
       "      <td>0</td>\n",
       "      <td>...</td>\n",
       "      <td>1</td>\n",
       "      <td>0</td>\n",
       "      <td>0</td>\n",
       "      <td>0</td>\n",
       "      <td>0</td>\n",
       "      <td>1</td>\n",
       "      <td>0</td>\n",
       "      <td>0</td>\n",
       "      <td>0</td>\n",
       "      <td>0</td>\n",
       "    </tr>\n",
       "    <tr>\n",
       "      <th>24660</th>\n",
       "      <td>20162</td>\n",
       "      <td>SB11201620189734</td>\n",
       "      <td>1</td>\n",
       "      <td>1</td>\n",
       "      <td>1</td>\n",
       "      <td>0</td>\n",
       "      <td>2</td>\n",
       "      <td>2</td>\n",
       "      <td>4</td>\n",
       "      <td>0</td>\n",
       "      <td>...</td>\n",
       "      <td>0</td>\n",
       "      <td>1</td>\n",
       "      <td>0</td>\n",
       "      <td>0</td>\n",
       "      <td>0</td>\n",
       "      <td>0</td>\n",
       "      <td>0</td>\n",
       "      <td>1</td>\n",
       "      <td>0</td>\n",
       "      <td>0</td>\n",
       "    </tr>\n",
       "    <tr>\n",
       "      <th>1191</th>\n",
       "      <td>20152</td>\n",
       "      <td>SB11201520177437</td>\n",
       "      <td>1</td>\n",
       "      <td>1</td>\n",
       "      <td>1</td>\n",
       "      <td>1</td>\n",
       "      <td>2</td>\n",
       "      <td>1</td>\n",
       "      <td>5</td>\n",
       "      <td>0</td>\n",
       "      <td>...</td>\n",
       "      <td>0</td>\n",
       "      <td>0</td>\n",
       "      <td>0</td>\n",
       "      <td>1</td>\n",
       "      <td>0</td>\n",
       "      <td>0</td>\n",
       "      <td>0</td>\n",
       "      <td>1</td>\n",
       "      <td>0</td>\n",
       "      <td>0</td>\n",
       "    </tr>\n",
       "    <tr>\n",
       "      <th>51525</th>\n",
       "      <td>20162</td>\n",
       "      <td>SB11201620568439</td>\n",
       "      <td>1</td>\n",
       "      <td>1</td>\n",
       "      <td>1</td>\n",
       "      <td>0</td>\n",
       "      <td>3</td>\n",
       "      <td>3</td>\n",
       "      <td>5</td>\n",
       "      <td>0</td>\n",
       "      <td>...</td>\n",
       "      <td>0</td>\n",
       "      <td>0</td>\n",
       "      <td>0</td>\n",
       "      <td>0</td>\n",
       "      <td>1</td>\n",
       "      <td>0</td>\n",
       "      <td>1</td>\n",
       "      <td>0</td>\n",
       "      <td>0</td>\n",
       "      <td>0</td>\n",
       "    </tr>\n",
       "    <tr>\n",
       "      <th>179479</th>\n",
       "      <td>20152</td>\n",
       "      <td>SB11201520373975</td>\n",
       "      <td>0</td>\n",
       "      <td>1</td>\n",
       "      <td>1</td>\n",
       "      <td>1</td>\n",
       "      <td>3</td>\n",
       "      <td>1</td>\n",
       "      <td>3</td>\n",
       "      <td>0</td>\n",
       "      <td>...</td>\n",
       "      <td>0</td>\n",
       "      <td>0</td>\n",
       "      <td>0</td>\n",
       "      <td>0</td>\n",
       "      <td>0</td>\n",
       "      <td>1</td>\n",
       "      <td>0</td>\n",
       "      <td>0</td>\n",
       "      <td>0</td>\n",
       "      <td>0</td>\n",
       "    </tr>\n",
       "    <tr>\n",
       "      <th>102189</th>\n",
       "      <td>20152</td>\n",
       "      <td>SB11201520235550</td>\n",
       "      <td>1</td>\n",
       "      <td>1</td>\n",
       "      <td>1</td>\n",
       "      <td>0</td>\n",
       "      <td>2</td>\n",
       "      <td>2</td>\n",
       "      <td>3</td>\n",
       "      <td>0</td>\n",
       "      <td>...</td>\n",
       "      <td>0</td>\n",
       "      <td>0</td>\n",
       "      <td>0</td>\n",
       "      <td>0</td>\n",
       "      <td>0</td>\n",
       "      <td>0</td>\n",
       "      <td>0</td>\n",
       "      <td>0</td>\n",
       "      <td>1</td>\n",
       "      <td>0</td>\n",
       "    </tr>\n",
       "    <tr>\n",
       "      <th>46496</th>\n",
       "      <td>20152</td>\n",
       "      <td>SB11201520450322</td>\n",
       "      <td>1</td>\n",
       "      <td>1</td>\n",
       "      <td>1</td>\n",
       "      <td>1</td>\n",
       "      <td>5</td>\n",
       "      <td>1</td>\n",
       "      <td>6</td>\n",
       "      <td>0</td>\n",
       "      <td>...</td>\n",
       "      <td>0</td>\n",
       "      <td>1</td>\n",
       "      <td>0</td>\n",
       "      <td>0</td>\n",
       "      <td>0</td>\n",
       "      <td>1</td>\n",
       "      <td>0</td>\n",
       "      <td>0</td>\n",
       "      <td>0</td>\n",
       "      <td>0</td>\n",
       "    </tr>\n",
       "    <tr>\n",
       "      <th>197351</th>\n",
       "      <td>20162</td>\n",
       "      <td>SB11201620048609</td>\n",
       "      <td>1</td>\n",
       "      <td>1</td>\n",
       "      <td>1</td>\n",
       "      <td>0</td>\n",
       "      <td>3</td>\n",
       "      <td>2</td>\n",
       "      <td>5</td>\n",
       "      <td>0</td>\n",
       "      <td>...</td>\n",
       "      <td>0</td>\n",
       "      <td>0</td>\n",
       "      <td>0</td>\n",
       "      <td>0</td>\n",
       "      <td>0</td>\n",
       "      <td>0</td>\n",
       "      <td>1</td>\n",
       "      <td>0</td>\n",
       "      <td>0</td>\n",
       "      <td>0</td>\n",
       "    </tr>\n",
       "    <tr>\n",
       "      <th>207511</th>\n",
       "      <td>20152</td>\n",
       "      <td>SB11201520574060</td>\n",
       "      <td>1</td>\n",
       "      <td>1</td>\n",
       "      <td>1</td>\n",
       "      <td>0</td>\n",
       "      <td>3</td>\n",
       "      <td>1</td>\n",
       "      <td>6</td>\n",
       "      <td>0</td>\n",
       "      <td>...</td>\n",
       "      <td>1</td>\n",
       "      <td>0</td>\n",
       "      <td>0</td>\n",
       "      <td>0</td>\n",
       "      <td>0</td>\n",
       "      <td>0</td>\n",
       "      <td>1</td>\n",
       "      <td>0</td>\n",
       "      <td>0</td>\n",
       "      <td>0</td>\n",
       "    </tr>\n",
       "    <tr>\n",
       "      <th>134989</th>\n",
       "      <td>20152</td>\n",
       "      <td>SB11201520436985</td>\n",
       "      <td>1</td>\n",
       "      <td>1</td>\n",
       "      <td>1</td>\n",
       "      <td>1</td>\n",
       "      <td>2</td>\n",
       "      <td>1</td>\n",
       "      <td>4</td>\n",
       "      <td>0</td>\n",
       "      <td>...</td>\n",
       "      <td>0</td>\n",
       "      <td>1</td>\n",
       "      <td>0</td>\n",
       "      <td>0</td>\n",
       "      <td>0</td>\n",
       "      <td>0</td>\n",
       "      <td>1</td>\n",
       "      <td>0</td>\n",
       "      <td>0</td>\n",
       "      <td>0</td>\n",
       "    </tr>\n",
       "    <tr>\n",
       "      <th>115111</th>\n",
       "      <td>20142</td>\n",
       "      <td>SB11201420567122</td>\n",
       "      <td>1</td>\n",
       "      <td>1</td>\n",
       "      <td>0</td>\n",
       "      <td>1</td>\n",
       "      <td>1</td>\n",
       "      <td>3</td>\n",
       "      <td>2</td>\n",
       "      <td>0</td>\n",
       "      <td>...</td>\n",
       "      <td>0</td>\n",
       "      <td>1</td>\n",
       "      <td>0</td>\n",
       "      <td>0</td>\n",
       "      <td>0</td>\n",
       "      <td>0</td>\n",
       "      <td>1</td>\n",
       "      <td>0</td>\n",
       "      <td>0</td>\n",
       "      <td>0</td>\n",
       "    </tr>\n",
       "    <tr>\n",
       "      <th>94129</th>\n",
       "      <td>20142</td>\n",
       "      <td>SB11201420051718</td>\n",
       "      <td>1</td>\n",
       "      <td>1</td>\n",
       "      <td>1</td>\n",
       "      <td>0</td>\n",
       "      <td>3</td>\n",
       "      <td>2</td>\n",
       "      <td>4</td>\n",
       "      <td>1</td>\n",
       "      <td>...</td>\n",
       "      <td>0</td>\n",
       "      <td>0</td>\n",
       "      <td>0</td>\n",
       "      <td>0</td>\n",
       "      <td>0</td>\n",
       "      <td>1</td>\n",
       "      <td>0</td>\n",
       "      <td>0</td>\n",
       "      <td>0</td>\n",
       "      <td>0</td>\n",
       "    </tr>\n",
       "    <tr>\n",
       "      <th>122549</th>\n",
       "      <td>20162</td>\n",
       "      <td>SB11201620413764</td>\n",
       "      <td>1</td>\n",
       "      <td>1</td>\n",
       "      <td>1</td>\n",
       "      <td>1</td>\n",
       "      <td>1</td>\n",
       "      <td>2</td>\n",
       "      <td>4</td>\n",
       "      <td>0</td>\n",
       "      <td>...</td>\n",
       "      <td>0</td>\n",
       "      <td>0</td>\n",
       "      <td>0</td>\n",
       "      <td>0</td>\n",
       "      <td>0</td>\n",
       "      <td>0</td>\n",
       "      <td>0</td>\n",
       "      <td>1</td>\n",
       "      <td>0</td>\n",
       "      <td>0</td>\n",
       "    </tr>\n",
       "    <tr>\n",
       "      <th>203372</th>\n",
       "      <td>20162</td>\n",
       "      <td>SB11201620503470</td>\n",
       "      <td>0</td>\n",
       "      <td>1</td>\n",
       "      <td>1</td>\n",
       "      <td>1</td>\n",
       "      <td>2</td>\n",
       "      <td>1</td>\n",
       "      <td>2</td>\n",
       "      <td>0</td>\n",
       "      <td>...</td>\n",
       "      <td>0</td>\n",
       "      <td>0</td>\n",
       "      <td>0</td>\n",
       "      <td>0</td>\n",
       "      <td>0</td>\n",
       "      <td>1</td>\n",
       "      <td>0</td>\n",
       "      <td>0</td>\n",
       "      <td>0</td>\n",
       "      <td>0</td>\n",
       "    </tr>\n",
       "  </tbody>\n",
       "</table>\n",
       "<p>15 rows × 64 columns</p>\n",
       "</div>"
      ],
      "text/plain": [
       "        periodo  estu_consecutivo  cole_area_ubicacion  cole_calendario  \\\n",
       "141257    20152  SB11201520363704                    1                1   \n",
       "136501    20142  SB11201420424458                    1                1   \n",
       "24660     20162  SB11201620189734                    1                1   \n",
       "1191      20152  SB11201520177437                    1                1   \n",
       "51525     20162  SB11201620568439                    1                1   \n",
       "179479    20152  SB11201520373975                    0                1   \n",
       "102189    20152  SB11201520235550                    1                1   \n",
       "46496     20152  SB11201520450322                    1                1   \n",
       "197351    20162  SB11201620048609                    1                1   \n",
       "207511    20152  SB11201520574060                    1                1   \n",
       "134989    20152  SB11201520436985                    1                1   \n",
       "115111    20142  SB11201420567122                    1                1   \n",
       "94129     20142  SB11201420051718                    1                1   \n",
       "122549    20162  SB11201620413764                    1                1   \n",
       "203372    20162  SB11201620503470                    0                1   \n",
       "\n",
       "        cole_naturaleza  estu_genero  fami_cuartoshogar  fami_estratovivienda  \\\n",
       "141257                1            1                  4                     2   \n",
       "136501                1            0                  3                     1   \n",
       "24660                 1            0                  2                     2   \n",
       "1191                  1            1                  2                     1   \n",
       "51525                 1            0                  3                     3   \n",
       "179479                1            1                  3                     1   \n",
       "102189                1            0                  2                     2   \n",
       "46496                 1            1                  5                     1   \n",
       "197351                1            0                  3                     2   \n",
       "207511                1            0                  3                     1   \n",
       "134989                1            1                  2                     1   \n",
       "115111                0            1                  1                     3   \n",
       "94129                 1            0                  3                     2   \n",
       "122549                1            1                  1                     2   \n",
       "203372                1            1                  2                     1   \n",
       "\n",
       "        fami_personashogar  fami_tieneautomovil  ...  \\\n",
       "141257                   4                    1  ...   \n",
       "136501                   6                    0  ...   \n",
       "24660                    4                    0  ...   \n",
       "1191                     5                    0  ...   \n",
       "51525                    5                    0  ...   \n",
       "179479                   3                    0  ...   \n",
       "102189                   3                    0  ...   \n",
       "46496                    6                    0  ...   \n",
       "197351                   5                    0  ...   \n",
       "207511                   6                    0  ...   \n",
       "134989                   4                    0  ...   \n",
       "115111                   2                    0  ...   \n",
       "94129                    4                    1  ...   \n",
       "122549                   4                    0  ...   \n",
       "203372                   2                    0  ...   \n",
       "\n",
       "        padre_Primaria incompleta  padre_Secundaria (Bachillerato) completa  \\\n",
       "141257                          0                                         1   \n",
       "136501                          1                                         0   \n",
       "24660                           0                                         1   \n",
       "1191                            0                                         0   \n",
       "51525                           0                                         0   \n",
       "179479                          0                                         0   \n",
       "102189                          0                                         0   \n",
       "46496                           0                                         1   \n",
       "197351                          0                                         0   \n",
       "207511                          1                                         0   \n",
       "134989                          0                                         1   \n",
       "115111                          0                                         1   \n",
       "94129                           0                                         0   \n",
       "122549                          0                                         0   \n",
       "203372                          0                                         0   \n",
       "\n",
       "        padre_Secundaria (Bachillerato) incompleta  \\\n",
       "141257                                           0   \n",
       "136501                                           0   \n",
       "24660                                            0   \n",
       "1191                                             0   \n",
       "51525                                            0   \n",
       "179479                                           0   \n",
       "102189                                           0   \n",
       "46496                                            0   \n",
       "197351                                           0   \n",
       "207511                                           0   \n",
       "134989                                           0   \n",
       "115111                                           0   \n",
       "94129                                            0   \n",
       "122549                                           0   \n",
       "203372                                           0   \n",
       "\n",
       "        padre_Técnica o tecnológica completa  \\\n",
       "141257                                     0   \n",
       "136501                                     0   \n",
       "24660                                      0   \n",
       "1191                                       1   \n",
       "51525                                      0   \n",
       "179479                                     0   \n",
       "102189                                     0   \n",
       "46496                                      0   \n",
       "197351                                     0   \n",
       "207511                                     0   \n",
       "134989                                     0   \n",
       "115111                                     0   \n",
       "94129                                      0   \n",
       "122549                                     0   \n",
       "203372                                     0   \n",
       "\n",
       "        padre_Técnica o tecnológica incompleta  nivel_ing_A-  nivel_ing_A1  \\\n",
       "141257                                       0             0             1   \n",
       "136501                                       0             1             0   \n",
       "24660                                        0             0             0   \n",
       "1191                                         0             0             0   \n",
       "51525                                        1             0             1   \n",
       "179479                                       0             1             0   \n",
       "102189                                       0             0             0   \n",
       "46496                                        0             1             0   \n",
       "197351                                       0             0             1   \n",
       "207511                                       0             0             1   \n",
       "134989                                       0             0             1   \n",
       "115111                                       0             0             1   \n",
       "94129                                        0             1             0   \n",
       "122549                                       0             0             0   \n",
       "203372                                       0             1             0   \n",
       "\n",
       "        nivel_ing_A2  nivel_ing_B+  nivel_ing_B1  \n",
       "141257             0             0             0  \n",
       "136501             0             0             0  \n",
       "24660              1             0             0  \n",
       "1191               1             0             0  \n",
       "51525              0             0             0  \n",
       "179479             0             0             0  \n",
       "102189             0             1             0  \n",
       "46496              0             0             0  \n",
       "197351             0             0             0  \n",
       "207511             0             0             0  \n",
       "134989             0             0             0  \n",
       "115111             0             0             0  \n",
       "94129              0             0             0  \n",
       "122549             1             0             0  \n",
       "203372             0             0             0  \n",
       "\n",
       "[15 rows x 64 columns]"
      ]
     },
     "execution_count": 29,
     "metadata": {},
     "output_type": "execute_result"
    }
   ],
   "source": [
    "os.listdir()\n",
    "puntajes_pacifico=pd.read_csv('Pacifico_cleaned.csv')\n",
    "puntajes_pacifico.sample(15)"
   ]
  },
  {
   "cell_type": "markdown",
   "metadata": {},
   "source": [
    "Se muestran los nombres de las columnas del DataFrame 'puntajes_pacifico'.\n"
   ]
  },
  {
   "cell_type": "code",
   "execution_count": 30,
   "metadata": {},
   "outputs": [
    {
     "data": {
      "text/plain": [
       "Index(['periodo', 'estu_consecutivo', 'cole_area_ubicacion', 'cole_calendario',\n",
       "       'cole_naturaleza', 'estu_genero', 'fami_cuartoshogar',\n",
       "       'fami_estratovivienda', 'fami_personashogar', 'fami_tieneautomovil',\n",
       "       'fami_tienecomputador', 'fami_tieneinternet', 'fami_tienelavadora',\n",
       "       'punt_ingles', 'punt_matematicas', 'punt_sociales_ciudadanas',\n",
       "       'punt_c_naturales', 'punt_lectura_critica', 'punt_global', 'tier',\n",
       "       'edad', 'caracter_ACADÉMICO', 'caracter_TÉCNICO',\n",
       "       'caracter_TÉCNICO/ACADÉMICO', 'cole_depto_ubi_CAUCA',\n",
       "       'cole_depto_ubi_CHOCO', 'cole_depto_ubi_NARIÑO', 'cole_depto_ubi_VALLE',\n",
       "       'generoCole_FEMENINO', 'generoCole_MASCULINO', 'generoCole_MIXTO',\n",
       "       'jornada_COMPLETA', 'jornada_MAÑANA', 'jornada_NOCHE',\n",
       "       'jornada_SABATINA', 'jornada_TARDE', 'jornada_UNICA',\n",
       "       'madre_Educación profesional completa',\n",
       "       'madre_Educación profesional incompleta', 'madre_Ninguno',\n",
       "       'madre_No sabe', 'madre_Postgrado', 'madre_Primaria completa',\n",
       "       'madre_Primaria incompleta', 'madre_Secundaria (Bachillerato) completa',\n",
       "       'madre_Secundaria (Bachillerato) incompleta',\n",
       "       'madre_Técnica o tecnológica completa',\n",
       "       'madre_Técnica o tecnológica incompleta',\n",
       "       'padre_Educación profesional completa',\n",
       "       'padre_Educación profesional incompleta', 'padre_Ninguno',\n",
       "       'padre_No sabe', 'padre_Postgrado', 'padre_Primaria completa',\n",
       "       'padre_Primaria incompleta', 'padre_Secundaria (Bachillerato) completa',\n",
       "       'padre_Secundaria (Bachillerato) incompleta',\n",
       "       'padre_Técnica o tecnológica completa',\n",
       "       'padre_Técnica o tecnológica incompleta', 'nivel_ing_A-',\n",
       "       'nivel_ing_A1', 'nivel_ing_A2', 'nivel_ing_B+', 'nivel_ing_B1'],\n",
       "      dtype='object')"
      ]
     },
     "execution_count": 30,
     "metadata": {},
     "output_type": "execute_result"
    }
   ],
   "source": [
    "puntajes_pacifico.columns"
   ]
  },
  {
   "cell_type": "markdown",
   "metadata": {},
   "source": [
    "Se muestra la cantidad de filas del DataFrame 'puntajes_pacifico'.\n"
   ]
  },
  {
   "cell_type": "code",
   "execution_count": 31,
   "metadata": {},
   "outputs": [
    {
     "data": {
      "text/plain": [
       "237382"
      ]
     },
     "execution_count": 31,
     "metadata": {},
     "output_type": "execute_result"
    }
   ],
   "source": [
    "len(puntajes_pacifico)"
   ]
  },
  {
   "cell_type": "markdown",
   "metadata": {},
   "source": [
    "\n",
    "### Análisis de correlaciones\n",
    "Pregunta descriptiva \n",
    "\n",
    "¿Cuáles son los factores socioeconómicos que más influyen en el puntaje global de las pruebas Saber 11 en los departamentos del Pacífico entre 2014 y 2016?\n"
   ]
  },
  {
   "cell_type": "code",
   "execution_count": 69,
   "metadata": {},
   "outputs": [
    {
     "data": {
      "application/vnd.plotly.v1+json": {
       "config": {
        "plotlyServerURL": "https://plot.ly"
       },
       "data": [
        {
         "alignmentgroup": "True",
         "hovertemplate": "Sign=Positive<br>Pearson Correlation=%{x}<br>Variables=%{y}<extra></extra>",
         "legendgroup": "Positive",
         "marker": {
          "color": "blue",
          "pattern": {
           "shape": ""
          }
         },
         "name": "Positive",
         "offsetgroup": "Positive",
         "orientation": "h",
         "showlegend": true,
         "textposition": "auto",
         "type": "bar",
         "x": [
          0.5421683366799548,
          0.3625644081940841,
          0.3561934933799402,
          0.33745715250865194,
          0.2734641026542505,
          0.26832498538529115,
          0.20019515475007532,
          0.19686382946858028,
          0.1926088071562031,
          0.17853744351786113,
          0.17451458997789007,
          0.1525552405546429,
          0.1419957586729174,
          0.14117963895416424,
          0.13845332944475247,
          0.13049252789725188,
          0.12763963150087843,
          0.1253614946933295,
          0.10848304932290527,
          0.0977913704981614,
          0.09643825959308082,
          0.08007928962875685,
          0.07984827625028226,
          0.07888068165141228,
          0.07879922995154898,
          0.07860226154385548,
          0.07839903433685094,
          0.05181696400003888,
          0.05178625851747341,
          0.04419388687875189,
          0.03762408799980815,
          0.03047781960908042,
          0.014145686118874689,
          0.008556051979800916
         ],
         "xaxis": "x",
         "y": [
          "tier",
          "nivel_ing_A2",
          "nivel_ing_B1",
          "fami_estratovivienda",
          "fami_tieneinternet",
          "fami_tienecomputador",
          "fami_tieneautomovil",
          "madre_Educación profesional completa",
          "padre_Educación profesional completa",
          "fami_tienelavadora",
          "nivel_ing_B+",
          "cole_area_ubicacion",
          "madre_Técnica o tecnológica completa",
          "nivel_ing_A1",
          "padre_Postgrado",
          "madre_Postgrado",
          "jornada_MAÑANA",
          "padre_Técnica o tecnológica completa",
          "cole_depto_ubi_VALLE",
          "generoCole_FEMENINO",
          "periodo",
          "padre_Educación profesional incompleta",
          "madre_Educación profesional incompleta",
          "jornada_COMPLETA",
          "estu_genero",
          "madre_Secundaria (Bachillerato) completa",
          "padre_Secundaria (Bachillerato) completa",
          "generoCole_MASCULINO",
          "cole_depto_ubi_NARIÑO",
          "madre_Técnica o tecnológica incompleta",
          "padre_Técnica o tecnológica incompleta",
          "caracter_ACADÉMICO",
          "jornada_TARDE",
          "jornada_UNICA"
         ],
         "yaxis": "y"
        },
        {
         "alignmentgroup": "True",
         "hovertemplate": "Sign=Negative<br>Pearson Correlation=%{x}<br>Variables=%{y}<extra></extra>",
         "legendgroup": "Negative",
         "marker": {
          "color": "red",
          "pattern": {
           "shape": ""
          }
         },
         "name": "Negative",
         "offsetgroup": "Negative",
         "orientation": "h",
         "showlegend": true,
         "textposition": "auto",
         "type": "bar",
         "x": [
          -0.007358979597931084,
          -0.010906447030696471,
          -0.023200734734098054,
          -0.02553891094377061,
          -0.026322025256882164,
          -0.03087736923080371,
          -0.03909612427560824,
          -0.08172335256121747,
          -0.10155672720117066,
          -0.10226974980374903,
          -0.10900917580010204,
          -0.11005330199265122,
          -0.1126845094445064,
          -0.12498107174999555,
          -0.13121455412113062,
          -0.15336170919410738,
          -0.16933463137682037,
          -0.17252410272531205,
          -0.17851892242933612,
          -0.190298126225655,
          -0.194467413014879,
          -0.2770205722293994,
          -0.5254717995325935
         ],
         "xaxis": "x",
         "y": [
          "caracter_TÉCNICO/ACADÉMICO",
          "padre_No sabe",
          "padre_Secundaria (Bachillerato) incompleta",
          "fami_cuartoshogar",
          "caracter_TÉCNICO",
          "madre_No sabe",
          "madre_Secundaria (Bachillerato) incompleta",
          "padre_Ninguno",
          "padre_Primaria completa",
          "madre_Ninguno",
          "cole_depto_ubi_CAUCA",
          "generoCole_MIXTO",
          "madre_Primaria completa",
          "cole_naturaleza",
          "fami_personashogar",
          "cole_depto_ubi_CHOCO",
          "padre_Primaria incompleta",
          "jornada_SABATINA",
          "madre_Primaria incompleta",
          "cole_calendario",
          "jornada_NOCHE",
          "edad",
          "nivel_ing_A-"
         ],
         "yaxis": "y"
        }
       ],
       "layout": {
        "barmode": "relative",
        "height": 1000,
        "legend": {
         "title": {
          "text": "Sign"
         },
         "tracegroupgap": 0
        },
        "template": {
         "data": {
          "bar": [
           {
            "error_x": {
             "color": "#2a3f5f"
            },
            "error_y": {
             "color": "#2a3f5f"
            },
            "marker": {
             "line": {
              "color": "#E5ECF6",
              "width": 0.5
             },
             "pattern": {
              "fillmode": "overlay",
              "size": 10,
              "solidity": 0.2
             }
            },
            "type": "bar"
           }
          ],
          "barpolar": [
           {
            "marker": {
             "line": {
              "color": "#E5ECF6",
              "width": 0.5
             },
             "pattern": {
              "fillmode": "overlay",
              "size": 10,
              "solidity": 0.2
             }
            },
            "type": "barpolar"
           }
          ],
          "carpet": [
           {
            "aaxis": {
             "endlinecolor": "#2a3f5f",
             "gridcolor": "white",
             "linecolor": "white",
             "minorgridcolor": "white",
             "startlinecolor": "#2a3f5f"
            },
            "baxis": {
             "endlinecolor": "#2a3f5f",
             "gridcolor": "white",
             "linecolor": "white",
             "minorgridcolor": "white",
             "startlinecolor": "#2a3f5f"
            },
            "type": "carpet"
           }
          ],
          "choropleth": [
           {
            "colorbar": {
             "outlinewidth": 0,
             "ticks": ""
            },
            "type": "choropleth"
           }
          ],
          "contour": [
           {
            "colorbar": {
             "outlinewidth": 0,
             "ticks": ""
            },
            "colorscale": [
             [
              0,
              "#0d0887"
             ],
             [
              0.1111111111111111,
              "#46039f"
             ],
             [
              0.2222222222222222,
              "#7201a8"
             ],
             [
              0.3333333333333333,
              "#9c179e"
             ],
             [
              0.4444444444444444,
              "#bd3786"
             ],
             [
              0.5555555555555556,
              "#d8576b"
             ],
             [
              0.6666666666666666,
              "#ed7953"
             ],
             [
              0.7777777777777778,
              "#fb9f3a"
             ],
             [
              0.8888888888888888,
              "#fdca26"
             ],
             [
              1,
              "#f0f921"
             ]
            ],
            "type": "contour"
           }
          ],
          "contourcarpet": [
           {
            "colorbar": {
             "outlinewidth": 0,
             "ticks": ""
            },
            "type": "contourcarpet"
           }
          ],
          "heatmap": [
           {
            "colorbar": {
             "outlinewidth": 0,
             "ticks": ""
            },
            "colorscale": [
             [
              0,
              "#0d0887"
             ],
             [
              0.1111111111111111,
              "#46039f"
             ],
             [
              0.2222222222222222,
              "#7201a8"
             ],
             [
              0.3333333333333333,
              "#9c179e"
             ],
             [
              0.4444444444444444,
              "#bd3786"
             ],
             [
              0.5555555555555556,
              "#d8576b"
             ],
             [
              0.6666666666666666,
              "#ed7953"
             ],
             [
              0.7777777777777778,
              "#fb9f3a"
             ],
             [
              0.8888888888888888,
              "#fdca26"
             ],
             [
              1,
              "#f0f921"
             ]
            ],
            "type": "heatmap"
           }
          ],
          "heatmapgl": [
           {
            "colorbar": {
             "outlinewidth": 0,
             "ticks": ""
            },
            "colorscale": [
             [
              0,
              "#0d0887"
             ],
             [
              0.1111111111111111,
              "#46039f"
             ],
             [
              0.2222222222222222,
              "#7201a8"
             ],
             [
              0.3333333333333333,
              "#9c179e"
             ],
             [
              0.4444444444444444,
              "#bd3786"
             ],
             [
              0.5555555555555556,
              "#d8576b"
             ],
             [
              0.6666666666666666,
              "#ed7953"
             ],
             [
              0.7777777777777778,
              "#fb9f3a"
             ],
             [
              0.8888888888888888,
              "#fdca26"
             ],
             [
              1,
              "#f0f921"
             ]
            ],
            "type": "heatmapgl"
           }
          ],
          "histogram": [
           {
            "marker": {
             "pattern": {
              "fillmode": "overlay",
              "size": 10,
              "solidity": 0.2
             }
            },
            "type": "histogram"
           }
          ],
          "histogram2d": [
           {
            "colorbar": {
             "outlinewidth": 0,
             "ticks": ""
            },
            "colorscale": [
             [
              0,
              "#0d0887"
             ],
             [
              0.1111111111111111,
              "#46039f"
             ],
             [
              0.2222222222222222,
              "#7201a8"
             ],
             [
              0.3333333333333333,
              "#9c179e"
             ],
             [
              0.4444444444444444,
              "#bd3786"
             ],
             [
              0.5555555555555556,
              "#d8576b"
             ],
             [
              0.6666666666666666,
              "#ed7953"
             ],
             [
              0.7777777777777778,
              "#fb9f3a"
             ],
             [
              0.8888888888888888,
              "#fdca26"
             ],
             [
              1,
              "#f0f921"
             ]
            ],
            "type": "histogram2d"
           }
          ],
          "histogram2dcontour": [
           {
            "colorbar": {
             "outlinewidth": 0,
             "ticks": ""
            },
            "colorscale": [
             [
              0,
              "#0d0887"
             ],
             [
              0.1111111111111111,
              "#46039f"
             ],
             [
              0.2222222222222222,
              "#7201a8"
             ],
             [
              0.3333333333333333,
              "#9c179e"
             ],
             [
              0.4444444444444444,
              "#bd3786"
             ],
             [
              0.5555555555555556,
              "#d8576b"
             ],
             [
              0.6666666666666666,
              "#ed7953"
             ],
             [
              0.7777777777777778,
              "#fb9f3a"
             ],
             [
              0.8888888888888888,
              "#fdca26"
             ],
             [
              1,
              "#f0f921"
             ]
            ],
            "type": "histogram2dcontour"
           }
          ],
          "mesh3d": [
           {
            "colorbar": {
             "outlinewidth": 0,
             "ticks": ""
            },
            "type": "mesh3d"
           }
          ],
          "parcoords": [
           {
            "line": {
             "colorbar": {
              "outlinewidth": 0,
              "ticks": ""
             }
            },
            "type": "parcoords"
           }
          ],
          "pie": [
           {
            "automargin": true,
            "type": "pie"
           }
          ],
          "scatter": [
           {
            "fillpattern": {
             "fillmode": "overlay",
             "size": 10,
             "solidity": 0.2
            },
            "type": "scatter"
           }
          ],
          "scatter3d": [
           {
            "line": {
             "colorbar": {
              "outlinewidth": 0,
              "ticks": ""
             }
            },
            "marker": {
             "colorbar": {
              "outlinewidth": 0,
              "ticks": ""
             }
            },
            "type": "scatter3d"
           }
          ],
          "scattercarpet": [
           {
            "marker": {
             "colorbar": {
              "outlinewidth": 0,
              "ticks": ""
             }
            },
            "type": "scattercarpet"
           }
          ],
          "scattergeo": [
           {
            "marker": {
             "colorbar": {
              "outlinewidth": 0,
              "ticks": ""
             }
            },
            "type": "scattergeo"
           }
          ],
          "scattergl": [
           {
            "marker": {
             "colorbar": {
              "outlinewidth": 0,
              "ticks": ""
             }
            },
            "type": "scattergl"
           }
          ],
          "scattermapbox": [
           {
            "marker": {
             "colorbar": {
              "outlinewidth": 0,
              "ticks": ""
             }
            },
            "type": "scattermapbox"
           }
          ],
          "scatterpolar": [
           {
            "marker": {
             "colorbar": {
              "outlinewidth": 0,
              "ticks": ""
             }
            },
            "type": "scatterpolar"
           }
          ],
          "scatterpolargl": [
           {
            "marker": {
             "colorbar": {
              "outlinewidth": 0,
              "ticks": ""
             }
            },
            "type": "scatterpolargl"
           }
          ],
          "scatterternary": [
           {
            "marker": {
             "colorbar": {
              "outlinewidth": 0,
              "ticks": ""
             }
            },
            "type": "scatterternary"
           }
          ],
          "surface": [
           {
            "colorbar": {
             "outlinewidth": 0,
             "ticks": ""
            },
            "colorscale": [
             [
              0,
              "#0d0887"
             ],
             [
              0.1111111111111111,
              "#46039f"
             ],
             [
              0.2222222222222222,
              "#7201a8"
             ],
             [
              0.3333333333333333,
              "#9c179e"
             ],
             [
              0.4444444444444444,
              "#bd3786"
             ],
             [
              0.5555555555555556,
              "#d8576b"
             ],
             [
              0.6666666666666666,
              "#ed7953"
             ],
             [
              0.7777777777777778,
              "#fb9f3a"
             ],
             [
              0.8888888888888888,
              "#fdca26"
             ],
             [
              1,
              "#f0f921"
             ]
            ],
            "type": "surface"
           }
          ],
          "table": [
           {
            "cells": {
             "fill": {
              "color": "#EBF0F8"
             },
             "line": {
              "color": "white"
             }
            },
            "header": {
             "fill": {
              "color": "#C8D4E3"
             },
             "line": {
              "color": "white"
             }
            },
            "type": "table"
           }
          ]
         },
         "layout": {
          "annotationdefaults": {
           "arrowcolor": "#2a3f5f",
           "arrowhead": 0,
           "arrowwidth": 1
          },
          "autotypenumbers": "strict",
          "coloraxis": {
           "colorbar": {
            "outlinewidth": 0,
            "ticks": ""
           }
          },
          "colorscale": {
           "diverging": [
            [
             0,
             "#8e0152"
            ],
            [
             0.1,
             "#c51b7d"
            ],
            [
             0.2,
             "#de77ae"
            ],
            [
             0.3,
             "#f1b6da"
            ],
            [
             0.4,
             "#fde0ef"
            ],
            [
             0.5,
             "#f7f7f7"
            ],
            [
             0.6,
             "#e6f5d0"
            ],
            [
             0.7,
             "#b8e186"
            ],
            [
             0.8,
             "#7fbc41"
            ],
            [
             0.9,
             "#4d9221"
            ],
            [
             1,
             "#276419"
            ]
           ],
           "sequential": [
            [
             0,
             "#0d0887"
            ],
            [
             0.1111111111111111,
             "#46039f"
            ],
            [
             0.2222222222222222,
             "#7201a8"
            ],
            [
             0.3333333333333333,
             "#9c179e"
            ],
            [
             0.4444444444444444,
             "#bd3786"
            ],
            [
             0.5555555555555556,
             "#d8576b"
            ],
            [
             0.6666666666666666,
             "#ed7953"
            ],
            [
             0.7777777777777778,
             "#fb9f3a"
            ],
            [
             0.8888888888888888,
             "#fdca26"
            ],
            [
             1,
             "#f0f921"
            ]
           ],
           "sequentialminus": [
            [
             0,
             "#0d0887"
            ],
            [
             0.1111111111111111,
             "#46039f"
            ],
            [
             0.2222222222222222,
             "#7201a8"
            ],
            [
             0.3333333333333333,
             "#9c179e"
            ],
            [
             0.4444444444444444,
             "#bd3786"
            ],
            [
             0.5555555555555556,
             "#d8576b"
            ],
            [
             0.6666666666666666,
             "#ed7953"
            ],
            [
             0.7777777777777778,
             "#fb9f3a"
            ],
            [
             0.8888888888888888,
             "#fdca26"
            ],
            [
             1,
             "#f0f921"
            ]
           ]
          },
          "colorway": [
           "#636efa",
           "#EF553B",
           "#00cc96",
           "#ab63fa",
           "#FFA15A",
           "#19d3f3",
           "#FF6692",
           "#B6E880",
           "#FF97FF",
           "#FECB52"
          ],
          "font": {
           "color": "#2a3f5f"
          },
          "geo": {
           "bgcolor": "white",
           "lakecolor": "white",
           "landcolor": "#E5ECF6",
           "showlakes": true,
           "showland": true,
           "subunitcolor": "white"
          },
          "hoverlabel": {
           "align": "left"
          },
          "hovermode": "closest",
          "mapbox": {
           "style": "light"
          },
          "paper_bgcolor": "white",
          "plot_bgcolor": "#E5ECF6",
          "polar": {
           "angularaxis": {
            "gridcolor": "white",
            "linecolor": "white",
            "ticks": ""
           },
           "bgcolor": "#E5ECF6",
           "radialaxis": {
            "gridcolor": "white",
            "linecolor": "white",
            "ticks": ""
           }
          },
          "scene": {
           "xaxis": {
            "backgroundcolor": "#E5ECF6",
            "gridcolor": "white",
            "gridwidth": 2,
            "linecolor": "white",
            "showbackground": true,
            "ticks": "",
            "zerolinecolor": "white"
           },
           "yaxis": {
            "backgroundcolor": "#E5ECF6",
            "gridcolor": "white",
            "gridwidth": 2,
            "linecolor": "white",
            "showbackground": true,
            "ticks": "",
            "zerolinecolor": "white"
           },
           "zaxis": {
            "backgroundcolor": "#E5ECF6",
            "gridcolor": "white",
            "gridwidth": 2,
            "linecolor": "white",
            "showbackground": true,
            "ticks": "",
            "zerolinecolor": "white"
           }
          },
          "shapedefaults": {
           "line": {
            "color": "#2a3f5f"
           }
          },
          "ternary": {
           "aaxis": {
            "gridcolor": "white",
            "linecolor": "white",
            "ticks": ""
           },
           "baxis": {
            "gridcolor": "white",
            "linecolor": "white",
            "ticks": ""
           },
           "bgcolor": "#E5ECF6",
           "caxis": {
            "gridcolor": "white",
            "linecolor": "white",
            "ticks": ""
           }
          },
          "title": {
           "x": 0.05
          },
          "xaxis": {
           "automargin": true,
           "gridcolor": "white",
           "linecolor": "white",
           "ticks": "",
           "title": {
            "standoff": 15
           },
           "zerolinecolor": "white",
           "zerolinewidth": 2
          },
          "yaxis": {
           "automargin": true,
           "gridcolor": "white",
           "linecolor": "white",
           "ticks": "",
           "title": {
            "standoff": 15
           },
           "zerolinecolor": "white",
           "zerolinewidth": 2
          }
         }
        },
        "title": {
         "text": "Pearson Correlation with punt_global"
        },
        "width": 1200,
        "xaxis": {
         "anchor": "y",
         "domain": [
          0,
          1
         ],
         "title": {
          "text": "Pearson Correlation"
         }
        },
        "yaxis": {
         "anchor": "x",
         "categoryorder": "total ascending",
         "domain": [
          0,
          1
         ],
         "title": {
          "text": "Variables"
         }
        }
       }
      }
     },
     "metadata": {},
     "output_type": "display_data"
    }
   ],
   "source": [
    "import pandas as pd\n",
    "import plotly.express as px\n",
    "\n",
    "def plot_punt_global_correlations(df=puntajes_pacifico):\n",
    "\n",
    "    numerical_df = df.select_dtypes(include=['float64', 'int64'])\n",
    "    \n",
    "    columns_to_exclude = [col for col in numerical_df.columns if col.startswith('punt_') and col != 'punt_global']\n",
    "    numerical_df = numerical_df.drop(columns=columns_to_exclude)\n",
    "    \n",
    "    correlations = numerical_df.corr()['punt_global'].drop('punt_global').sort_values(ascending=False)\n",
    "    \n",
    "    corr_df = correlations.reset_index()\n",
    "    corr_df.columns = ['Variable', 'Correlation']\n",
    "    \n",
    "    corr_df['Sign'] = corr_df['Correlation'].apply(lambda x: 'Positive' if x > 0 else 'Negative')\n",
    "    \n",
    "    fig = px.bar(corr_df, x='Correlation', y='Variable', orientation='h',\n",
    "                 color='Sign', color_discrete_map={'Positive': 'blue', 'Negative': 'red'},\n",
    "                 title='Pearson Correlation with punt_global',\n",
    "                 labels={'Correlation': 'Pearson Correlation', 'Variable': 'Variables'})\n",
    "    \n",
    "    fig.update_layout(yaxis={'categoryorder': 'total ascending'}, height=1000, width=1200)\n",
    "    \n",
    "    fig.show()\n",
    "\n",
    "plot_punt_global_correlations()\n"
   ]
  },
  {
   "cell_type": "code",
   "execution_count": 70,
   "metadata": {},
   "outputs": [
    {
     "name": "stdout",
     "output_type": "stream",
     "text": [
      "Correlaciones con punt_global:\n",
      "tier                                          0.542168\n",
      "nivel_ing_A2                                  0.362564\n",
      "nivel_ing_B1                                  0.356193\n",
      "fami_estratovivienda                          0.337457\n",
      "fami_tieneinternet                            0.273464\n",
      "fami_tienecomputador                          0.268325\n",
      "fami_tieneautomovil                           0.200195\n",
      "madre_Educación profesional completa          0.196864\n",
      "padre_Educación profesional completa          0.192609\n",
      "fami_tienelavadora                            0.178537\n",
      "nivel_ing_B+                                  0.174515\n",
      "cole_area_ubicacion                           0.152555\n",
      "madre_Técnica o tecnológica completa          0.141996\n",
      "nivel_ing_A1                                  0.141180\n",
      "padre_Postgrado                               0.138453\n",
      "madre_Postgrado                               0.130493\n",
      "jornada_MAÑANA                                0.127640\n",
      "padre_Técnica o tecnológica completa          0.125361\n",
      "cole_depto_ubi_VALLE                          0.108483\n",
      "generoCole_FEMENINO                           0.097791\n",
      "periodo                                       0.096438\n",
      "padre_Educación profesional incompleta        0.080079\n",
      "madre_Educación profesional incompleta        0.079848\n",
      "jornada_COMPLETA                              0.078881\n",
      "estu_genero                                   0.078799\n",
      "madre_Secundaria (Bachillerato) completa      0.078602\n",
      "padre_Secundaria (Bachillerato) completa      0.078399\n",
      "generoCole_MASCULINO                          0.051817\n",
      "cole_depto_ubi_NARIÑO                         0.051786\n",
      "madre_Técnica o tecnológica incompleta        0.044194\n",
      "padre_Técnica o tecnológica incompleta        0.037624\n",
      "caracter_ACADÉMICO                            0.030478\n",
      "jornada_TARDE                                 0.014146\n",
      "jornada_UNICA                                 0.008556\n",
      "caracter_TÉCNICO/ACADÉMICO                   -0.007359\n",
      "padre_No sabe                                -0.010906\n",
      "padre_Secundaria (Bachillerato) incompleta   -0.023201\n",
      "fami_cuartoshogar                            -0.025539\n",
      "caracter_TÉCNICO                             -0.026322\n",
      "madre_No sabe                                -0.030877\n",
      "madre_Secundaria (Bachillerato) incompleta   -0.039096\n",
      "padre_Ninguno                                -0.081723\n",
      "padre_Primaria completa                      -0.101557\n",
      "madre_Ninguno                                -0.102270\n",
      "cole_depto_ubi_CAUCA                         -0.109009\n",
      "generoCole_MIXTO                             -0.110053\n",
      "madre_Primaria completa                      -0.112685\n",
      "cole_naturaleza                              -0.124981\n",
      "fami_personashogar                           -0.131215\n",
      "cole_depto_ubi_CHOCO                         -0.153362\n",
      "padre_Primaria incompleta                    -0.169335\n",
      "jornada_SABATINA                             -0.172524\n",
      "madre_Primaria incompleta                    -0.178519\n",
      "cole_calendario                              -0.190298\n",
      "jornada_NOCHE                                -0.194467\n",
      "edad                                         -0.277021\n",
      "nivel_ing_A-                                 -0.525472\n",
      "Name: punt_global, dtype: float64\n"
     ]
    }
   ],
   "source": [
    "# Nueva celda: Imprimir los valores de las correlaciones\n",
    "\n",
    "def print_punt_global_correlations(df=puntajes_pacifico):\n",
    "    # Filtrar el DataFrame para incluir solo parámetros numéricos\n",
    "    numerical_df = df.select_dtypes(include=['float64', 'int64'])\n",
    "    \n",
    "    # Excluir columnas que son puntajes específicos (comenzando con 'punt_' pero no 'punt_global')\n",
    "    columns_to_exclude = [col for col in numerical_df.columns if col.startswith('punt_') and col != 'punt_global']\n",
    "    numerical_df = numerical_df.drop(columns=columns_to_exclude)\n",
    "    \n",
    "    # Calcular la correlación de Pearson del puntaje global con todas las demás variables\n",
    "    correlations = numerical_df.corr()['punt_global'].drop('punt_global').sort_values(ascending=False)\n",
    "    \n",
    "    # Imprimir las correlaciones\n",
    "    print(\"Correlaciones con punt_global:\")\n",
    "    print(correlations)\n",
    "\n",
    "print_punt_global_correlations()\n"
   ]
  },
  {
   "cell_type": "code",
   "execution_count": 84,
   "metadata": {},
   "outputs": [],
   "source": [
    "variables_relevantes = [\n",
    "    'fami_estratovivienda', 'fami_tieneinternet', 'fami_tienecomputador',\n",
    "    'fami_tieneautomovil', 'madre_Educación profesional completa', \n",
    "    'padre_Educación profesional completa', 'fami_tienelavadora', 'punt_global'\n",
    "]\n",
    "\n",
    "data = puntajes_pacifico[variables_relevantes]\n",
    "\n",
    "X = data.drop(['punt_global'], axis=1)\n",
    "y = data['punt_global']\n",
    "\n",
    "input_scaler = MinMaxScaler(feature_range=(0, 1))\n",
    "X_scaled = input_scaler.fit_transform(X)\n",
    "\n",
    "response_scaler = MinMaxScaler(feature_range=(0, 1))\n",
    "y_scaled = response_scaler.fit_transform(y.values.reshape(-1, 1))\n",
    "\n",
    "X_train, X_test, y_train, y_test = train_test_split(X_scaled, y_scaled, test_size=0.2, random_state=42)\n"
   ]
  },
  {
   "cell_type": "code",
   "execution_count": 88,
   "metadata": {},
   "outputs": [
    {
     "name": "stdout",
     "output_type": "stream",
     "text": [
      "1484/1484 [==============================] - 1s 745us/step\n"
     ]
    },
    {
     "name": "stderr",
     "output_type": "stream",
     "text": [
      "2024/05/28 22:19:46 WARNING mlflow.tensorflow: You are saving a TensorFlow Core model or Keras model without a signature. Inference with mlflow.pyfunc.spark_udf() will not work unless the model's pyfunc representation accepts pandas DataFrames as inference inputs.\n"
     ]
    },
    {
     "name": "stdout",
     "output_type": "stream",
     "text": [
      "INFO:tensorflow:Assets written to: C:\\Users\\arcem\\AppData\\Local\\Temp\\tmp0i6mu1f3\\model\\data\\model\\assets\n"
     ]
    },
    {
     "name": "stderr",
     "output_type": "stream",
     "text": [
      "INFO:tensorflow:Assets written to: C:\\Users\\arcem\\AppData\\Local\\Temp\\tmp0i6mu1f3\\model\\data\\model\\assets\n"
     ]
    },
    {
     "name": "stdout",
     "output_type": "stream",
     "text": [
      "1484/1484 [==============================] - 1s 699us/step\n"
     ]
    },
    {
     "name": "stderr",
     "output_type": "stream",
     "text": [
      "2024/05/28 22:20:40 WARNING mlflow.tensorflow: You are saving a TensorFlow Core model or Keras model without a signature. Inference with mlflow.pyfunc.spark_udf() will not work unless the model's pyfunc representation accepts pandas DataFrames as inference inputs.\n"
     ]
    },
    {
     "name": "stdout",
     "output_type": "stream",
     "text": [
      "INFO:tensorflow:Assets written to: C:\\Users\\arcem\\AppData\\Local\\Temp\\tmprxh0accp\\model\\data\\model\\assets\n"
     ]
    },
    {
     "name": "stderr",
     "output_type": "stream",
     "text": [
      "INFO:tensorflow:Assets written to: C:\\Users\\arcem\\AppData\\Local\\Temp\\tmprxh0accp\\model\\data\\model\\assets\n"
     ]
    },
    {
     "name": "stdout",
     "output_type": "stream",
     "text": [
      "1484/1484 [==============================] - 1s 710us/step\n"
     ]
    },
    {
     "name": "stderr",
     "output_type": "stream",
     "text": [
      "2024/05/28 22:21:34 WARNING mlflow.tensorflow: You are saving a TensorFlow Core model or Keras model without a signature. Inference with mlflow.pyfunc.spark_udf() will not work unless the model's pyfunc representation accepts pandas DataFrames as inference inputs.\n"
     ]
    },
    {
     "name": "stdout",
     "output_type": "stream",
     "text": [
      "INFO:tensorflow:Assets written to: C:\\Users\\arcem\\AppData\\Local\\Temp\\tmpquuwd5jd\\model\\data\\model\\assets\n"
     ]
    },
    {
     "name": "stderr",
     "output_type": "stream",
     "text": [
      "INFO:tensorflow:Assets written to: C:\\Users\\arcem\\AppData\\Local\\Temp\\tmpquuwd5jd\\model\\data\\model\\assets\n"
     ]
    },
    {
     "name": "stdout",
     "output_type": "stream",
     "text": [
      "1484/1484 [==============================] - 1s 707us/step\n"
     ]
    },
    {
     "name": "stderr",
     "output_type": "stream",
     "text": [
      "2024/05/28 22:25:19 WARNING mlflow.tensorflow: You are saving a TensorFlow Core model or Keras model without a signature. Inference with mlflow.pyfunc.spark_udf() will not work unless the model's pyfunc representation accepts pandas DataFrames as inference inputs.\n"
     ]
    },
    {
     "name": "stdout",
     "output_type": "stream",
     "text": [
      "INFO:tensorflow:Assets written to: C:\\Users\\arcem\\AppData\\Local\\Temp\\tmpm_sswguw\\model\\data\\model\\assets\n"
     ]
    },
    {
     "name": "stderr",
     "output_type": "stream",
     "text": [
      "INFO:tensorflow:Assets written to: C:\\Users\\arcem\\AppData\\Local\\Temp\\tmpm_sswguw\\model\\data\\model\\assets\n"
     ]
    },
    {
     "name": "stdout",
     "output_type": "stream",
     "text": [
      "1484/1484 [==============================] - 1s 752us/step\n"
     ]
    },
    {
     "name": "stderr",
     "output_type": "stream",
     "text": [
      "2024/05/28 22:29:10 WARNING mlflow.tensorflow: You are saving a TensorFlow Core model or Keras model without a signature. Inference with mlflow.pyfunc.spark_udf() will not work unless the model's pyfunc representation accepts pandas DataFrames as inference inputs.\n"
     ]
    },
    {
     "name": "stdout",
     "output_type": "stream",
     "text": [
      "INFO:tensorflow:Assets written to: C:\\Users\\arcem\\AppData\\Local\\Temp\\tmphh7nz6n7\\model\\data\\model\\assets\n"
     ]
    },
    {
     "name": "stderr",
     "output_type": "stream",
     "text": [
      "INFO:tensorflow:Assets written to: C:\\Users\\arcem\\AppData\\Local\\Temp\\tmphh7nz6n7\\model\\data\\model\\assets\n"
     ]
    },
    {
     "name": "stdout",
     "output_type": "stream",
     "text": [
      "1484/1484 [==============================] - 1s 685us/step\n"
     ]
    },
    {
     "name": "stderr",
     "output_type": "stream",
     "text": [
      "2024/05/28 22:32:58 WARNING mlflow.tensorflow: You are saving a TensorFlow Core model or Keras model without a signature. Inference with mlflow.pyfunc.spark_udf() will not work unless the model's pyfunc representation accepts pandas DataFrames as inference inputs.\n"
     ]
    },
    {
     "name": "stdout",
     "output_type": "stream",
     "text": [
      "INFO:tensorflow:Assets written to: C:\\Users\\arcem\\AppData\\Local\\Temp\\tmpvrgzof2c\\model\\data\\model\\assets\n"
     ]
    },
    {
     "name": "stderr",
     "output_type": "stream",
     "text": [
      "INFO:tensorflow:Assets written to: C:\\Users\\arcem\\AppData\\Local\\Temp\\tmpvrgzof2c\\model\\data\\model\\assets\n"
     ]
    }
   ],
   "source": [
    "def train_and_log_model(epochs, hidden_layer_size):\n",
    "    # Define la arquitectura del modelo\n",
    "    model = Sequential()\n",
    "    model.add(Dense(40, activation='relu', kernel_initializer='uniform', input_shape=(X_train.shape[1],)))\n",
    "    model.add(Dense(hidden_layer_size, activation='relu'))\n",
    "    model.add(Dense(1, activation='linear'))\n",
    "\n",
    "    # Compila el modelo\n",
    "    optimizer = optimizers.Adam(learning_rate=0.01)\n",
    "    model.compile(loss='mean_squared_error', optimizer=optimizer, metrics=['mean_squared_error'])\n",
    "\n",
    "    # Entrena el modelo\n",
    "    history = model.fit(X_train, y_train, epochs=epochs, verbose=0, validation_split=0.2)\n",
    "\n",
    "    # Calcula las predicciones y las métricas\n",
    "    predictions_scaled = model.predict(X_test)\n",
    "    predictions = scaler_y.inverse_transform(predictions_scaled).flatten()\n",
    "    y_test_actual = scaler_y.inverse_transform(y_test).flatten()\n",
    "\n",
    "    mse = mean_squared_error(y_test_actual, predictions)\n",
    "    r2 = r2_score(y_test_actual, predictions)\n",
    "\n",
    "    # Registra el modelo y las métricas con MLflow\n",
    "    with mlflow.start_run():\n",
    "        params = {\n",
    "            'epochs': epochs,\n",
    "            'hidden_layer_size': hidden_layer_size,\n",
    "            'learning_rate': 0.01\n",
    "        }\n",
    "        mlflow.log_params(params)\n",
    "\n",
    "        mlflow.log_metric('MSE', mse)\n",
    "        mlflow.log_metric('R2 Score', r2)\n",
    "\n",
    "        mlflow.keras.log_model(model, 'model')\n",
    "\n",
    "    return mse, r2\n",
    "\n",
    "# Realiza experimentos con diferentes configuraciones de epochs y hidden_layer_size\n",
    "epochs_list = [10, 50, 100]\n",
    "hidden_layer_sizes = [100, 200, 300]\n",
    "\n",
    "best_mse = float('inf')\n",
    "best_r2 = float('-inf')\n",
    "best_config_mse = None\n",
    "best_config_r2 = None\n",
    "\n",
    "for epochs in epochs_list:\n",
    "    for hidden_layer_size in hidden_layer_sizes:\n",
    "        mse, r2 = train_and_log_model(epochs, hidden_layer_size)\n",
    "        \n",
    "        # Actualiza la mejor configuración para MSE\n",
    "        if mse < best_mse:\n",
    "            best_mse = mse\n",
    "            best_config_mse = {'epochs': epochs, 'hidden_layer_size': hidden_layer_size}\n",
    "        \n",
    "        # Actualiza la mejor configuración para R2 Score\n",
    "        if r2 > best_r2:\n",
    "            best_r2 = r2\n",
    "            best_config_r2 = {'epochs': epochs, 'hidden_layer_size': hidden_layer_size}\n",
    "\n",
    "print('Mejor configuración para MSE:', best_config_mse)\n",
    "print('Mejor configuración para R2 Score:', best_config_r2)\n",
    "print('MSE correspondiente:', best_mse)\n",
    "print('R2 Score correspondiente:', best_r2)"
   ]
  },
  {
   "cell_type": "markdown",
   "metadata": {},
   "source": [
    "Se seleccionan las columnas del DataFrame 'puntajes_pacifico' que contienen la palabra \"punt\" en su nombre."
   ]
  },
  {
   "cell_type": "code",
   "execution_count": 33,
   "metadata": {},
   "outputs": [
    {
     "data": {
      "text/html": [
       "<div>\n",
       "<style scoped>\n",
       "    .dataframe tbody tr th:only-of-type {\n",
       "        vertical-align: middle;\n",
       "    }\n",
       "\n",
       "    .dataframe tbody tr th {\n",
       "        vertical-align: top;\n",
       "    }\n",
       "\n",
       "    .dataframe thead th {\n",
       "        text-align: right;\n",
       "    }\n",
       "</style>\n",
       "<table border=\"1\" class=\"dataframe\">\n",
       "  <thead>\n",
       "    <tr style=\"text-align: right;\">\n",
       "      <th></th>\n",
       "      <th>punt_ingles</th>\n",
       "      <th>punt_matematicas</th>\n",
       "      <th>punt_sociales_ciudadanas</th>\n",
       "      <th>punt_c_naturales</th>\n",
       "      <th>punt_lectura_critica</th>\n",
       "      <th>punt_global</th>\n",
       "    </tr>\n",
       "  </thead>\n",
       "  <tbody>\n",
       "    <tr>\n",
       "      <th>0</th>\n",
       "      <td>50.0</td>\n",
       "      <td>53.0</td>\n",
       "      <td>37.0</td>\n",
       "      <td>47.0</td>\n",
       "      <td>42.0</td>\n",
       "      <td>227.0</td>\n",
       "    </tr>\n",
       "    <tr>\n",
       "      <th>1</th>\n",
       "      <td>52.0</td>\n",
       "      <td>52.0</td>\n",
       "      <td>55.0</td>\n",
       "      <td>57.0</td>\n",
       "      <td>52.0</td>\n",
       "      <td>270.0</td>\n",
       "    </tr>\n",
       "    <tr>\n",
       "      <th>2</th>\n",
       "      <td>60.0</td>\n",
       "      <td>70.0</td>\n",
       "      <td>60.0</td>\n",
       "      <td>64.0</td>\n",
       "      <td>58.0</td>\n",
       "      <td>314.0</td>\n",
       "    </tr>\n",
       "    <tr>\n",
       "      <th>3</th>\n",
       "      <td>38.0</td>\n",
       "      <td>45.0</td>\n",
       "      <td>43.0</td>\n",
       "      <td>41.0</td>\n",
       "      <td>26.0</td>\n",
       "      <td>193.0</td>\n",
       "    </tr>\n",
       "    <tr>\n",
       "      <th>4</th>\n",
       "      <td>41.0</td>\n",
       "      <td>34.0</td>\n",
       "      <td>24.0</td>\n",
       "      <td>45.0</td>\n",
       "      <td>44.0</td>\n",
       "      <td>185.0</td>\n",
       "    </tr>\n",
       "    <tr>\n",
       "      <th>...</th>\n",
       "      <td>...</td>\n",
       "      <td>...</td>\n",
       "      <td>...</td>\n",
       "      <td>...</td>\n",
       "      <td>...</td>\n",
       "      <td>...</td>\n",
       "    </tr>\n",
       "    <tr>\n",
       "      <th>237377</th>\n",
       "      <td>41.0</td>\n",
       "      <td>39.0</td>\n",
       "      <td>49.0</td>\n",
       "      <td>45.0</td>\n",
       "      <td>38.0</td>\n",
       "      <td>213.0</td>\n",
       "    </tr>\n",
       "    <tr>\n",
       "      <th>237378</th>\n",
       "      <td>41.0</td>\n",
       "      <td>26.0</td>\n",
       "      <td>34.0</td>\n",
       "      <td>42.0</td>\n",
       "      <td>32.0</td>\n",
       "      <td>170.0</td>\n",
       "    </tr>\n",
       "    <tr>\n",
       "      <th>237379</th>\n",
       "      <td>56.0</td>\n",
       "      <td>42.0</td>\n",
       "      <td>39.0</td>\n",
       "      <td>50.0</td>\n",
       "      <td>52.0</td>\n",
       "      <td>233.0</td>\n",
       "    </tr>\n",
       "    <tr>\n",
       "      <th>237380</th>\n",
       "      <td>59.0</td>\n",
       "      <td>51.0</td>\n",
       "      <td>59.0</td>\n",
       "      <td>28.0</td>\n",
       "      <td>56.0</td>\n",
       "      <td>247.0</td>\n",
       "    </tr>\n",
       "    <tr>\n",
       "      <th>237381</th>\n",
       "      <td>40.0</td>\n",
       "      <td>50.0</td>\n",
       "      <td>46.0</td>\n",
       "      <td>43.0</td>\n",
       "      <td>47.0</td>\n",
       "      <td>230.0</td>\n",
       "    </tr>\n",
       "  </tbody>\n",
       "</table>\n",
       "<p>237382 rows × 6 columns</p>\n",
       "</div>"
      ],
      "text/plain": [
       "        punt_ingles  punt_matematicas  punt_sociales_ciudadanas  \\\n",
       "0              50.0              53.0                      37.0   \n",
       "1              52.0              52.0                      55.0   \n",
       "2              60.0              70.0                      60.0   \n",
       "3              38.0              45.0                      43.0   \n",
       "4              41.0              34.0                      24.0   \n",
       "...             ...               ...                       ...   \n",
       "237377         41.0              39.0                      49.0   \n",
       "237378         41.0              26.0                      34.0   \n",
       "237379         56.0              42.0                      39.0   \n",
       "237380         59.0              51.0                      59.0   \n",
       "237381         40.0              50.0                      46.0   \n",
       "\n",
       "        punt_c_naturales  punt_lectura_critica  punt_global  \n",
       "0                   47.0                  42.0        227.0  \n",
       "1                   57.0                  52.0        270.0  \n",
       "2                   64.0                  58.0        314.0  \n",
       "3                   41.0                  26.0        193.0  \n",
       "4                   45.0                  44.0        185.0  \n",
       "...                  ...                   ...          ...  \n",
       "237377              45.0                  38.0        213.0  \n",
       "237378              42.0                  32.0        170.0  \n",
       "237379              50.0                  52.0        233.0  \n",
       "237380              28.0                  56.0        247.0  \n",
       "237381              43.0                  47.0        230.0  \n",
       "\n",
       "[237382 rows x 6 columns]"
      ]
     },
     "execution_count": 33,
     "metadata": {},
     "output_type": "execute_result"
    }
   ],
   "source": [
    "puntajes_pacifico[[_ for _ in puntajes_pacifico.columns if re.search(\"punt\",_)]]"
   ]
  },
  {
   "cell_type": "markdown",
   "metadata": {},
   "source": [
    "Histograma de la variable 'punt_global' del DataFrame 'puntajes_pacifico'."
   ]
  },
  {
   "cell_type": "code",
   "execution_count": 34,
   "metadata": {},
   "outputs": [
    {
     "data": {
      "text/plain": [
       "<Axes: >"
      ]
     },
     "execution_count": 34,
     "metadata": {},
     "output_type": "execute_result"
    },
    {
     "data": {
      "image/png": "[encoded data removed]",
      "text/plain": [
       "<Figure size 640x480 with 1 Axes>"
      ]
     },
     "metadata": {},
     "output_type": "display_data"
    }
   ],
   "source": [
    "puntajes_pacifico[\"punt_global\"].hist(bins=30)"
   ]
  },
  {
   "cell_type": "markdown",
   "metadata": {},
   "source": [
    "Se seleccionan las columnas del DataFrame 'puntajes_pacifico' que contienen la palabra \"punt\" en su nombre y se almacenan en la lista 'puntajes_cols'."
   ]
  },
  {
   "cell_type": "code",
   "execution_count": 35,
   "metadata": {},
   "outputs": [
    {
     "data": {
      "text/plain": [
       "['punt_ingles',\n",
       " 'punt_matematicas',\n",
       " 'punt_sociales_ciudadanas',\n",
       " 'punt_c_naturales',\n",
       " 'punt_lectura_critica',\n",
       " 'punt_global']"
      ]
     },
     "execution_count": 35,
     "metadata": {},
     "output_type": "execute_result"
    }
   ],
   "source": [
    " puntajes_cols=[_ for _ in puntajes_pacifico.columns if re.search(\"punt\",_)]\n",
    " puntajes_cols"
   ]
  },
  {
   "cell_type": "markdown",
   "metadata": {},
   "source": [
    "Copia del DataFrame 'puntajes_pacifico'. Se eliminan del DataFrame las columnas de puntajes y la columna 'estu_consecutivo'.\n"
   ]
  },
  {
   "cell_type": "code",
   "execution_count": 36,
   "metadata": {},
   "outputs": [
    {
     "name": "stdout",
     "output_type": "stream",
     "text": [
      "<class 'pandas.core.frame.DataFrame'>\n",
      "RangeIndex: 237382 entries, 0 to 237381\n",
      "Data columns (total 57 columns):\n",
      " #   Column                                      Non-Null Count   Dtype  \n",
      "---  ------                                      --------------   -----  \n",
      " 0   periodo                                     237382 non-null  int64  \n",
      " 1   cole_area_ubicacion                         237382 non-null  int64  \n",
      " 2   cole_calendario                             237382 non-null  int64  \n",
      " 3   cole_naturaleza                             237382 non-null  int64  \n",
      " 4   estu_genero                                 237382 non-null  int64  \n",
      " 5   fami_cuartoshogar                           237382 non-null  int64  \n",
      " 6   fami_estratovivienda                        237382 non-null  int64  \n",
      " 7   fami_personashogar                          237382 non-null  int64  \n",
      " 8   fami_tieneautomovil                         237382 non-null  int64  \n",
      " 9   fami_tienecomputador                        237382 non-null  int64  \n",
      " 10  fami_tieneinternet                          237382 non-null  int64  \n",
      " 11  fami_tienelavadora                          237382 non-null  int64  \n",
      " 12  tier                                        237382 non-null  float64\n",
      " 13  edad                                        237382 non-null  float64\n",
      " 14  caracter_ACADÉMICO                          237382 non-null  int64  \n",
      " 15  caracter_TÉCNICO                            237382 non-null  int64  \n",
      " 16  caracter_TÉCNICO/ACADÉMICO                  237382 non-null  int64  \n",
      " 17  cole_depto_ubi_CAUCA                        237382 non-null  int64  \n",
      " 18  cole_depto_ubi_CHOCO                        237382 non-null  int64  \n",
      " 19  cole_depto_ubi_NARIÑO                       237382 non-null  int64  \n",
      " 20  cole_depto_ubi_VALLE                        237382 non-null  int64  \n",
      " 21  generoCole_FEMENINO                         237382 non-null  int64  \n",
      " 22  generoCole_MASCULINO                        237382 non-null  int64  \n",
      " 23  generoCole_MIXTO                            237382 non-null  int64  \n",
      " 24  jornada_COMPLETA                            237382 non-null  int64  \n",
      " 25  jornada_MAÑANA                              237382 non-null  int64  \n",
      " 26  jornada_NOCHE                               237382 non-null  int64  \n",
      " 27  jornada_SABATINA                            237382 non-null  int64  \n",
      " 28  jornada_TARDE                               237382 non-null  int64  \n",
      " 29  jornada_UNICA                               237382 non-null  int64  \n",
      " 30  madre_Educación profesional completa        237382 non-null  int64  \n",
      " 31  madre_Educación profesional incompleta      237382 non-null  int64  \n",
      " 32  madre_Ninguno                               237382 non-null  int64  \n",
      " 33  madre_No sabe                               237382 non-null  int64  \n",
      " 34  madre_Postgrado                             237382 non-null  int64  \n",
      " 35  madre_Primaria completa                     237382 non-null  int64  \n",
      " 36  madre_Primaria incompleta                   237382 non-null  int64  \n",
      " 37  madre_Secundaria (Bachillerato) completa    237382 non-null  int64  \n",
      " 38  madre_Secundaria (Bachillerato) incompleta  237382 non-null  int64  \n",
      " 39  madre_Técnica o tecnológica completa        237382 non-null  int64  \n",
      " 40  madre_Técnica o tecnológica incompleta      237382 non-null  int64  \n",
      " 41  padre_Educación profesional completa        237382 non-null  int64  \n",
      " 42  padre_Educación profesional incompleta      237382 non-null  int64  \n",
      " 43  padre_Ninguno                               237382 non-null  int64  \n",
      " 44  padre_No sabe                               237382 non-null  int64  \n",
      " 45  padre_Postgrado                             237382 non-null  int64  \n",
      " 46  padre_Primaria completa                     237382 non-null  int64  \n",
      " 47  padre_Primaria incompleta                   237382 non-null  int64  \n",
      " 48  padre_Secundaria (Bachillerato) completa    237382 non-null  int64  \n",
      " 49  padre_Secundaria (Bachillerato) incompleta  237382 non-null  int64  \n",
      " 50  padre_Técnica o tecnológica completa        237382 non-null  int64  \n",
      " 51  padre_Técnica o tecnológica incompleta      237382 non-null  int64  \n",
      " 52  nivel_ing_A-                                237382 non-null  int64  \n",
      " 53  nivel_ing_A1                                237382 non-null  int64  \n",
      " 54  nivel_ing_A2                                237382 non-null  int64  \n",
      " 55  nivel_ing_B+                                237382 non-null  int64  \n",
      " 56  nivel_ing_B1                                237382 non-null  int64  \n",
      "dtypes: float64(2), int64(55)\n",
      "memory usage: 103.2 MB\n"
     ]
    }
   ],
   "source": [
    "data=puntajes_pacifico.copy()\n",
    "X = data.drop( puntajes_cols+[\"estu_consecutivo\"], axis=1)\n",
    "X.info()"
   ]
  },
  {
   "cell_type": "markdown",
   "metadata": {},
   "source": [
    "Se define la variable 'y' como la columna 'punt_global' del DataFrame 'data'."
   ]
  },
  {
   "cell_type": "code",
   "execution_count": 37,
   "metadata": {},
   "outputs": [],
   "source": [
    "y = data['punt_global']"
   ]
  },
  {
   "cell_type": "markdown",
   "metadata": {},
   "source": [
    "Se establece la dirección del servidor de MLflow.\n"
   ]
  },
  {
   "cell_type": "code",
   "execution_count": 38,
   "metadata": {},
   "outputs": [],
   "source": [
    "import mlflow\n",
    "mlflow.set_tracking_uri(\"http://127.0.0.1:8000\")"
   ]
  },
  {
   "cell_type": "markdown",
   "metadata": {},
   "source": [
    "### Entrenamiento del modelo de predicción\n",
    "Pregunta Predictiva\n",
    "\n",
    "¿Cómo se ve afectado el puntaje global al reducirse la brecha de calidad educativa entre los colegios de los departamentos del Pacífico entre 2014 y 2016, considerando los diferentes estratos socioeconómicos?\n"
   ]
  },
  {
   "cell_type": "code",
   "execution_count": 40,
   "metadata": {},
   "outputs": [
    {
     "name": "stdout",
     "output_type": "stream",
     "text": [
      "5935/5935 [==============================] - 6s 849us/step - loss: 0.0147 - mean_squared_error: 0.0147\n",
      "1484/1484 [==============================] - 1s 687us/step\n"
     ]
    },
    {
     "name": "stderr",
     "output_type": "stream",
     "text": [
      "2024/05/28 19:10:52 WARNING mlflow.tensorflow: You are saving a TensorFlow Core model or Keras model without a signature. Inference with mlflow.pyfunc.spark_udf() will not work unless the model's pyfunc representation accepts pandas DataFrames as inference inputs.\n"
     ]
    },
    {
     "name": "stdout",
     "output_type": "stream",
     "text": [
      "INFO:tensorflow:Assets written to: C:\\Users\\arcem\\AppData\\Local\\Temp\\tmpyhrk1ic1\\model\\data\\model\\assets\n"
     ]
    },
    {
     "name": "stderr",
     "output_type": "stream",
     "text": [
      "INFO:tensorflow:Assets written to: C:\\Users\\arcem\\AppData\\Local\\Temp\\tmpyhrk1ic1\\model\\data\\model\\assets\n"
     ]
    },
    {
     "name": "stdout",
     "output_type": "stream",
     "text": [
      "R2 Score: 0.5448756298114954\n"
     ]
    }
   ],
   "source": [
    "import mlflow\n",
    "import numpy as np\n",
    "from sklearn.preprocessing import MinMaxScaler\n",
    "from keras.models import Sequential\n",
    "from keras.layers import Dense\n",
    "from keras import optimizers\n",
    "from sklearn.model_selection import train_test_split\n",
    "from sklearn.metrics import r2_score\n",
    "\n",
    "\n",
    "X_train, X_test, y_train, y_test = train_test_split(X, y, test_size=0.2, random_state=42)\n",
    "\n",
    "mlflow.end_run()\n",
    "\n",
    "mlflow.start_run()\n",
    "\n",
    "params = {\n",
    "    \"epochs\": 1,\n",
    "\n",
    "    \"hidden_layer_size\": 50,\n",
    "    \"embedding_layer_size\": 20,\n",
    "    \n",
    "    \"neuron_activation\": \"relu\",\n",
    "    \"weight_init\": \"uniform\",\n",
    "    \"learning_rate\": 0.01\n",
    "}\n",
    "mlflow.log_params(params)\n",
    "\n",
    "input_scaler = MinMaxScaler(feature_range=(0, 1))\n",
    "x_scaled_train = input_scaler.fit_transform(X_train)\n",
    "x_scaled_test = input_scaler.transform(X_test)\n",
    "\n",
    "y_train = y_train.to_numpy().reshape(-1, 1)  \n",
    "response_scaler = MinMaxScaler(feature_range=(0, 1))\n",
    "y_scaled_train = response_scaler.fit_transform(y_train)\n",
    "\n",
    "model = Sequential()\n",
    "model.add(Dense(params['embedding_layer_size'], activation=params['neuron_activation'],\n",
    "                kernel_initializer=params['weight_init'], input_shape=(x_scaled_train.shape[1],)))\n",
    "model.add(Dense(params['hidden_layer_size'], activation=params['neuron_activation']))\n",
    "model.add(Dense(1, activation=\"linear\"))\n",
    "\n",
    "optimizer = optimizers.Adam(learning_rate=params['learning_rate'])\n",
    "model.compile(loss=\"mean_squared_error\", optimizer=optimizer, metrics=[\"mean_squared_error\"])\n",
    "\n",
    "history = model.fit(x_scaled_train, y_scaled_train, epochs=params['epochs'], verbose=1)\n",
    "\n",
    "predictions_scaled = model.predict(x_scaled_test)\n",
    "predictions = response_scaler.inverse_transform(predictions_scaled).flatten()\n",
    "\n",
    "r2_out_of_sample = r2_score(y_test, predictions)  \n",
    "mlflow.log_metric(\"R2_out_of_sample\", r2_out_of_sample)\n",
    "\n",
    "mlflow.keras.log_model(model, \"model\")\n",
    "\n",
    "print(\"R2 Score:\", r2_out_of_sample)\n",
    "\n",
    "mlflow.end_run()"
   ]
  },
  {
   "cell_type": "markdown",
   "metadata": {},
   "source": [
    "Ahora se realizan los experimentos para los cuales se propusieron cambios ne la arquitectura del modelo"
   ]
  },
  {
   "cell_type": "code",
   "execution_count": 41,
   "metadata": {},
   "outputs": [
    {
     "name": "stdout",
     "output_type": "stream",
     "text": [
      "Epoch 1/10\n",
      "5935/5935 [==============================] - 5s 842us/step - loss: 0.0146 - mean_squared_error: 0.0146\n",
      "Epoch 2/10\n",
      "5935/5935 [==============================] - 5s 828us/step - loss: 0.0141 - mean_squared_error: 0.0141\n",
      "Epoch 3/10\n",
      "5935/5935 [==============================] - 5s 828us/step - loss: 0.0141 - mean_squared_error: 0.0141\n",
      "Epoch 4/10\n",
      "5935/5935 [==============================] - 5s 814us/step - loss: 0.0141 - mean_squared_error: 0.0141\n",
      "Epoch 5/10\n",
      "5935/5935 [==============================] - 5s 833us/step - loss: 0.0140 - mean_squared_error: 0.0140\n",
      "Epoch 6/10\n",
      "5935/5935 [==============================] - 5s 827us/step - loss: 0.0140 - mean_squared_error: 0.0140\n",
      "Epoch 7/10\n",
      "5935/5935 [==============================] - 5s 835us/step - loss: 0.0140 - mean_squared_error: 0.0140\n",
      "Epoch 8/10\n",
      "5935/5935 [==============================] - 5s 820us/step - loss: 0.0140 - mean_squared_error: 0.0140\n",
      "Epoch 9/10\n",
      "5935/5935 [==============================] - 5s 829us/step - loss: 0.0140 - mean_squared_error: 0.0140\n",
      "Epoch 10/10\n",
      "5935/5935 [==============================] - 5s 825us/step - loss: 0.0140 - mean_squared_error: 0.0140\n",
      "1484/1484 [==============================] - 1s 672us/step\n"
     ]
    },
    {
     "name": "stderr",
     "output_type": "stream",
     "text": [
      "2024/05/28 19:17:07 WARNING mlflow.tensorflow: You are saving a TensorFlow Core model or Keras model without a signature. Inference with mlflow.pyfunc.spark_udf() will not work unless the model's pyfunc representation accepts pandas DataFrames as inference inputs.\n"
     ]
    },
    {
     "name": "stdout",
     "output_type": "stream",
     "text": [
      "INFO:tensorflow:Assets written to: C:\\Users\\arcem\\AppData\\Local\\Temp\\tmp4yqcauav\\model\\data\\model\\assets\n"
     ]
    },
    {
     "name": "stderr",
     "output_type": "stream",
     "text": [
      "INFO:tensorflow:Assets written to: C:\\Users\\arcem\\AppData\\Local\\Temp\\tmp4yqcauav\\model\\data\\model\\assets\n"
     ]
    },
    {
     "name": "stdout",
     "output_type": "stream",
     "text": [
      "Epoch 1/10\n",
      "5935/5935 [==============================] - 5s 834us/step - loss: 0.0147 - mean_squared_error: 0.0147\n",
      "Epoch 2/10\n",
      "5935/5935 [==============================] - 5s 857us/step - loss: 0.0142 - mean_squared_error: 0.0142\n",
      "Epoch 3/10\n",
      "5935/5935 [==============================] - 5s 846us/step - loss: 0.0142 - mean_squared_error: 0.0142\n",
      "Epoch 4/10\n",
      "5935/5935 [==============================] - 5s 856us/step - loss: 0.0142 - mean_squared_error: 0.0142\n",
      "Epoch 5/10\n",
      "5935/5935 [==============================] - 5s 843us/step - loss: 0.0142 - mean_squared_error: 0.0142\n",
      "Epoch 6/10\n",
      "5935/5935 [==============================] - 5s 850us/step - loss: 0.0141 - mean_squared_error: 0.0141\n",
      "Epoch 7/10\n",
      "5935/5935 [==============================] - 5s 830us/step - loss: 0.0142 - mean_squared_error: 0.0142\n",
      "Epoch 8/10\n",
      "5935/5935 [==============================] - 5s 838us/step - loss: 0.0141 - mean_squared_error: 0.0141\n",
      "Epoch 9/10\n",
      "5935/5935 [==============================] - 5s 836us/step - loss: 0.0142 - mean_squared_error: 0.0142\n",
      "Epoch 10/10\n",
      "5935/5935 [==============================] - 5s 851us/step - loss: 0.0142 - mean_squared_error: 0.0142\n",
      "1484/1484 [==============================] - 1s 670us/step\n"
     ]
    },
    {
     "name": "stderr",
     "output_type": "stream",
     "text": [
      "2024/05/28 19:18:06 WARNING mlflow.tensorflow: You are saving a TensorFlow Core model or Keras model without a signature. Inference with mlflow.pyfunc.spark_udf() will not work unless the model's pyfunc representation accepts pandas DataFrames as inference inputs.\n"
     ]
    },
    {
     "name": "stdout",
     "output_type": "stream",
     "text": [
      "INFO:tensorflow:Assets written to: C:\\Users\\arcem\\AppData\\Local\\Temp\\tmpo9fbm7vc\\model\\data\\model\\assets\n"
     ]
    },
    {
     "name": "stderr",
     "output_type": "stream",
     "text": [
      "INFO:tensorflow:Assets written to: C:\\Users\\arcem\\AppData\\Local\\Temp\\tmpo9fbm7vc\\model\\data\\model\\assets\n"
     ]
    },
    {
     "name": "stdout",
     "output_type": "stream",
     "text": [
      "Epoch 1/10\n",
      "5935/5935 [==============================] - 5s 829us/step - loss: 0.0147 - mean_squared_error: 0.0147\n",
      "Epoch 2/10\n",
      "5935/5935 [==============================] - 5s 826us/step - loss: 0.0142 - mean_squared_error: 0.0142\n",
      "Epoch 3/10\n",
      "5935/5935 [==============================] - 5s 841us/step - loss: 0.0141 - mean_squared_error: 0.0141\n",
      "Epoch 4/10\n",
      "5935/5935 [==============================] - 5s 833us/step - loss: 0.0141 - mean_squared_error: 0.0141\n",
      "Epoch 5/10\n",
      "5935/5935 [==============================] - 5s 837us/step - loss: 0.0141 - mean_squared_error: 0.0141\n",
      "Epoch 6/10\n",
      "5935/5935 [==============================] - 5s 815us/step - loss: 0.0140 - mean_squared_error: 0.0140\n",
      "Epoch 7/10\n",
      "5935/5935 [==============================] - 5s 827us/step - loss: 0.0140 - mean_squared_error: 0.0140\n",
      "Epoch 8/10\n",
      "5935/5935 [==============================] - 5s 826us/step - loss: 0.0140 - mean_squared_error: 0.0140\n",
      "Epoch 9/10\n",
      "5935/5935 [==============================] - 5s 836us/step - loss: 0.0140 - mean_squared_error: 0.0140\n",
      "Epoch 10/10\n",
      "5935/5935 [==============================] - 5s 824us/step - loss: 0.0140 - mean_squared_error: 0.0140\n",
      "1484/1484 [==============================] - 1s 704us/step\n"
     ]
    },
    {
     "name": "stderr",
     "output_type": "stream",
     "text": [
      "2024/05/28 19:19:03 WARNING mlflow.tensorflow: You are saving a TensorFlow Core model or Keras model without a signature. Inference with mlflow.pyfunc.spark_udf() will not work unless the model's pyfunc representation accepts pandas DataFrames as inference inputs.\n"
     ]
    },
    {
     "name": "stdout",
     "output_type": "stream",
     "text": [
      "INFO:tensorflow:Assets written to: C:\\Users\\arcem\\AppData\\Local\\Temp\\tmp5ibto6y7\\model\\data\\model\\assets\n"
     ]
    },
    {
     "name": "stderr",
     "output_type": "stream",
     "text": [
      "INFO:tensorflow:Assets written to: C:\\Users\\arcem\\AppData\\Local\\Temp\\tmp5ibto6y7\\model\\data\\model\\assets\n"
     ]
    },
    {
     "name": "stdout",
     "output_type": "stream",
     "text": [
      "Epoch 1/10\n",
      "5935/5935 [==============================] - 5s 836us/step - loss: 0.0147 - mean_squared_error: 0.0147\n",
      "Epoch 2/10\n",
      "5935/5935 [==============================] - 5s 839us/step - loss: 0.0142 - mean_squared_error: 0.0142\n",
      "Epoch 3/10\n",
      "5935/5935 [==============================] - 5s 838us/step - loss: 0.0142 - mean_squared_error: 0.0142\n",
      "Epoch 4/10\n",
      "5935/5935 [==============================] - 5s 838us/step - loss: 0.0142 - mean_squared_error: 0.0142\n",
      "Epoch 5/10\n",
      "5935/5935 [==============================] - 5s 834us/step - loss: 0.0141 - mean_squared_error: 0.0141\n",
      "Epoch 6/10\n",
      "5935/5935 [==============================] - 5s 844us/step - loss: 0.0141 - mean_squared_error: 0.0141\n",
      "Epoch 7/10\n",
      "5935/5935 [==============================] - 5s 831us/step - loss: 0.0142 - mean_squared_error: 0.0142\n",
      "Epoch 8/10\n",
      "5935/5935 [==============================] - 5s 837us/step - loss: 0.0141 - mean_squared_error: 0.0141\n",
      "Epoch 9/10\n",
      "5935/5935 [==============================] - 5s 851us/step - loss: 0.0141 - mean_squared_error: 0.0141\n",
      "Epoch 10/10\n",
      "5935/5935 [==============================] - 5s 844us/step - loss: 0.0141 - mean_squared_error: 0.0141\n",
      "1484/1484 [==============================] - 1s 707us/step\n"
     ]
    },
    {
     "name": "stderr",
     "output_type": "stream",
     "text": [
      "2024/05/28 19:20:02 WARNING mlflow.tensorflow: You are saving a TensorFlow Core model or Keras model without a signature. Inference with mlflow.pyfunc.spark_udf() will not work unless the model's pyfunc representation accepts pandas DataFrames as inference inputs.\n"
     ]
    },
    {
     "name": "stdout",
     "output_type": "stream",
     "text": [
      "INFO:tensorflow:Assets written to: C:\\Users\\arcem\\AppData\\Local\\Temp\\tmpvnalb39v\\model\\data\\model\\assets\n"
     ]
    },
    {
     "name": "stderr",
     "output_type": "stream",
     "text": [
      "INFO:tensorflow:Assets written to: C:\\Users\\arcem\\AppData\\Local\\Temp\\tmpvnalb39v\\model\\data\\model\\assets\n"
     ]
    },
    {
     "name": "stdout",
     "output_type": "stream",
     "text": [
      "Epoch 1/10\n",
      "5935/5935 [==============================] - 5s 824us/step - loss: 0.0147 - mean_squared_error: 0.0147\n",
      "Epoch 2/10\n",
      "5935/5935 [==============================] - 5s 850us/step - loss: 0.0142 - mean_squared_error: 0.0142\n",
      "Epoch 3/10\n",
      "5935/5935 [==============================] - 5s 818us/step - loss: 0.0142 - mean_squared_error: 0.0142\n",
      "Epoch 4/10\n",
      "5935/5935 [==============================] - 5s 804us/step - loss: 0.0141 - mean_squared_error: 0.0141\n",
      "Epoch 5/10\n",
      "5935/5935 [==============================] - 5s 818us/step - loss: 0.0141 - mean_squared_error: 0.0141\n",
      "Epoch 6/10\n",
      "5935/5935 [==============================] - 5s 810us/step - loss: 0.0141 - mean_squared_error: 0.0141\n",
      "Epoch 7/10\n",
      "5935/5935 [==============================] - 5s 823us/step - loss: 0.0141 - mean_squared_error: 0.0141\n",
      "Epoch 8/10\n",
      "5935/5935 [==============================] - 5s 810us/step - loss: 0.0141 - mean_squared_error: 0.0141\n",
      "Epoch 9/10\n",
      "5935/5935 [==============================] - 5s 821us/step - loss: 0.0141 - mean_squared_error: 0.0141\n",
      "Epoch 10/10\n",
      "5935/5935 [==============================] - 5s 819us/step - loss: 0.0141 - mean_squared_error: 0.0141\n",
      "1484/1484 [==============================] - 1s 669us/step\n"
     ]
    },
    {
     "name": "stderr",
     "output_type": "stream",
     "text": [
      "2024/05/28 19:20:59 WARNING mlflow.tensorflow: You are saving a TensorFlow Core model or Keras model without a signature. Inference with mlflow.pyfunc.spark_udf() will not work unless the model's pyfunc representation accepts pandas DataFrames as inference inputs.\n"
     ]
    },
    {
     "name": "stdout",
     "output_type": "stream",
     "text": [
      "INFO:tensorflow:Assets written to: C:\\Users\\arcem\\AppData\\Local\\Temp\\tmpxt1ixu73\\model\\data\\model\\assets\n"
     ]
    },
    {
     "name": "stderr",
     "output_type": "stream",
     "text": [
      "INFO:tensorflow:Assets written to: C:\\Users\\arcem\\AppData\\Local\\Temp\\tmpxt1ixu73\\model\\data\\model\\assets\n"
     ]
    },
    {
     "name": "stdout",
     "output_type": "stream",
     "text": [
      "Epoch 1/10\n",
      "5935/5935 [==============================] - 5s 831us/step - loss: 0.0148 - mean_squared_error: 0.0148\n",
      "Epoch 2/10\n",
      "5935/5935 [==============================] - 5s 835us/step - loss: 0.0141 - mean_squared_error: 0.0141\n",
      "Epoch 3/10\n",
      "5935/5935 [==============================] - 5s 826us/step - loss: 0.0141 - mean_squared_error: 0.0141\n",
      "Epoch 4/10\n",
      "5935/5935 [==============================] - 5s 864us/step - loss: 0.0140 - mean_squared_error: 0.0140\n",
      "Epoch 5/10\n",
      "5935/5935 [==============================] - 5s 830us/step - loss: 0.0140 - mean_squared_error: 0.0140\n",
      "Epoch 6/10\n",
      "5935/5935 [==============================] - 5s 837us/step - loss: 0.0140 - mean_squared_error: 0.0140\n",
      "Epoch 7/10\n",
      "5935/5935 [==============================] - 5s 826us/step - loss: 0.0140 - mean_squared_error: 0.0140\n",
      "Epoch 8/10\n",
      "5935/5935 [==============================] - 5s 833us/step - loss: 0.0140 - mean_squared_error: 0.0140\n",
      "Epoch 9/10\n",
      "5935/5935 [==============================] - 5s 821us/step - loss: 0.0140 - mean_squared_error: 0.0140\n",
      "Epoch 10/10\n",
      "5935/5935 [==============================] - 5s 828us/step - loss: 0.0140 - mean_squared_error: 0.0140\n",
      "1484/1484 [==============================] - 1s 673us/step\n"
     ]
    },
    {
     "name": "stderr",
     "output_type": "stream",
     "text": [
      "2024/05/28 19:21:56 WARNING mlflow.tensorflow: You are saving a TensorFlow Core model or Keras model without a signature. Inference with mlflow.pyfunc.spark_udf() will not work unless the model's pyfunc representation accepts pandas DataFrames as inference inputs.\n"
     ]
    },
    {
     "name": "stdout",
     "output_type": "stream",
     "text": [
      "INFO:tensorflow:Assets written to: C:\\Users\\arcem\\AppData\\Local\\Temp\\tmpewctqm2j\\model\\data\\model\\assets\n"
     ]
    },
    {
     "name": "stderr",
     "output_type": "stream",
     "text": [
      "INFO:tensorflow:Assets written to: C:\\Users\\arcem\\AppData\\Local\\Temp\\tmpewctqm2j\\model\\data\\model\\assets\n"
     ]
    },
    {
     "name": "stdout",
     "output_type": "stream",
     "text": [
      "Epoch 1/10\n",
      "5935/5935 [==============================] - 5s 839us/step - loss: 0.0147 - mean_squared_error: 0.0147\n",
      "Epoch 2/10\n",
      "5935/5935 [==============================] - 5s 839us/step - loss: 0.0142 - mean_squared_error: 0.0142\n",
      "Epoch 3/10\n",
      "5935/5935 [==============================] - 5s 839us/step - loss: 0.0141 - mean_squared_error: 0.0141\n",
      "Epoch 4/10\n",
      "5935/5935 [==============================] - 5s 839us/step - loss: 0.0140 - mean_squared_error: 0.0140\n",
      "Epoch 5/10\n",
      "5935/5935 [==============================] - 5s 846us/step - loss: 0.0140 - mean_squared_error: 0.0140\n",
      "Epoch 6/10\n",
      "5935/5935 [==============================] - 5s 852us/step - loss: 0.0140 - mean_squared_error: 0.0140\n",
      "Epoch 7/10\n",
      "5935/5935 [==============================] - 5s 848us/step - loss: 0.0140 - mean_squared_error: 0.0140\n",
      "Epoch 8/10\n",
      "5935/5935 [==============================] - 5s 841us/step - loss: 0.0140 - mean_squared_error: 0.0140\n",
      "Epoch 9/10\n",
      "5935/5935 [==============================] - 5s 844us/step - loss: 0.0140 - mean_squared_error: 0.0140\n",
      "Epoch 10/10\n",
      "5935/5935 [==============================] - 5s 850us/step - loss: 0.0140 - mean_squared_error: 0.0140\n",
      "1484/1484 [==============================] - 1s 675us/step\n"
     ]
    },
    {
     "name": "stderr",
     "output_type": "stream",
     "text": [
      "2024/05/28 19:22:55 WARNING mlflow.tensorflow: You are saving a TensorFlow Core model or Keras model without a signature. Inference with mlflow.pyfunc.spark_udf() will not work unless the model's pyfunc representation accepts pandas DataFrames as inference inputs.\n"
     ]
    },
    {
     "name": "stdout",
     "output_type": "stream",
     "text": [
      "INFO:tensorflow:Assets written to: C:\\Users\\arcem\\AppData\\Local\\Temp\\tmpjbcmfm9l\\model\\data\\model\\assets\n"
     ]
    },
    {
     "name": "stderr",
     "output_type": "stream",
     "text": [
      "INFO:tensorflow:Assets written to: C:\\Users\\arcem\\AppData\\Local\\Temp\\tmpjbcmfm9l\\model\\data\\model\\assets\n"
     ]
    },
    {
     "name": "stdout",
     "output_type": "stream",
     "text": [
      "Epoch 1/10\n",
      "5935/5935 [==============================] - 5s 834us/step - loss: 0.0147 - mean_squared_error: 0.0147\n",
      "Epoch 2/10\n",
      "5935/5935 [==============================] - 5s 827us/step - loss: 0.0142 - mean_squared_error: 0.0142\n",
      "Epoch 3/10\n",
      "5935/5935 [==============================] - 5s 851us/step - loss: 0.0142 - mean_squared_error: 0.0142\n",
      "Epoch 4/10\n",
      "5935/5935 [==============================] - 5s 853us/step - loss: 0.0141 - mean_squared_error: 0.0141\n",
      "Epoch 5/10\n",
      "5935/5935 [==============================] - 5s 823us/step - loss: 0.0142 - mean_squared_error: 0.0142\n",
      "Epoch 6/10\n",
      "5935/5935 [==============================] - 5s 846us/step - loss: 0.0141 - mean_squared_error: 0.0141\n",
      "Epoch 7/10\n",
      "5935/5935 [==============================] - 5s 844us/step - loss: 0.0141 - mean_squared_error: 0.0141\n",
      "Epoch 8/10\n",
      "5935/5935 [==============================] - 5s 838us/step - loss: 0.0141 - mean_squared_error: 0.0141\n",
      "Epoch 9/10\n",
      "5935/5935 [==============================] - 5s 846us/step - loss: 0.0141 - mean_squared_error: 0.0141\n",
      "Epoch 10/10\n",
      "5935/5935 [==============================] - 5s 832us/step - loss: 0.0141 - mean_squared_error: 0.0141\n",
      "1484/1484 [==============================] - 1s 682us/step\n"
     ]
    },
    {
     "name": "stderr",
     "output_type": "stream",
     "text": [
      "2024/05/28 19:23:53 WARNING mlflow.tensorflow: You are saving a TensorFlow Core model or Keras model without a signature. Inference with mlflow.pyfunc.spark_udf() will not work unless the model's pyfunc representation accepts pandas DataFrames as inference inputs.\n"
     ]
    },
    {
     "name": "stdout",
     "output_type": "stream",
     "text": [
      "INFO:tensorflow:Assets written to: C:\\Users\\arcem\\AppData\\Local\\Temp\\tmpjndtxmzw\\model\\data\\model\\assets\n"
     ]
    },
    {
     "name": "stderr",
     "output_type": "stream",
     "text": [
      "INFO:tensorflow:Assets written to: C:\\Users\\arcem\\AppData\\Local\\Temp\\tmpjndtxmzw\\model\\data\\model\\assets\n"
     ]
    },
    {
     "name": "stdout",
     "output_type": "stream",
     "text": [
      "Epoch 1/10\n",
      "5935/5935 [==============================] - 5s 824us/step - loss: 0.0147 - mean_squared_error: 0.0147\n",
      "Epoch 2/10\n",
      "5935/5935 [==============================] - 5s 828us/step - loss: 0.0142 - mean_squared_error: 0.0142\n",
      "Epoch 3/10\n",
      "5935/5935 [==============================] - 5s 819us/step - loss: 0.0141 - mean_squared_error: 0.0141\n",
      "Epoch 4/10\n",
      "5935/5935 [==============================] - 5s 830us/step - loss: 0.0141 - mean_squared_error: 0.0141\n",
      "Epoch 5/10\n",
      "5935/5935 [==============================] - 5s 825us/step - loss: 0.0141 - mean_squared_error: 0.0141\n",
      "Epoch 6/10\n",
      "5935/5935 [==============================] - 5s 832us/step - loss: 0.0141 - mean_squared_error: 0.0141\n",
      "Epoch 7/10\n",
      "5935/5935 [==============================] - 5s 823us/step - loss: 0.0141 - mean_squared_error: 0.0141\n",
      "Epoch 8/10\n",
      "5935/5935 [==============================] - 5s 831us/step - loss: 0.0141 - mean_squared_error: 0.0141\n",
      "Epoch 9/10\n",
      "5935/5935 [==============================] - 5s 824us/step - loss: 0.0141 - mean_squared_error: 0.0141\n",
      "Epoch 10/10\n",
      "5935/5935 [==============================] - 5s 832us/step - loss: 0.0141 - mean_squared_error: 0.0141\n",
      "1484/1484 [==============================] - 1s 688us/step\n"
     ]
    },
    {
     "name": "stderr",
     "output_type": "stream",
     "text": [
      "2024/05/28 19:24:51 WARNING mlflow.tensorflow: You are saving a TensorFlow Core model or Keras model without a signature. Inference with mlflow.pyfunc.spark_udf() will not work unless the model's pyfunc representation accepts pandas DataFrames as inference inputs.\n"
     ]
    },
    {
     "name": "stdout",
     "output_type": "stream",
     "text": [
      "INFO:tensorflow:Assets written to: C:\\Users\\arcem\\AppData\\Local\\Temp\\tmpm8agl283\\model\\data\\model\\assets\n"
     ]
    },
    {
     "name": "stderr",
     "output_type": "stream",
     "text": [
      "INFO:tensorflow:Assets written to: C:\\Users\\arcem\\AppData\\Local\\Temp\\tmpm8agl283\\model\\data\\model\\assets\n"
     ]
    },
    {
     "name": "stdout",
     "output_type": "stream",
     "text": [
      "Epoch 1/10\n",
      "5935/5935 [==============================] - 5s 826us/step - loss: 0.0147 - mean_squared_error: 0.0147\n",
      "Epoch 2/10\n",
      "5935/5935 [==============================] - 5s 834us/step - loss: 0.0141 - mean_squared_error: 0.0141\n",
      "Epoch 3/10\n",
      "5935/5935 [==============================] - 5s 834us/step - loss: 0.0140 - mean_squared_error: 0.0140\n",
      "Epoch 4/10\n",
      "5935/5935 [==============================] - 5s 823us/step - loss: 0.0140 - mean_squared_error: 0.0140\n",
      "Epoch 5/10\n",
      "5935/5935 [==============================] - 5s 838us/step - loss: 0.0140 - mean_squared_error: 0.0140\n",
      "Epoch 6/10\n",
      "5935/5935 [==============================] - 5s 846us/step - loss: 0.0140 - mean_squared_error: 0.0140\n",
      "Epoch 7/10\n",
      "5935/5935 [==============================] - 5s 846us/step - loss: 0.0140 - mean_squared_error: 0.0140\n",
      "Epoch 8/10\n",
      "5935/5935 [==============================] - 5s 818us/step - loss: 0.0140 - mean_squared_error: 0.0140\n",
      "Epoch 9/10\n",
      "5935/5935 [==============================] - 5s 835us/step - loss: 0.0140 - mean_squared_error: 0.0140\n",
      "Epoch 10/10\n",
      "5935/5935 [==============================] - 5s 827us/step - loss: 0.0139 - mean_squared_error: 0.0139\n",
      "1484/1484 [==============================] - 1s 692us/step\n"
     ]
    },
    {
     "name": "stderr",
     "output_type": "stream",
     "text": [
      "2024/05/28 19:25:49 WARNING mlflow.tensorflow: You are saving a TensorFlow Core model or Keras model without a signature. Inference with mlflow.pyfunc.spark_udf() will not work unless the model's pyfunc representation accepts pandas DataFrames as inference inputs.\n"
     ]
    },
    {
     "name": "stdout",
     "output_type": "stream",
     "text": [
      "INFO:tensorflow:Assets written to: C:\\Users\\arcem\\AppData\\Local\\Temp\\tmp9bm7xlta\\model\\data\\model\\assets\n"
     ]
    },
    {
     "name": "stderr",
     "output_type": "stream",
     "text": [
      "INFO:tensorflow:Assets written to: C:\\Users\\arcem\\AppData\\Local\\Temp\\tmp9bm7xlta\\model\\data\\model\\assets\n"
     ]
    },
    {
     "name": "stdout",
     "output_type": "stream",
     "text": [
      "Epoch 1/10\n",
      "5935/5935 [==============================] - 5s 852us/step - loss: 0.0147 - mean_squared_error: 0.0147\n",
      "Epoch 2/10\n",
      "5935/5935 [==============================] - 5s 854us/step - loss: 0.0142 - mean_squared_error: 0.0142\n",
      "Epoch 3/10\n",
      "5935/5935 [==============================] - 5s 855us/step - loss: 0.0142 - mean_squared_error: 0.0142\n",
      "Epoch 4/10\n",
      "5935/5935 [==============================] - 5s 867us/step - loss: 0.0142 - mean_squared_error: 0.0142\n",
      "Epoch 5/10\n",
      "5935/5935 [==============================] - 5s 873us/step - loss: 0.0141 - mean_squared_error: 0.0141\n",
      "Epoch 6/10\n",
      "5935/5935 [==============================] - 5s 843us/step - loss: 0.0141 - mean_squared_error: 0.0141\n",
      "Epoch 7/10\n",
      "5935/5935 [==============================] - 5s 852us/step - loss: 0.0141 - mean_squared_error: 0.0141\n",
      "Epoch 8/10\n",
      "5935/5935 [==============================] - 5s 847us/step - loss: 0.0141 - mean_squared_error: 0.0141\n",
      "Epoch 9/10\n",
      "5935/5935 [==============================] - 5s 861us/step - loss: 0.0141 - mean_squared_error: 0.0141\n",
      "Epoch 10/10\n",
      "5935/5935 [==============================] - 5s 853us/step - loss: 0.0141 - mean_squared_error: 0.0141\n",
      "1484/1484 [==============================] - 1s 689us/step\n"
     ]
    },
    {
     "name": "stderr",
     "output_type": "stream",
     "text": [
      "2024/05/28 19:26:49 WARNING mlflow.tensorflow: You are saving a TensorFlow Core model or Keras model without a signature. Inference with mlflow.pyfunc.spark_udf() will not work unless the model's pyfunc representation accepts pandas DataFrames as inference inputs.\n"
     ]
    },
    {
     "name": "stdout",
     "output_type": "stream",
     "text": [
      "INFO:tensorflow:Assets written to: C:\\Users\\arcem\\AppData\\Local\\Temp\\tmp_ps2a2bm\\model\\data\\model\\assets\n"
     ]
    },
    {
     "name": "stderr",
     "output_type": "stream",
     "text": [
      "INFO:tensorflow:Assets written to: C:\\Users\\arcem\\AppData\\Local\\Temp\\tmp_ps2a2bm\\model\\data\\model\\assets\n"
     ]
    },
    {
     "name": "stdout",
     "output_type": "stream",
     "text": [
      "Epoch 1/10\n",
      "5935/5935 [==============================] - 5s 843us/step - loss: 0.0149 - mean_squared_error: 0.0149\n",
      "Epoch 2/10\n",
      "5935/5935 [==============================] - 5s 853us/step - loss: 0.0143 - mean_squared_error: 0.0143\n",
      "Epoch 3/10\n",
      "5935/5935 [==============================] - 5s 859us/step - loss: 0.0142 - mean_squared_error: 0.0142\n",
      "Epoch 4/10\n",
      "5935/5935 [==============================] - 5s 857us/step - loss: 0.0142 - mean_squared_error: 0.0142\n",
      "Epoch 5/10\n",
      "5935/5935 [==============================] - 5s 853us/step - loss: 0.0141 - mean_squared_error: 0.0141\n",
      "Epoch 6/10\n",
      "5935/5935 [==============================] - 5s 875us/step - loss: 0.0141 - mean_squared_error: 0.0141\n",
      "Epoch 7/10\n",
      "5935/5935 [==============================] - 5s 861us/step - loss: 0.0141 - mean_squared_error: 0.0141\n",
      "Epoch 8/10\n",
      "5935/5935 [==============================] - 5s 861us/step - loss: 0.0141 - mean_squared_error: 0.0141\n",
      "Epoch 9/10\n",
      "5935/5935 [==============================] - 5s 858us/step - loss: 0.0141 - mean_squared_error: 0.0141\n",
      "Epoch 10/10\n",
      "5935/5935 [==============================] - 5s 855us/step - loss: 0.0141 - mean_squared_error: 0.0141\n",
      "1484/1484 [==============================] - 1s 684us/step\n"
     ]
    },
    {
     "name": "stderr",
     "output_type": "stream",
     "text": [
      "2024/05/28 19:27:48 WARNING mlflow.tensorflow: You are saving a TensorFlow Core model or Keras model without a signature. Inference with mlflow.pyfunc.spark_udf() will not work unless the model's pyfunc representation accepts pandas DataFrames as inference inputs.\n"
     ]
    },
    {
     "name": "stdout",
     "output_type": "stream",
     "text": [
      "INFO:tensorflow:Assets written to: C:\\Users\\arcem\\AppData\\Local\\Temp\\tmprck04ks0\\model\\data\\model\\assets\n"
     ]
    },
    {
     "name": "stderr",
     "output_type": "stream",
     "text": [
      "INFO:tensorflow:Assets written to: C:\\Users\\arcem\\AppData\\Local\\Temp\\tmprck04ks0\\model\\data\\model\\assets\n"
     ]
    },
    {
     "name": "stdout",
     "output_type": "stream",
     "text": [
      "Epoch 1/10\n",
      "5935/5935 [==============================] - 6s 864us/step - loss: 0.0146 - mean_squared_error: 0.0146\n",
      "Epoch 2/10\n",
      "5935/5935 [==============================] - 5s 836us/step - loss: 0.0141 - mean_squared_error: 0.0141\n",
      "Epoch 3/10\n",
      "5935/5935 [==============================] - 5s 844us/step - loss: 0.0141 - mean_squared_error: 0.0141\n",
      "Epoch 4/10\n",
      "5935/5935 [==============================] - 5s 827us/step - loss: 0.0140 - mean_squared_error: 0.0140\n",
      "Epoch 5/10\n",
      "5935/5935 [==============================] - 5s 845us/step - loss: 0.0140 - mean_squared_error: 0.0140\n",
      "Epoch 6/10\n",
      "5935/5935 [==============================] - 5s 835us/step - loss: 0.0140 - mean_squared_error: 0.0140\n",
      "Epoch 7/10\n",
      "5935/5935 [==============================] - 5s 839us/step - loss: 0.0140 - mean_squared_error: 0.0140\n",
      "Epoch 8/10\n",
      "5935/5935 [==============================] - 5s 842us/step - loss: 0.0140 - mean_squared_error: 0.0140\n",
      "Epoch 9/10\n",
      "5935/5935 [==============================] - 5s 829us/step - loss: 0.0140 - mean_squared_error: 0.0140\n",
      "Epoch 10/10\n",
      "5935/5935 [==============================] - 5s 839us/step - loss: 0.0140 - mean_squared_error: 0.0140\n",
      "1484/1484 [==============================] - 1s 684us/step\n"
     ]
    },
    {
     "name": "stderr",
     "output_type": "stream",
     "text": [
      "2024/05/28 19:28:46 WARNING mlflow.tensorflow: You are saving a TensorFlow Core model or Keras model without a signature. Inference with mlflow.pyfunc.spark_udf() will not work unless the model's pyfunc representation accepts pandas DataFrames as inference inputs.\n"
     ]
    },
    {
     "name": "stdout",
     "output_type": "stream",
     "text": [
      "INFO:tensorflow:Assets written to: C:\\Users\\arcem\\AppData\\Local\\Temp\\tmp_q25y8ju\\model\\data\\model\\assets\n"
     ]
    },
    {
     "name": "stderr",
     "output_type": "stream",
     "text": [
      "INFO:tensorflow:Assets written to: C:\\Users\\arcem\\AppData\\Local\\Temp\\tmp_q25y8ju\\model\\data\\model\\assets\n"
     ]
    },
    {
     "name": "stdout",
     "output_type": "stream",
     "text": [
      "Epoch 1/10\n",
      "5935/5935 [==============================] - 5s 853us/step - loss: 0.0147 - mean_squared_error: 0.0147\n",
      "Epoch 2/10\n",
      "5935/5935 [==============================] - 5s 868us/step - loss: 0.0142 - mean_squared_error: 0.0142\n",
      "Epoch 3/10\n",
      "5935/5935 [==============================] - 5s 865us/step - loss: 0.0142 - mean_squared_error: 0.0142\n",
      "Epoch 4/10\n",
      "5935/5935 [==============================] - 5s 854us/step - loss: 0.0142 - mean_squared_error: 0.0142\n",
      "Epoch 5/10\n",
      "5935/5935 [==============================] - 5s 854us/step - loss: 0.0141 - mean_squared_error: 0.0141\n",
      "Epoch 6/10\n",
      "5935/5935 [==============================] - 5s 854us/step - loss: 0.0141 - mean_squared_error: 0.0141\n",
      "Epoch 7/10\n",
      "5935/5935 [==============================] - 5s 857us/step - loss: 0.0141 - mean_squared_error: 0.0141\n",
      "Epoch 8/10\n",
      "5935/5935 [==============================] - 5s 850us/step - loss: 0.0141 - mean_squared_error: 0.0141\n",
      "Epoch 9/10\n",
      "5935/5935 [==============================] - 5s 868us/step - loss: 0.0141 - mean_squared_error: 0.0141\n",
      "Epoch 10/10\n",
      "5935/5935 [==============================] - 5s 853us/step - loss: 0.0141 - mean_squared_error: 0.0141\n",
      "1484/1484 [==============================] - 1s 719us/step\n"
     ]
    },
    {
     "name": "stderr",
     "output_type": "stream",
     "text": [
      "2024/05/28 19:29:45 WARNING mlflow.tensorflow: You are saving a TensorFlow Core model or Keras model without a signature. Inference with mlflow.pyfunc.spark_udf() will not work unless the model's pyfunc representation accepts pandas DataFrames as inference inputs.\n"
     ]
    },
    {
     "name": "stdout",
     "output_type": "stream",
     "text": [
      "INFO:tensorflow:Assets written to: C:\\Users\\arcem\\AppData\\Local\\Temp\\tmpd7j41pm8\\model\\data\\model\\assets\n"
     ]
    },
    {
     "name": "stderr",
     "output_type": "stream",
     "text": [
      "INFO:tensorflow:Assets written to: C:\\Users\\arcem\\AppData\\Local\\Temp\\tmpd7j41pm8\\model\\data\\model\\assets\n"
     ]
    },
    {
     "name": "stdout",
     "output_type": "stream",
     "text": [
      "Epoch 1/10\n",
      "5935/5935 [==============================] - 6s 850us/step - loss: 0.0147 - mean_squared_error: 0.0147\n",
      "Epoch 2/10\n",
      "5935/5935 [==============================] - 5s 867us/step - loss: 0.0142 - mean_squared_error: 0.0142\n",
      "Epoch 3/10\n",
      "5935/5935 [==============================] - 5s 866us/step - loss: 0.0141 - mean_squared_error: 0.0141\n",
      "Epoch 4/10\n",
      "5935/5935 [==============================] - 5s 867us/step - loss: 0.0140 - mean_squared_error: 0.0140\n",
      "Epoch 5/10\n",
      "5935/5935 [==============================] - 5s 883us/step - loss: 0.0140 - mean_squared_error: 0.0140\n",
      "Epoch 6/10\n",
      "5935/5935 [==============================] - 5s 849us/step - loss: 0.0140 - mean_squared_error: 0.0140\n",
      "Epoch 7/10\n",
      "5935/5935 [==============================] - 5s 870us/step - loss: 0.0140 - mean_squared_error: 0.0140\n",
      "Epoch 8/10\n",
      "5935/5935 [==============================] - 5s 902us/step - loss: 0.0140 - mean_squared_error: 0.0140\n",
      "Epoch 9/10\n",
      "5935/5935 [==============================] - 5s 899us/step - loss: 0.0140 - mean_squared_error: 0.0140\n",
      "Epoch 10/10\n",
      "5935/5935 [==============================] - 6s 935us/step - loss: 0.0140 - mean_squared_error: 0.0140\n",
      "1484/1484 [==============================] - 1s 769us/step\n"
     ]
    },
    {
     "name": "stderr",
     "output_type": "stream",
     "text": [
      "2024/05/28 19:30:46 WARNING mlflow.tensorflow: You are saving a TensorFlow Core model or Keras model without a signature. Inference with mlflow.pyfunc.spark_udf() will not work unless the model's pyfunc representation accepts pandas DataFrames as inference inputs.\n"
     ]
    },
    {
     "name": "stdout",
     "output_type": "stream",
     "text": [
      "INFO:tensorflow:Assets written to: C:\\Users\\arcem\\AppData\\Local\\Temp\\tmphjppk1z2\\model\\data\\model\\assets\n"
     ]
    },
    {
     "name": "stderr",
     "output_type": "stream",
     "text": [
      "INFO:tensorflow:Assets written to: C:\\Users\\arcem\\AppData\\Local\\Temp\\tmphjppk1z2\\model\\data\\model\\assets\n"
     ]
    },
    {
     "name": "stdout",
     "output_type": "stream",
     "text": [
      "Epoch 1/10\n",
      "5935/5935 [==============================] - 6s 956us/step - loss: 0.0146 - mean_squared_error: 0.0146\n",
      "Epoch 2/10\n",
      "5935/5935 [==============================] - 6s 951us/step - loss: 0.0141 - mean_squared_error: 0.0141\n",
      "Epoch 3/10\n",
      "5935/5935 [==============================] - 6s 943us/step - loss: 0.0140 - mean_squared_error: 0.0140\n",
      "Epoch 4/10\n",
      "5935/5935 [==============================] - 6s 956us/step - loss: 0.0140 - mean_squared_error: 0.0140\n",
      "Epoch 5/10\n",
      "5935/5935 [==============================] - 6s 952us/step - loss: 0.0140 - mean_squared_error: 0.0140\n",
      "Epoch 6/10\n",
      "5935/5935 [==============================] - 6s 942us/step - loss: 0.0140 - mean_squared_error: 0.0140\n",
      "Epoch 7/10\n",
      "5935/5935 [==============================] - 6s 957us/step - loss: 0.0140 - mean_squared_error: 0.0140\n",
      "Epoch 8/10\n",
      "5935/5935 [==============================] - 6s 954us/step - loss: 0.0140 - mean_squared_error: 0.0140\n",
      "Epoch 9/10\n",
      "5935/5935 [==============================] - 6s 962us/step - loss: 0.0140 - mean_squared_error: 0.0140\n",
      "Epoch 10/10\n",
      "5935/5935 [==============================] - 6s 1ms/step - loss: 0.0139 - mean_squared_error: 0.0139\n",
      "1484/1484 [==============================] - 1s 747us/step\n"
     ]
    },
    {
     "name": "stderr",
     "output_type": "stream",
     "text": [
      "2024/05/28 19:31:52 WARNING mlflow.tensorflow: You are saving a TensorFlow Core model or Keras model without a signature. Inference with mlflow.pyfunc.spark_udf() will not work unless the model's pyfunc representation accepts pandas DataFrames as inference inputs.\n"
     ]
    },
    {
     "name": "stdout",
     "output_type": "stream",
     "text": [
      "INFO:tensorflow:Assets written to: C:\\Users\\arcem\\AppData\\Local\\Temp\\tmpwzb_tx_s\\model\\data\\model\\assets\n"
     ]
    },
    {
     "name": "stderr",
     "output_type": "stream",
     "text": [
      "INFO:tensorflow:Assets written to: C:\\Users\\arcem\\AppData\\Local\\Temp\\tmpwzb_tx_s\\model\\data\\model\\assets\n"
     ]
    }
   ],
   "source": [
    "import mlflow\n",
    "import numpy as np\n",
    "from sklearn.preprocessing import MinMaxScaler\n",
    "from keras.models import Sequential\n",
    "from keras.layers import Dense\n",
    "from keras import optimizers\n",
    "from sklearn.model_selection import train_test_split\n",
    "from sklearn.metrics import r2_score\n",
    "\n",
    "\n",
    "X_train, X_test, y_train, y_test = train_test_split(X, y, test_size=0.2, random_state=42)\n",
    "\n",
    "input_scaler = MinMaxScaler(feature_range=(0, 1))\n",
    "x_scaled_train = input_scaler.fit_transform(X_train)\n",
    "x_scaled_test = input_scaler.transform(X_test)\n",
    "\n",
    "y_train = y_train.to_numpy().reshape(-1, 1)  \n",
    "response_scaler = MinMaxScaler(feature_range=(0, 1))\n",
    "y_scaled_train = response_scaler.fit_transform(y_train)\n",
    "\n",
    "embedding_sizes = [10, 20, 30, 40]\n",
    "intermediate_sizes = [50, 100, 150, 200]\n",
    "epochs = 10  \n",
    "\n",
    "for embedding_size in embedding_sizes:\n",
    "    for intermediate_size in intermediate_sizes:\n",
    "        with mlflow.start_run():\n",
    "            params = {\n",
    "                \"epochs\": epochs,\n",
    "                \"embedding_layer_size\": embedding_size,\n",
    "                \"hidden_layer_size\": intermediate_size,\n",
    "                \"neuron_activation\": \"relu\",\n",
    "                \"weight_init\": \"uniform\",\n",
    "                \"learning_rate\": 0.01\n",
    "            }\n",
    "            mlflow.log_params(params)\n",
    "\n",
    "            model = Sequential()\n",
    "            model.add(Dense(embedding_size, activation=params['neuron_activation'],\n",
    "                            kernel_initializer=params['weight_init'], input_shape=(x_scaled_train.shape[1],)))\n",
    "            model.add(Dense(intermediate_size, activation=params['neuron_activation']))\n",
    "            model.add(Dense(1, activation=\"linear\"))\n",
    "\n",
    "            optimizer = optimizers.Adam(learning_rate=params['learning_rate'])\n",
    "            model.compile(loss=\"mean_squared_error\", optimizer=optimizer, metrics=[\"mean_squared_error\"])\n",
    "\n",
    "            history = model.fit(x_scaled_train, y_scaled_train, epochs=epochs, verbose=1)\n",
    "\n",
    "            predictions_scaled = model.predict(x_scaled_test)\n",
    "            predictions = response_scaler.inverse_transform(predictions_scaled).flatten()\n",
    "\n",
    "            r2_out_of_sample = r2_score(y_test, predictions)  \n",
    "            mlflow.log_metric(\"R2_out_of_sample\", r2_out_of_sample)\n",
    "\n",
    "            mlflow.keras.log_model(model, \"model\")\n",
    "\n",
    "            mlflow.end_run()\n"
   ]
  },
  {
   "cell_type": "markdown",
   "metadata": {},
   "source": [
    "Se busca el mejor resultado de ejecución utilizando MLflow. Se ordenan las ejecuciones por el puntaje R2 fuera de la muestra de manera descendente y se selecciona la mejor ejecución. Luego, se imprimen el ID de la mejor ejecución, el puntaje R2 y los detalles del modelo si hay una ejecución disponible. Si no se encuentra ninguna ejecución, se muestra un mensaje indicando que no se encontraron ejecuciones.\n"
   ]
  },
  {
   "cell_type": "code",
   "execution_count": 42,
   "metadata": {},
   "outputs": [
    {
     "name": "stdout",
     "output_type": "stream",
     "text": [
      "Best Run ID: 014eb0f346c4417daf445379a01b058e\n",
      "Best R2 Score: 0.5587932751503721\n",
      "Model Details:\n",
      "  params.embedding_layer_size params.hidden_layer_size params.learning_rate\n",
      "0                          20                      150                 0.01\n"
     ]
    }
   ],
   "source": [
    "import mlflow\n",
    "\n",
    "\n",
    "best_run = mlflow.search_runs(\n",
    "    order_by=[\"metrics.R2_out_of_sample DESC\"],\n",
    "    max_results=1\n",
    ")\n",
    "\n",
    "if not best_run.empty:\n",
    "    best_run_id = best_run.iloc[0]['run_id']\n",
    "    best_r2_score = best_run.iloc[0]['metrics.R2_out_of_sample']\n",
    "    \n",
    "    print(\"Best Run ID:\", best_run_id)\n",
    "    print(\"Best R2 Score:\", best_r2_score)\n",
    "    print(\"Model Details:\")\n",
    "    print(best_run[['params.embedding_layer_size', 'params.hidden_layer_size', 'params.learning_rate']])\n",
    "else:\n",
    "    print(\"No runs found. Make sure your experiment has completed successfully.\")\n"
   ]
  },
  {
   "cell_type": "markdown",
   "metadata": {},
   "source": [
    "Se opera con el conjunto de datos de prueba y se visualizan las predicciones promedio por estrato de vivienda.\n"
   ]
  },
  {
   "cell_type": "code",
   "execution_count": 44,
   "metadata": {},
   "outputs": [
    {
     "name": "stdout",
     "output_type": "stream",
     "text": [
      "Model: \"sequential_27\"\n",
      "_________________________________________________________________\n",
      " Layer (type)                Output Shape              Param #   \n",
      "=================================================================\n",
      " dense_81 (Dense)            (None, 40)                2320      \n",
      "                                                                 \n",
      " dense_82 (Dense)            (None, 200)               8200      \n",
      "                                                                 \n",
      " dense_83 (Dense)            (None, 1)                 201       \n",
      "                                                                 \n",
      "=================================================================\n",
      "Total params: 10721 (41.88 KB)\n",
      "Trainable params: 10721 (41.88 KB)\n",
      "Non-trainable params: 0 (0.00 Byte)\n",
      "_________________________________________________________________\n",
      "1484/1484 [==============================] - 1s 697us/step\n"
     ]
    },
    {
     "data": {
      "application/vnd.plotly.v1+json": {
       "config": {
        "plotlyServerURL": "https://plot.ly"
       },
       "data": [
        {
         "marker": {
          "color": "blue",
          "line": {
           "color": "white",
           "width": 2
          }
         },
         "type": "bar",
         "width": 0.3,
         "x": [
          1,
          2,
          3,
          4,
          5,
          6
         ],
         "y": [
          242.5208282470703,
          262.63409423828125,
          278.0965881347656,
          299.73712158203125,
          308.203857421875,
          325.0999755859375
         ]
        }
       ],
       "layout": {
        "annotations": [
         {
          "showarrow": false,
          "text": "242.521",
          "x": 1,
          "y": 242.5208282470703,
          "yshift": 10
         },
         {
          "showarrow": false,
          "text": "262.634",
          "x": 2,
          "y": 262.63409423828125,
          "yshift": 10
         },
         {
          "showarrow": false,
          "text": "278.097",
          "x": 3,
          "y": 278.0965881347656,
          "yshift": 10
         },
         {
          "showarrow": false,
          "text": "299.737",
          "x": 4,
          "y": 299.73712158203125,
          "yshift": 10
         },
         {
          "showarrow": false,
          "text": "308.204",
          "x": 5,
          "y": 308.203857421875,
          "yshift": 10
         },
         {
          "showarrow": false,
          "text": "325.100",
          "x": 6,
          "y": 325.0999755859375,
          "yshift": 10
         }
        ],
        "template": {
         "data": {
          "bar": [
           {
            "error_x": {
             "color": "#2a3f5f"
            },
            "error_y": {
             "color": "#2a3f5f"
            },
            "marker": {
             "line": {
              "color": "#E5ECF6",
              "width": 0.5
             },
             "pattern": {
              "fillmode": "overlay",
              "size": 10,
              "solidity": 0.2
             }
            },
            "type": "bar"
           }
          ],
          "barpolar": [
           {
            "marker": {
             "line": {
              "color": "#E5ECF6",
              "width": 0.5
             },
             "pattern": {
              "fillmode": "overlay",
              "size": 10,
              "solidity": 0.2
             }
            },
            "type": "barpolar"
           }
          ],
          "carpet": [
           {
            "aaxis": {
             "endlinecolor": "#2a3f5f",
             "gridcolor": "white",
             "linecolor": "white",
             "minorgridcolor": "white",
             "startlinecolor": "#2a3f5f"
            },
            "baxis": {
             "endlinecolor": "#2a3f5f",
             "gridcolor": "white",
             "linecolor": "white",
             "minorgridcolor": "white",
             "startlinecolor": "#2a3f5f"
            },
            "type": "carpet"
           }
          ],
          "choropleth": [
           {
            "colorbar": {
             "outlinewidth": 0,
             "ticks": ""
            },
            "type": "choropleth"
           }
          ],
          "contour": [
           {
            "colorbar": {
             "outlinewidth": 0,
             "ticks": ""
            },
            "colorscale": [
             [
              0,
              "#0d0887"
             ],
             [
              0.1111111111111111,
              "#46039f"
             ],
             [
              0.2222222222222222,
              "#7201a8"
             ],
             [
              0.3333333333333333,
              "#9c179e"
             ],
             [
              0.4444444444444444,
              "#bd3786"
             ],
             [
              0.5555555555555556,
              "#d8576b"
             ],
             [
              0.6666666666666666,
              "#ed7953"
             ],
             [
              0.7777777777777778,
              "#fb9f3a"
             ],
             [
              0.8888888888888888,
              "#fdca26"
             ],
             [
              1,
              "#f0f921"
             ]
            ],
            "type": "contour"
           }
          ],
          "contourcarpet": [
           {
            "colorbar": {
             "outlinewidth": 0,
             "ticks": ""
            },
            "type": "contourcarpet"
           }
          ],
          "heatmap": [
           {
            "colorbar": {
             "outlinewidth": 0,
             "ticks": ""
            },
            "colorscale": [
             [
              0,
              "#0d0887"
             ],
             [
              0.1111111111111111,
              "#46039f"
             ],
             [
              0.2222222222222222,
              "#7201a8"
             ],
             [
              0.3333333333333333,
              "#9c179e"
             ],
             [
              0.4444444444444444,
              "#bd3786"
             ],
             [
              0.5555555555555556,
              "#d8576b"
             ],
             [
              0.6666666666666666,
              "#ed7953"
             ],
             [
              0.7777777777777778,
              "#fb9f3a"
             ],
             [
              0.8888888888888888,
              "#fdca26"
             ],
             [
              1,
              "#f0f921"
             ]
            ],
            "type": "heatmap"
           }
          ],
          "heatmapgl": [
           {
            "colorbar": {
             "outlinewidth": 0,
             "ticks": ""
            },
            "colorscale": [
             [
              0,
              "#0d0887"
             ],
             [
              0.1111111111111111,
              "#46039f"
             ],
             [
              0.2222222222222222,
              "#7201a8"
             ],
             [
              0.3333333333333333,
              "#9c179e"
             ],
             [
              0.4444444444444444,
              "#bd3786"
             ],
             [
              0.5555555555555556,
              "#d8576b"
             ],
             [
              0.6666666666666666,
              "#ed7953"
             ],
             [
              0.7777777777777778,
              "#fb9f3a"
             ],
             [
              0.8888888888888888,
              "#fdca26"
             ],
             [
              1,
              "#f0f921"
             ]
            ],
            "type": "heatmapgl"
           }
          ],
          "histogram": [
           {
            "marker": {
             "pattern": {
              "fillmode": "overlay",
              "size": 10,
              "solidity": 0.2
             }
            },
            "type": "histogram"
           }
          ],
          "histogram2d": [
           {
            "colorbar": {
             "outlinewidth": 0,
             "ticks": ""
            },
            "colorscale": [
             [
              0,
              "#0d0887"
             ],
             [
              0.1111111111111111,
              "#46039f"
             ],
             [
              0.2222222222222222,
              "#7201a8"
             ],
             [
              0.3333333333333333,
              "#9c179e"
             ],
             [
              0.4444444444444444,
              "#bd3786"
             ],
             [
              0.5555555555555556,
              "#d8576b"
             ],
             [
              0.6666666666666666,
              "#ed7953"
             ],
             [
              0.7777777777777778,
              "#fb9f3a"
             ],
             [
              0.8888888888888888,
              "#fdca26"
             ],
             [
              1,
              "#f0f921"
             ]
            ],
            "type": "histogram2d"
           }
          ],
          "histogram2dcontour": [
           {
            "colorbar": {
             "outlinewidth": 0,
             "ticks": ""
            },
            "colorscale": [
             [
              0,
              "#0d0887"
             ],
             [
              0.1111111111111111,
              "#46039f"
             ],
             [
              0.2222222222222222,
              "#7201a8"
             ],
             [
              0.3333333333333333,
              "#9c179e"
             ],
             [
              0.4444444444444444,
              "#bd3786"
             ],
             [
              0.5555555555555556,
              "#d8576b"
             ],
             [
              0.6666666666666666,
              "#ed7953"
             ],
             [
              0.7777777777777778,
              "#fb9f3a"
             ],
             [
              0.8888888888888888,
              "#fdca26"
             ],
             [
              1,
              "#f0f921"
             ]
            ],
            "type": "histogram2dcontour"
           }
          ],
          "mesh3d": [
           {
            "colorbar": {
             "outlinewidth": 0,
             "ticks": ""
            },
            "type": "mesh3d"
           }
          ],
          "parcoords": [
           {
            "line": {
             "colorbar": {
              "outlinewidth": 0,
              "ticks": ""
             }
            },
            "type": "parcoords"
           }
          ],
          "pie": [
           {
            "automargin": true,
            "type": "pie"
           }
          ],
          "scatter": [
           {
            "fillpattern": {
             "fillmode": "overlay",
             "size": 10,
             "solidity": 0.2
            },
            "type": "scatter"
           }
          ],
          "scatter3d": [
           {
            "line": {
             "colorbar": {
              "outlinewidth": 0,
              "ticks": ""
             }
            },
            "marker": {
             "colorbar": {
              "outlinewidth": 0,
              "ticks": ""
             }
            },
            "type": "scatter3d"
           }
          ],
          "scattercarpet": [
           {
            "marker": {
             "colorbar": {
              "outlinewidth": 0,
              "ticks": ""
             }
            },
            "type": "scattercarpet"
           }
          ],
          "scattergeo": [
           {
            "marker": {
             "colorbar": {
              "outlinewidth": 0,
              "ticks": ""
             }
            },
            "type": "scattergeo"
           }
          ],
          "scattergl": [
           {
            "marker": {
             "colorbar": {
              "outlinewidth": 0,
              "ticks": ""
             }
            },
            "type": "scattergl"
           }
          ],
          "scattermapbox": [
           {
            "marker": {
             "colorbar": {
              "outlinewidth": 0,
              "ticks": ""
             }
            },
            "type": "scattermapbox"
           }
          ],
          "scatterpolar": [
           {
            "marker": {
             "colorbar": {
              "outlinewidth": 0,
              "ticks": ""
             }
            },
            "type": "scatterpolar"
           }
          ],
          "scatterpolargl": [
           {
            "marker": {
             "colorbar": {
              "outlinewidth": 0,
              "ticks": ""
             }
            },
            "type": "scatterpolargl"
           }
          ],
          "scatterternary": [
           {
            "marker": {
             "colorbar": {
              "outlinewidth": 0,
              "ticks": ""
             }
            },
            "type": "scatterternary"
           }
          ],
          "surface": [
           {
            "colorbar": {
             "outlinewidth": 0,
             "ticks": ""
            },
            "colorscale": [
             [
              0,
              "#0d0887"
             ],
             [
              0.1111111111111111,
              "#46039f"
             ],
             [
              0.2222222222222222,
              "#7201a8"
             ],
             [
              0.3333333333333333,
              "#9c179e"
             ],
             [
              0.4444444444444444,
              "#bd3786"
             ],
             [
              0.5555555555555556,
              "#d8576b"
             ],
             [
              0.6666666666666666,
              "#ed7953"
             ],
             [
              0.7777777777777778,
              "#fb9f3a"
             ],
             [
              0.8888888888888888,
              "#fdca26"
             ],
             [
              1,
              "#f0f921"
             ]
            ],
            "type": "surface"
           }
          ],
          "table": [
           {
            "cells": {
             "fill": {
              "color": "#EBF0F8"
             },
             "line": {
              "color": "white"
             }
            },
            "header": {
             "fill": {
              "color": "#C8D4E3"
             },
             "line": {
              "color": "white"
             }
            },
            "type": "table"
           }
          ]
         },
         "layout": {
          "annotationdefaults": {
           "arrowcolor": "#2a3f5f",
           "arrowhead": 0,
           "arrowwidth": 1
          },
          "autotypenumbers": "strict",
          "coloraxis": {
           "colorbar": {
            "outlinewidth": 0,
            "ticks": ""
           }
          },
          "colorscale": {
           "diverging": [
            [
             0,
             "#8e0152"
            ],
            [
             0.1,
             "#c51b7d"
            ],
            [
             0.2,
             "#de77ae"
            ],
            [
             0.3,
             "#f1b6da"
            ],
            [
             0.4,
             "#fde0ef"
            ],
            [
             0.5,
             "#f7f7f7"
            ],
            [
             0.6,
             "#e6f5d0"
            ],
            [
             0.7,
             "#b8e186"
            ],
            [
             0.8,
             "#7fbc41"
            ],
            [
             0.9,
             "#4d9221"
            ],
            [
             1,
             "#276419"
            ]
           ],
           "sequential": [
            [
             0,
             "#0d0887"
            ],
            [
             0.1111111111111111,
             "#46039f"
            ],
            [
             0.2222222222222222,
             "#7201a8"
            ],
            [
             0.3333333333333333,
             "#9c179e"
            ],
            [
             0.4444444444444444,
             "#bd3786"
            ],
            [
             0.5555555555555556,
             "#d8576b"
            ],
            [
             0.6666666666666666,
             "#ed7953"
            ],
            [
             0.7777777777777778,
             "#fb9f3a"
            ],
            [
             0.8888888888888888,
             "#fdca26"
            ],
            [
             1,
             "#f0f921"
            ]
           ],
           "sequentialminus": [
            [
             0,
             "#0d0887"
            ],
            [
             0.1111111111111111,
             "#46039f"
            ],
            [
             0.2222222222222222,
             "#7201a8"
            ],
            [
             0.3333333333333333,
             "#9c179e"
            ],
            [
             0.4444444444444444,
             "#bd3786"
            ],
            [
             0.5555555555555556,
             "#d8576b"
            ],
            [
             0.6666666666666666,
             "#ed7953"
            ],
            [
             0.7777777777777778,
             "#fb9f3a"
            ],
            [
             0.8888888888888888,
             "#fdca26"
            ],
            [
             1,
             "#f0f921"
            ]
           ]
          },
          "colorway": [
           "#636efa",
           "#EF553B",
           "#00cc96",
           "#ab63fa",
           "#FFA15A",
           "#19d3f3",
           "#FF6692",
           "#B6E880",
           "#FF97FF",
           "#FECB52"
          ],
          "font": {
           "color": "#2a3f5f"
          },
          "geo": {
           "bgcolor": "white",
           "lakecolor": "white",
           "landcolor": "#E5ECF6",
           "showlakes": true,
           "showland": true,
           "subunitcolor": "white"
          },
          "hoverlabel": {
           "align": "left"
          },
          "hovermode": "closest",
          "mapbox": {
           "style": "light"
          },
          "paper_bgcolor": "white",
          "plot_bgcolor": "#E5ECF6",
          "polar": {
           "angularaxis": {
            "gridcolor": "white",
            "linecolor": "white",
            "ticks": ""
           },
           "bgcolor": "#E5ECF6",
           "radialaxis": {
            "gridcolor": "white",
            "linecolor": "white",
            "ticks": ""
           }
          },
          "scene": {
           "xaxis": {
            "backgroundcolor": "#E5ECF6",
            "gridcolor": "white",
            "gridwidth": 2,
            "linecolor": "white",
            "showbackground": true,
            "ticks": "",
            "zerolinecolor": "white"
           },
           "yaxis": {
            "backgroundcolor": "#E5ECF6",
            "gridcolor": "white",
            "gridwidth": 2,
            "linecolor": "white",
            "showbackground": true,
            "ticks": "",
            "zerolinecolor": "white"
           },
           "zaxis": {
            "backgroundcolor": "#E5ECF6",
            "gridcolor": "white",
            "gridwidth": 2,
            "linecolor": "white",
            "showbackground": true,
            "ticks": "",
            "zerolinecolor": "white"
           }
          },
          "shapedefaults": {
           "line": {
            "color": "#2a3f5f"
           }
          },
          "ternary": {
           "aaxis": {
            "gridcolor": "white",
            "linecolor": "white",
            "ticks": ""
           },
           "baxis": {
            "gridcolor": "white",
            "linecolor": "white",
            "ticks": ""
           },
           "bgcolor": "#E5ECF6",
           "caxis": {
            "gridcolor": "white",
            "linecolor": "white",
            "ticks": ""
           }
          },
          "title": {
           "x": 0.05
          },
          "xaxis": {
           "automargin": true,
           "gridcolor": "white",
           "linecolor": "white",
           "ticks": "",
           "title": {
            "standoff": 15
           },
           "zerolinecolor": "white",
           "zerolinewidth": 2
          },
          "yaxis": {
           "automargin": true,
           "gridcolor": "white",
           "linecolor": "white",
           "ticks": "",
           "title": {
            "standoff": 15
           },
           "zerolinecolor": "white",
           "zerolinewidth": 2
          }
         }
        },
        "title": {
         "text": "Average Model Predictions by Estrato de Vivienda"
        },
        "xaxis": {
         "categoryorder": "total descending",
         "title": {
          "text": "Estrato de Vivienda"
         }
        },
        "yaxis": {
         "title": {
          "text": "Average Prediction"
         }
        }
       }
      }
     },
     "metadata": {},
     "output_type": "display_data"
    }
   ],
   "source": [
    "try:\n",
    "    X_test=X_test.drop(\"predictions\", axis=1)\n",
    "except:\n",
    "    pass\n",
    "\n",
    "\n",
    "best_model=model\n",
    "best_model.summary()\n",
    "\n",
    "X_test[\"tier\"].value_counts()\n",
    "X_test[\"fami_estratovivienda\"].value_counts()\n",
    "\n",
    "X_test[\"fami_estratovivienda\"].value_counts()\n",
    "\n",
    "x_scaled_test = input_scaler.transform(X_test)\n",
    "predictions_scaled = model.predict(x_scaled_test)\n",
    "predictions = response_scaler.inverse_transform(predictions_scaled).flatten()\n",
    "pd.Series(predictions).describe()\n",
    "\n",
    "import pandas as pd\n",
    "import plotly.graph_objects as go\n",
    "\n",
    "X_test[\"predictions\"] = predictions\n",
    "grouped_predictions = X_test.groupby(\"fami_estratovivienda\")[\"predictions\"].mean().reset_index()\n",
    "\n",
    "fig = go.Figure()\n",
    "\n",
    "fig.add_trace(go.Bar(\n",
    "    x=grouped_predictions['fami_estratovivienda'],\n",
    "    y=grouped_predictions['predictions'],\n",
    "    marker=dict(color='blue', line=dict(color='white', width=2)),\n",
    "    width=0.3\n",
    "))\n",
    "\n",
    "for index, row in grouped_predictions.iterrows():\n",
    "    fig.add_annotation(\n",
    "        x=row['fami_estratovivienda'],\n",
    "        y=row['predictions'],\n",
    "        text=f\"{row['predictions']:.3f}\",\n",
    "        showarrow=False,\n",
    "        yshift=10\n",
    "    )\n",
    "\n",
    "fig.update_layout(\n",
    "    xaxis_title=\"Estrato de Vivienda\",\n",
    "    yaxis_title=\"Average Prediction\",\n",
    "    title=\"Average Model Predictions by Estrato de Vivienda\",\n",
    "    xaxis={'categoryorder':'total descending'}\n",
    ")\n",
    "\n",
    "fig.show()"
   ]
  },
  {
   "cell_type": "markdown",
   "metadata": {},
   "source": [
    "Elimina la columna \"predictions\" del DataFrame X_test, en caso de que exista. Si la columna no existe, no se realiza ninguna acción."
   ]
  },
  {
   "cell_type": "code",
   "execution_count": 62,
   "metadata": {},
   "outputs": [],
   "source": [
    "try:\n",
    "    X_test=X_test.drop(\"predictions\", axis=1)\n",
    "except:\n",
    "    pass"
   ]
  },
  {
   "cell_type": "markdown",
   "metadata": {},
   "source": [
    "Se define la función `apply_interventions` que se utiliza para aplicar intervenciones al conjunto de datos.  \n",
    "\n",
    "Se define la función `perform_counterfactual_analysis` la cual realiza un análisis contra-actual utilizando el modelo entrenado. Toma como entrada el conjunto de datos de prueba `X_test`, el escalador de entrada `input_scaler`, el modelo entrenado `model`, el escalador de respuesta `response_scaler` y la lista de intervenciones. Primero, aplica las intervenciones al conjunto de datos de prueba, transforma los datos escalando las características de entrada y realiza predicciones con el modelo, se agregan las predicciones al conjunto de datos intervenido y se calcula el promedio de las predicciones agrupadas por una variable específica, en este caso, \"fami_estratovivienda\". Finalmente, se visualizan las predicciones promedio tanto para el conjunto de datos base como para el conjunto de datos intervenido en un gráfico de barras utilizando la biblioteca Plotly.\n"
   ]
  },
  {
   "cell_type": "code",
   "execution_count": 63,
   "metadata": {},
   "outputs": [
    {
     "name": "stdout",
     "output_type": "stream",
     "text": [
      "1484/1484 [==============================] - 1s 689us/step\n"
     ]
    },
    {
     "data": {
      "application/vnd.plotly.v1+json": {
       "config": {
        "plotlyServerURL": "https://plot.ly"
       },
       "data": [
        {
         "marker": {
          "color": "blue",
          "line": {
           "color": "white",
           "width": 2
          }
         },
         "name": "Baseline",
         "offsetgroup": "0",
         "type": "bar",
         "width": 0.4,
         "x": [
          1,
          2,
          3,
          4,
          5,
          6
         ],
         "y": [
          242.5208282470703,
          262.63409423828125,
          278.0965881347656,
          299.73712158203125,
          308.203857421875,
          325.0999755859375
         ]
        },
        {
         "marker": {
          "color": "red",
          "line": {
           "color": "white",
           "width": 2
          }
         },
         "name": "Intervened",
         "offsetgroup": "1",
         "type": "bar",
         "width": 0.4,
         "x": [
          1.2,
          2.2,
          3.2,
          4.2,
          5.2,
          6.2
         ],
         "y": [
          263.2086486816406,
          274.70135498046875,
          285.0751647949219,
          302.1976623535156,
          309.84051513671875,
          326.55743408203125
         ]
        }
       ],
       "layout": {
        "annotations": [
         {
          "font": {
           "color": "blue"
          },
          "showarrow": false,
          "text": "242.521",
          "x": 1,
          "y": 242.5208282470703,
          "yshift": 10
         },
         {
          "font": {
           "color": "blue"
          },
          "showarrow": false,
          "text": "262.634",
          "x": 2,
          "y": 262.63409423828125,
          "yshift": 10
         },
         {
          "font": {
           "color": "blue"
          },
          "showarrow": false,
          "text": "278.097",
          "x": 3,
          "y": 278.0965881347656,
          "yshift": 10
         },
         {
          "font": {
           "color": "blue"
          },
          "showarrow": false,
          "text": "299.737",
          "x": 4,
          "y": 299.73712158203125,
          "yshift": 10
         },
         {
          "font": {
           "color": "blue"
          },
          "showarrow": false,
          "text": "308.204",
          "x": 5,
          "y": 308.203857421875,
          "yshift": 10
         },
         {
          "font": {
           "color": "blue"
          },
          "showarrow": false,
          "text": "325.100",
          "x": 6,
          "y": 325.0999755859375,
          "yshift": 10
         },
         {
          "font": {
           "color": "red"
          },
          "showarrow": false,
          "text": "263.209",
          "x": 1.2,
          "y": 263.2086486816406,
          "yshift": 10
         },
         {
          "font": {
           "color": "red"
          },
          "showarrow": false,
          "text": "274.701",
          "x": 2.2,
          "y": 274.70135498046875,
          "yshift": 10
         },
         {
          "font": {
           "color": "red"
          },
          "showarrow": false,
          "text": "285.075",
          "x": 3.2,
          "y": 285.0751647949219,
          "yshift": 10
         },
         {
          "font": {
           "color": "red"
          },
          "showarrow": false,
          "text": "302.198",
          "x": 4.2,
          "y": 302.1976623535156,
          "yshift": 10
         },
         {
          "font": {
           "color": "red"
          },
          "showarrow": false,
          "text": "309.841",
          "x": 5.2,
          "y": 309.84051513671875,
          "yshift": 10
         },
         {
          "font": {
           "color": "red"
          },
          "showarrow": false,
          "text": "326.557",
          "x": 6.2,
          "y": 326.55743408203125,
          "yshift": 10
         }
        ],
        "barmode": "group",
        "height": 600,
        "template": {
         "data": {
          "bar": [
           {
            "error_x": {
             "color": "#2a3f5f"
            },
            "error_y": {
             "color": "#2a3f5f"
            },
            "marker": {
             "line": {
              "color": "#E5ECF6",
              "width": 0.5
             },
             "pattern": {
              "fillmode": "overlay",
              "size": 10,
              "solidity": 0.2
             }
            },
            "type": "bar"
           }
          ],
          "barpolar": [
           {
            "marker": {
             "line": {
              "color": "#E5ECF6",
              "width": 0.5
             },
             "pattern": {
              "fillmode": "overlay",
              "size": 10,
              "solidity": 0.2
             }
            },
            "type": "barpolar"
           }
          ],
          "carpet": [
           {
            "aaxis": {
             "endlinecolor": "#2a3f5f",
             "gridcolor": "white",
             "linecolor": "white",
             "minorgridcolor": "white",
             "startlinecolor": "#2a3f5f"
            },
            "baxis": {
             "endlinecolor": "#2a3f5f",
             "gridcolor": "white",
             "linecolor": "white",
             "minorgridcolor": "white",
             "startlinecolor": "#2a3f5f"
            },
            "type": "carpet"
           }
          ],
          "choropleth": [
           {
            "colorbar": {
             "outlinewidth": 0,
             "ticks": ""
            },
            "type": "choropleth"
           }
          ],
          "contour": [
           {
            "colorbar": {
             "outlinewidth": 0,
             "ticks": ""
            },
            "colorscale": [
             [
              0,
              "#0d0887"
             ],
             [
              0.1111111111111111,
              "#46039f"
             ],
             [
              0.2222222222222222,
              "#7201a8"
             ],
             [
              0.3333333333333333,
              "#9c179e"
             ],
             [
              0.4444444444444444,
              "#bd3786"
             ],
             [
              0.5555555555555556,
              "#d8576b"
             ],
             [
              0.6666666666666666,
              "#ed7953"
             ],
             [
              0.7777777777777778,
              "#fb9f3a"
             ],
             [
              0.8888888888888888,
              "#fdca26"
             ],
             [
              1,
              "#f0f921"
             ]
            ],
            "type": "contour"
           }
          ],
          "contourcarpet": [
           {
            "colorbar": {
             "outlinewidth": 0,
             "ticks": ""
            },
            "type": "contourcarpet"
           }
          ],
          "heatmap": [
           {
            "colorbar": {
             "outlinewidth": 0,
             "ticks": ""
            },
            "colorscale": [
             [
              0,
              "#0d0887"
             ],
             [
              0.1111111111111111,
              "#46039f"
             ],
             [
              0.2222222222222222,
              "#7201a8"
             ],
             [
              0.3333333333333333,
              "#9c179e"
             ],
             [
              0.4444444444444444,
              "#bd3786"
             ],
             [
              0.5555555555555556,
              "#d8576b"
             ],
             [
              0.6666666666666666,
              "#ed7953"
             ],
             [
              0.7777777777777778,
              "#fb9f3a"
             ],
             [
              0.8888888888888888,
              "#fdca26"
             ],
             [
              1,
              "#f0f921"
             ]
            ],
            "type": "heatmap"
           }
          ],
          "heatmapgl": [
           {
            "colorbar": {
             "outlinewidth": 0,
             "ticks": ""
            },
            "colorscale": [
             [
              0,
              "#0d0887"
             ],
             [
              0.1111111111111111,
              "#46039f"
             ],
             [
              0.2222222222222222,
              "#7201a8"
             ],
             [
              0.3333333333333333,
              "#9c179e"
             ],
             [
              0.4444444444444444,
              "#bd3786"
             ],
             [
              0.5555555555555556,
              "#d8576b"
             ],
             [
              0.6666666666666666,
              "#ed7953"
             ],
             [
              0.7777777777777778,
              "#fb9f3a"
             ],
             [
              0.8888888888888888,
              "#fdca26"
             ],
             [
              1,
              "#f0f921"
             ]
            ],
            "type": "heatmapgl"
           }
          ],
          "histogram": [
           {
            "marker": {
             "pattern": {
              "fillmode": "overlay",
              "size": 10,
              "solidity": 0.2
             }
            },
            "type": "histogram"
           }
          ],
          "histogram2d": [
           {
            "colorbar": {
             "outlinewidth": 0,
             "ticks": ""
            },
            "colorscale": [
             [
              0,
              "#0d0887"
             ],
             [
              0.1111111111111111,
              "#46039f"
             ],
             [
              0.2222222222222222,
              "#7201a8"
             ],
             [
              0.3333333333333333,
              "#9c179e"
             ],
             [
              0.4444444444444444,
              "#bd3786"
             ],
             [
              0.5555555555555556,
              "#d8576b"
             ],
             [
              0.6666666666666666,
              "#ed7953"
             ],
             [
              0.7777777777777778,
              "#fb9f3a"
             ],
             [
              0.8888888888888888,
              "#fdca26"
             ],
             [
              1,
              "#f0f921"
             ]
            ],
            "type": "histogram2d"
           }
          ],
          "histogram2dcontour": [
           {
            "colorbar": {
             "outlinewidth": 0,
             "ticks": ""
            },
            "colorscale": [
             [
              0,
              "#0d0887"
             ],
             [
              0.1111111111111111,
              "#46039f"
             ],
             [
              0.2222222222222222,
              "#7201a8"
             ],
             [
              0.3333333333333333,
              "#9c179e"
             ],
             [
              0.4444444444444444,
              "#bd3786"
             ],
             [
              0.5555555555555556,
              "#d8576b"
             ],
             [
              0.6666666666666666,
              "#ed7953"
             ],
             [
              0.7777777777777778,
              "#fb9f3a"
             ],
             [
              0.8888888888888888,
              "#fdca26"
             ],
             [
              1,
              "#f0f921"
             ]
            ],
            "type": "histogram2dcontour"
           }
          ],
          "mesh3d": [
           {
            "colorbar": {
             "outlinewidth": 0,
             "ticks": ""
            },
            "type": "mesh3d"
           }
          ],
          "parcoords": [
           {
            "line": {
             "colorbar": {
              "outlinewidth": 0,
              "ticks": ""
             }
            },
            "type": "parcoords"
           }
          ],
          "pie": [
           {
            "automargin": true,
            "type": "pie"
           }
          ],
          "scatter": [
           {
            "fillpattern": {
             "fillmode": "overlay",
             "size": 10,
             "solidity": 0.2
            },
            "type": "scatter"
           }
          ],
          "scatter3d": [
           {
            "line": {
             "colorbar": {
              "outlinewidth": 0,
              "ticks": ""
             }
            },
            "marker": {
             "colorbar": {
              "outlinewidth": 0,
              "ticks": ""
             }
            },
            "type": "scatter3d"
           }
          ],
          "scattercarpet": [
           {
            "marker": {
             "colorbar": {
              "outlinewidth": 0,
              "ticks": ""
             }
            },
            "type": "scattercarpet"
           }
          ],
          "scattergeo": [
           {
            "marker": {
             "colorbar": {
              "outlinewidth": 0,
              "ticks": ""
             }
            },
            "type": "scattergeo"
           }
          ],
          "scattergl": [
           {
            "marker": {
             "colorbar": {
              "outlinewidth": 0,
              "ticks": ""
             }
            },
            "type": "scattergl"
           }
          ],
          "scattermapbox": [
           {
            "marker": {
             "colorbar": {
              "outlinewidth": 0,
              "ticks": ""
             }
            },
            "type": "scattermapbox"
           }
          ],
          "scatterpolar": [
           {
            "marker": {
             "colorbar": {
              "outlinewidth": 0,
              "ticks": ""
             }
            },
            "type": "scatterpolar"
           }
          ],
          "scatterpolargl": [
           {
            "marker": {
             "colorbar": {
              "outlinewidth": 0,
              "ticks": ""
             }
            },
            "type": "scatterpolargl"
           }
          ],
          "scatterternary": [
           {
            "marker": {
             "colorbar": {
              "outlinewidth": 0,
              "ticks": ""
             }
            },
            "type": "scatterternary"
           }
          ],
          "surface": [
           {
            "colorbar": {
             "outlinewidth": 0,
             "ticks": ""
            },
            "colorscale": [
             [
              0,
              "#0d0887"
             ],
             [
              0.1111111111111111,
              "#46039f"
             ],
             [
              0.2222222222222222,
              "#7201a8"
             ],
             [
              0.3333333333333333,
              "#9c179e"
             ],
             [
              0.4444444444444444,
              "#bd3786"
             ],
             [
              0.5555555555555556,
              "#d8576b"
             ],
             [
              0.6666666666666666,
              "#ed7953"
             ],
             [
              0.7777777777777778,
              "#fb9f3a"
             ],
             [
              0.8888888888888888,
              "#fdca26"
             ],
             [
              1,
              "#f0f921"
             ]
            ],
            "type": "surface"
           }
          ],
          "table": [
           {
            "cells": {
             "fill": {
              "color": "#EBF0F8"
             },
             "line": {
              "color": "white"
             }
            },
            "header": {
             "fill": {
              "color": "#C8D4E3"
             },
             "line": {
              "color": "white"
             }
            },
            "type": "table"
           }
          ]
         },
         "layout": {
          "annotationdefaults": {
           "arrowcolor": "#2a3f5f",
           "arrowhead": 0,
           "arrowwidth": 1
          },
          "autotypenumbers": "strict",
          "coloraxis": {
           "colorbar": {
            "outlinewidth": 0,
            "ticks": ""
           }
          },
          "colorscale": {
           "diverging": [
            [
             0,
             "#8e0152"
            ],
            [
             0.1,
             "#c51b7d"
            ],
            [
             0.2,
             "#de77ae"
            ],
            [
             0.3,
             "#f1b6da"
            ],
            [
             0.4,
             "#fde0ef"
            ],
            [
             0.5,
             "#f7f7f7"
            ],
            [
             0.6,
             "#e6f5d0"
            ],
            [
             0.7,
             "#b8e186"
            ],
            [
             0.8,
             "#7fbc41"
            ],
            [
             0.9,
             "#4d9221"
            ],
            [
             1,
             "#276419"
            ]
           ],
           "sequential": [
            [
             0,
             "#0d0887"
            ],
            [
             0.1111111111111111,
             "#46039f"
            ],
            [
             0.2222222222222222,
             "#7201a8"
            ],
            [
             0.3333333333333333,
             "#9c179e"
            ],
            [
             0.4444444444444444,
             "#bd3786"
            ],
            [
             0.5555555555555556,
             "#d8576b"
            ],
            [
             0.6666666666666666,
             "#ed7953"
            ],
            [
             0.7777777777777778,
             "#fb9f3a"
            ],
            [
             0.8888888888888888,
             "#fdca26"
            ],
            [
             1,
             "#f0f921"
            ]
           ],
           "sequentialminus": [
            [
             0,
             "#0d0887"
            ],
            [
             0.1111111111111111,
             "#46039f"
            ],
            [
             0.2222222222222222,
             "#7201a8"
            ],
            [
             0.3333333333333333,
             "#9c179e"
            ],
            [
             0.4444444444444444,
             "#bd3786"
            ],
            [
             0.5555555555555556,
             "#d8576b"
            ],
            [
             0.6666666666666666,
             "#ed7953"
            ],
            [
             0.7777777777777778,
             "#fb9f3a"
            ],
            [
             0.8888888888888888,
             "#fdca26"
            ],
            [
             1,
             "#f0f921"
            ]
           ]
          },
          "colorway": [
           "#636efa",
           "#EF553B",
           "#00cc96",
           "#ab63fa",
           "#FFA15A",
           "#19d3f3",
           "#FF6692",
           "#B6E880",
           "#FF97FF",
           "#FECB52"
          ],
          "font": {
           "color": "#2a3f5f"
          },
          "geo": {
           "bgcolor": "white",
           "lakecolor": "white",
           "landcolor": "#E5ECF6",
           "showlakes": true,
           "showland": true,
           "subunitcolor": "white"
          },
          "hoverlabel": {
           "align": "left"
          },
          "hovermode": "closest",
          "mapbox": {
           "style": "light"
          },
          "paper_bgcolor": "white",
          "plot_bgcolor": "#E5ECF6",
          "polar": {
           "angularaxis": {
            "gridcolor": "white",
            "linecolor": "white",
            "ticks": ""
           },
           "bgcolor": "#E5ECF6",
           "radialaxis": {
            "gridcolor": "white",
            "linecolor": "white",
            "ticks": ""
           }
          },
          "scene": {
           "xaxis": {
            "backgroundcolor": "#E5ECF6",
            "gridcolor": "white",
            "gridwidth": 2,
            "linecolor": "white",
            "showbackground": true,
            "ticks": "",
            "zerolinecolor": "white"
           },
           "yaxis": {
            "backgroundcolor": "#E5ECF6",
            "gridcolor": "white",
            "gridwidth": 2,
            "linecolor": "white",
            "showbackground": true,
            "ticks": "",
            "zerolinecolor": "white"
           },
           "zaxis": {
            "backgroundcolor": "#E5ECF6",
            "gridcolor": "white",
            "gridwidth": 2,
            "linecolor": "white",
            "showbackground": true,
            "ticks": "",
            "zerolinecolor": "white"
           }
          },
          "shapedefaults": {
           "line": {
            "color": "#2a3f5f"
           }
          },
          "ternary": {
           "aaxis": {
            "gridcolor": "white",
            "linecolor": "white",
            "ticks": ""
           },
           "baxis": {
            "gridcolor": "white",
            "linecolor": "white",
            "ticks": ""
           },
           "bgcolor": "#E5ECF6",
           "caxis": {
            "gridcolor": "white",
            "linecolor": "white",
            "ticks": ""
           }
          },
          "title": {
           "x": 0.05
          },
          "xaxis": {
           "automargin": true,
           "gridcolor": "white",
           "linecolor": "white",
           "ticks": "",
           "title": {
            "standoff": 15
           },
           "zerolinecolor": "white",
           "zerolinewidth": 2
          },
          "yaxis": {
           "automargin": true,
           "gridcolor": "white",
           "linecolor": "white",
           "ticks": "",
           "title": {
            "standoff": 15
           },
           "zerolinecolor": "white",
           "zerolinewidth": 2
          }
         }
        },
        "title": {
         "text": "Average Model Predictions by Estrato de Vivienda"
        },
        "width": 1000,
        "xaxis": {
         "categoryorder": "total descending",
         "title": {
          "text": "Estrato de Vivienda"
         }
        },
        "yaxis": {
         "title": {
          "text": "Average Prediction"
         }
        }
       }
      }
     },
     "metadata": {},
     "output_type": "display_data"
    }
   ],
   "source": [
    "import pandas as pd\n",
    "import plotly.graph_objects as go\n",
    "\n",
    "def apply_interventions(X, interventions):\n",
    "    \n",
    "    X_intervened = X.copy()\n",
    "    for intervention in interventions:\n",
    "        for column, value in intervention.items():\n",
    "            X_intervened[column] = value\n",
    "    return X_intervened\n",
    "\n",
    "def perform_counterfactual_analysis(X_test, input_scaler, model, response_scaler, interventions):\n",
    "    \n",
    "    X_test_intervened = apply_interventions(X_test, interventions)\n",
    "\n",
    "    x_scaled_test_intervened = input_scaler.transform(X_test_intervened)\n",
    "\n",
    "    predictions_scaled_intervened = model.predict(x_scaled_test_intervened)\n",
    "    predictions_intervened = response_scaler.inverse_transform(predictions_scaled_intervened).flatten()\n",
    "\n",
    "    X_test_intervened[\"predictions\"] = predictions_intervened\n",
    "\n",
    "    grouped_predictions_intervened = X_test_intervened.groupby(\"fami_estratovivienda\")[\"predictions\"].mean().reset_index()\n",
    "    grouped_predictions_intervened[\"type\"] = \"Intervened\"\n",
    "\n",
    "    fig = go.Figure()\n",
    "\n",
    "    X_test[\"predictions\"] = predictions\n",
    "    grouped_predictions_baseline = X_test.groupby(\"fami_estratovivienda\")[\"predictions\"].mean().reset_index()\n",
    "    grouped_predictions_baseline[\"type\"] = \"Baseline\"\n",
    "\n",
    "    combined_predictions = pd.concat([grouped_predictions_baseline, grouped_predictions_intervened])\n",
    "\n",
    "    fig.add_trace(go.Bar(\n",
    "        x=grouped_predictions_baseline['fami_estratovivienda'],\n",
    "        y=grouped_predictions_baseline['predictions'],\n",
    "        marker=dict(color='blue', line=dict(color='white', width=2)),\n",
    "        width=0.4,  \n",
    "        name='Baseline',\n",
    "        offsetgroup=0\n",
    "    ))\n",
    "\n",
    "    fig.add_trace(go.Bar(\n",
    "        x=grouped_predictions_intervened['fami_estratovivienda'] + 0.2,  \n",
    "        y=grouped_predictions_intervened['predictions'],\n",
    "        marker=dict(color='red', line=dict(color='white', width=2)),\n",
    "        width=0.4,  \n",
    "        name='Intervened',\n",
    "        offsetgroup=1\n",
    "    ))\n",
    "\n",
    "    for index, row in grouped_predictions_baseline.iterrows():\n",
    "        fig.add_annotation(\n",
    "            x=row['fami_estratovivienda'],\n",
    "            y=row['predictions'],\n",
    "            text=f\"{row['predictions']:.3f}\",\n",
    "            showarrow=False,\n",
    "            yshift=10,\n",
    "            font=dict(color='blue')\n",
    "        )\n",
    "\n",
    "    for index, row in grouped_predictions_intervened.iterrows():\n",
    "        fig.add_annotation(\n",
    "            x=row['fami_estratovivienda'] + 0.2,  # Espacio entre barras\n",
    "            y=row['predictions'],\n",
    "            text=f\"{row['predictions']:.3f}\",\n",
    "            showarrow=False,\n",
    "            yshift=10,\n",
    "            font=dict(color='red')\n",
    "        )\n",
    "\n",
    "    fig.update_layout(\n",
    "        xaxis_title=\"Estrato de Vivienda\",\n",
    "        yaxis_title=\"Average Prediction\",\n",
    "        title=\"Average Model Predictions by Estrato de Vivienda\",\n",
    "        xaxis={'categoryorder':'total descending'},\n",
    "        barmode='group',\n",
    "        width=1000,  # Tamaño de la gráfica ajustado\n",
    "        height=600   # Tamaño de la gráfica ajustado\n",
    "    )\n",
    "\n",
    "    fig.show()\n",
    "\n",
    "interventions = [{\"tier\": 5}]\n",
    "perform_counterfactual_analysis(X_test, input_scaler, model, response_scaler, interventions)\n"
   ]
  }
 ],
 "metadata": {
  "kernelspec": {
   "display_name": "Python 3",
   "language": "python",
   "name": "python3"
  },
  "language_info": {
   "codemirror_mode": {
    "name": "ipython",
    "version": 3
   },
   "file_extension": ".py",
   "mimetype": "text/x-python",
   "name": "python",
   "nbconvert_exporter": "python",
   "pygments_lexer": "ipython3",
   "version": "3.11.0"
  }
 },
 "nbformat": 4,
 "nbformat_minor": 2
}
